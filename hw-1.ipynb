{
 "cells": [
  {
   "cell_type": "code",
   "execution_count": 27,
   "metadata": {},
   "outputs": [],
   "source": [
    "import tqdm\n",
    "import gym\n",
    "from collections import defaultdict\n",
    "import matplotlib.pyplot as plt\n",
    "import random\n",
    "import optuna\n",
    "\n",
    "import numpy as np\n",
    "\n",
    "optuna.logging.set_verbosity(optuna.logging.WARNING)"
   ]
  },
  {
   "cell_type": "code",
   "execution_count": 28,
   "metadata": {},
   "outputs": [],
   "source": [
    "env = gym.make('Blackjack-v1', natural=True)"
   ]
  },
  {
   "cell_type": "markdown",
   "metadata": {},
   "source": [
    "**Часть первая, с блекджеком и стратегиями**"
   ]
  },
  {
   "cell_type": "markdown",
   "metadata": {},
   "source": [
    "1. Рассмотрим очень простую стратегию: говорить stand, если у нас на руках комбинация в 19, 20 или 21 очко, во всех остальных случаях говорить hit. Используйте методы Монте-Карло, чтобы оценить выигрыш от этой стратегии."
   ]
  },
  {
   "cell_type": "code",
   "execution_count": 29,
   "metadata": {},
   "outputs": [
    {
     "name": "stderr",
     "output_type": "stream",
     "text": [
      " 16%|█▋        | 164908/1000000 [00:10<00:52, 15893.03it/s]\n"
     ]
    },
    {
     "ename": "KeyboardInterrupt",
     "evalue": "",
     "output_type": "error",
     "traceback": [
      "\u001b[0;31m---------------------------------------------------------------------------\u001b[0m",
      "\u001b[0;31mKeyboardInterrupt\u001b[0m                         Traceback (most recent call last)",
      "\u001b[0;32m<ipython-input-29-6cc7cf99a26c>\u001b[0m in \u001b[0;36m<module>\u001b[0;34m\u001b[0m\n\u001b[1;32m      8\u001b[0m \u001b[0;34m\u001b[0m\u001b[0m\n\u001b[1;32m      9\u001b[0m \u001b[0;32mfor\u001b[0m \u001b[0mitem\u001b[0m \u001b[0;32min\u001b[0m \u001b[0mtqdm\u001b[0m\u001b[0;34m.\u001b[0m\u001b[0mtqdm\u001b[0m\u001b[0;34m(\u001b[0m\u001b[0mrange\u001b[0m\u001b[0;34m(\u001b[0m\u001b[0mnum_episodes\u001b[0m\u001b[0;34m)\u001b[0m\u001b[0;34m)\u001b[0m\u001b[0;34m:\u001b[0m\u001b[0;34m\u001b[0m\u001b[0;34m\u001b[0m\u001b[0m\n\u001b[0;32m---> 10\u001b[0;31m     \u001b[0mstate\u001b[0m \u001b[0;34m=\u001b[0m \u001b[0menv\u001b[0m\u001b[0;34m.\u001b[0m\u001b[0mreset\u001b[0m\u001b[0;34m(\u001b[0m\u001b[0;34m)\u001b[0m\u001b[0;34m\u001b[0m\u001b[0;34m\u001b[0m\u001b[0m\n\u001b[0m\u001b[1;32m     11\u001b[0m     \u001b[0mis_done\u001b[0m \u001b[0;34m=\u001b[0m \u001b[0;32mFalse\u001b[0m\u001b[0;34m\u001b[0m\u001b[0;34m\u001b[0m\u001b[0m\n\u001b[1;32m     12\u001b[0m     \u001b[0;32mwhile\u001b[0m \u001b[0;32mnot\u001b[0m \u001b[0mis_done\u001b[0m\u001b[0;34m:\u001b[0m\u001b[0;34m\u001b[0m\u001b[0;34m\u001b[0m\u001b[0m\n",
      "\u001b[0;32m/opt/anaconda3/lib/python3.7/site-packages/gym/wrappers/order_enforcing.py\u001b[0m in \u001b[0;36mreset\u001b[0;34m(self, **kwargs)\u001b[0m\n\u001b[1;32m     14\u001b[0m     \u001b[0;32mdef\u001b[0m \u001b[0mreset\u001b[0m\u001b[0;34m(\u001b[0m\u001b[0mself\u001b[0m\u001b[0;34m,\u001b[0m \u001b[0;34m**\u001b[0m\u001b[0mkwargs\u001b[0m\u001b[0;34m)\u001b[0m\u001b[0;34m:\u001b[0m\u001b[0;34m\u001b[0m\u001b[0;34m\u001b[0m\u001b[0m\n\u001b[1;32m     15\u001b[0m         \u001b[0mself\u001b[0m\u001b[0;34m.\u001b[0m\u001b[0m_has_reset\u001b[0m \u001b[0;34m=\u001b[0m \u001b[0;32mTrue\u001b[0m\u001b[0;34m\u001b[0m\u001b[0;34m\u001b[0m\u001b[0m\n\u001b[0;32m---> 16\u001b[0;31m         \u001b[0;32mreturn\u001b[0m \u001b[0mself\u001b[0m\u001b[0;34m.\u001b[0m\u001b[0menv\u001b[0m\u001b[0;34m.\u001b[0m\u001b[0mreset\u001b[0m\u001b[0;34m(\u001b[0m\u001b[0;34m**\u001b[0m\u001b[0mkwargs\u001b[0m\u001b[0;34m)\u001b[0m\u001b[0;34m\u001b[0m\u001b[0;34m\u001b[0m\u001b[0m\n\u001b[0m",
      "\u001b[0;32m/opt/anaconda3/lib/python3.7/site-packages/gym/envs/toy_text/blackjack.py\u001b[0m in \u001b[0;36mreset\u001b[0;34m(self)\u001b[0m\n\u001b[1;32m    125\u001b[0m     \u001b[0;32mdef\u001b[0m \u001b[0mreset\u001b[0m\u001b[0;34m(\u001b[0m\u001b[0mself\u001b[0m\u001b[0;34m)\u001b[0m\u001b[0;34m:\u001b[0m\u001b[0;34m\u001b[0m\u001b[0;34m\u001b[0m\u001b[0m\n\u001b[1;32m    126\u001b[0m         \u001b[0mself\u001b[0m\u001b[0;34m.\u001b[0m\u001b[0mdealer\u001b[0m \u001b[0;34m=\u001b[0m \u001b[0mdraw_hand\u001b[0m\u001b[0;34m(\u001b[0m\u001b[0mself\u001b[0m\u001b[0;34m.\u001b[0m\u001b[0mnp_random\u001b[0m\u001b[0;34m)\u001b[0m\u001b[0;34m\u001b[0m\u001b[0;34m\u001b[0m\u001b[0m\n\u001b[0;32m--> 127\u001b[0;31m         \u001b[0mself\u001b[0m\u001b[0;34m.\u001b[0m\u001b[0mplayer\u001b[0m \u001b[0;34m=\u001b[0m \u001b[0mdraw_hand\u001b[0m\u001b[0;34m(\u001b[0m\u001b[0mself\u001b[0m\u001b[0;34m.\u001b[0m\u001b[0mnp_random\u001b[0m\u001b[0;34m)\u001b[0m\u001b[0;34m\u001b[0m\u001b[0;34m\u001b[0m\u001b[0m\n\u001b[0m\u001b[1;32m    128\u001b[0m         \u001b[0;32mreturn\u001b[0m \u001b[0mself\u001b[0m\u001b[0;34m.\u001b[0m\u001b[0m_get_obs\u001b[0m\u001b[0;34m(\u001b[0m\u001b[0;34m)\u001b[0m\u001b[0;34m\u001b[0m\u001b[0;34m\u001b[0m\u001b[0m\n",
      "\u001b[0;32m/opt/anaconda3/lib/python3.7/site-packages/gym/envs/toy_text/blackjack.py\u001b[0m in \u001b[0;36mdraw_hand\u001b[0;34m(np_random)\u001b[0m\n\u001b[1;32m     17\u001b[0m \u001b[0;34m\u001b[0m\u001b[0m\n\u001b[1;32m     18\u001b[0m \u001b[0;32mdef\u001b[0m \u001b[0mdraw_hand\u001b[0m\u001b[0;34m(\u001b[0m\u001b[0mnp_random\u001b[0m\u001b[0;34m)\u001b[0m\u001b[0;34m:\u001b[0m\u001b[0;34m\u001b[0m\u001b[0;34m\u001b[0m\u001b[0m\n\u001b[0;32m---> 19\u001b[0;31m     \u001b[0;32mreturn\u001b[0m \u001b[0;34m[\u001b[0m\u001b[0mdraw_card\u001b[0m\u001b[0;34m(\u001b[0m\u001b[0mnp_random\u001b[0m\u001b[0;34m)\u001b[0m\u001b[0;34m,\u001b[0m \u001b[0mdraw_card\u001b[0m\u001b[0;34m(\u001b[0m\u001b[0mnp_random\u001b[0m\u001b[0;34m)\u001b[0m\u001b[0;34m]\u001b[0m\u001b[0;34m\u001b[0m\u001b[0;34m\u001b[0m\u001b[0m\n\u001b[0m\u001b[1;32m     20\u001b[0m \u001b[0;34m\u001b[0m\u001b[0m\n\u001b[1;32m     21\u001b[0m \u001b[0;34m\u001b[0m\u001b[0m\n",
      "\u001b[0;32m/opt/anaconda3/lib/python3.7/site-packages/gym/envs/toy_text/blackjack.py\u001b[0m in \u001b[0;36mdraw_card\u001b[0;34m(np_random)\u001b[0m\n\u001b[1;32m     13\u001b[0m \u001b[0;34m\u001b[0m\u001b[0m\n\u001b[1;32m     14\u001b[0m \u001b[0;32mdef\u001b[0m \u001b[0mdraw_card\u001b[0m\u001b[0;34m(\u001b[0m\u001b[0mnp_random\u001b[0m\u001b[0;34m)\u001b[0m\u001b[0;34m:\u001b[0m\u001b[0;34m\u001b[0m\u001b[0;34m\u001b[0m\u001b[0m\n\u001b[0;32m---> 15\u001b[0;31m     \u001b[0;32mreturn\u001b[0m \u001b[0mint\u001b[0m\u001b[0;34m(\u001b[0m\u001b[0mnp_random\u001b[0m\u001b[0;34m.\u001b[0m\u001b[0mchoice\u001b[0m\u001b[0;34m(\u001b[0m\u001b[0mdeck\u001b[0m\u001b[0;34m)\u001b[0m\u001b[0;34m)\u001b[0m\u001b[0;34m\u001b[0m\u001b[0;34m\u001b[0m\u001b[0m\n\u001b[0m\u001b[1;32m     16\u001b[0m \u001b[0;34m\u001b[0m\u001b[0m\n\u001b[1;32m     17\u001b[0m \u001b[0;34m\u001b[0m\u001b[0m\n",
      "\u001b[0;32mmtrand.pyx\u001b[0m in \u001b[0;36mnumpy.random.mtrand.RandomState.choice\u001b[0;34m()\u001b[0m\n",
      "\u001b[0;32mmtrand.pyx\u001b[0m in \u001b[0;36mnumpy.random.mtrand.RandomState.randint\u001b[0;34m()\u001b[0m\n",
      "\u001b[0;32m/opt/anaconda3/lib/python3.7/site-packages/numpy/core/_dtype.py\u001b[0m in \u001b[0;36m_name_get\u001b[0;34m(dtype)\u001b[0m\n\u001b[1;32m    346\u001b[0m     \u001b[0;31m# append bit counts\u001b[0m\u001b[0;34m\u001b[0m\u001b[0;34m\u001b[0m\u001b[0;34m\u001b[0m\u001b[0m\n\u001b[1;32m    347\u001b[0m     \u001b[0;32mif\u001b[0m \u001b[0m_name_includes_bit_suffix\u001b[0m\u001b[0;34m(\u001b[0m\u001b[0mdtype\u001b[0m\u001b[0;34m)\u001b[0m\u001b[0;34m:\u001b[0m\u001b[0;34m\u001b[0m\u001b[0;34m\u001b[0m\u001b[0m\n\u001b[0;32m--> 348\u001b[0;31m         \u001b[0mname\u001b[0m \u001b[0;34m+=\u001b[0m \u001b[0;34m\"{}\"\u001b[0m\u001b[0;34m.\u001b[0m\u001b[0mformat\u001b[0m\u001b[0;34m(\u001b[0m\u001b[0mdtype\u001b[0m\u001b[0;34m.\u001b[0m\u001b[0mitemsize\u001b[0m \u001b[0;34m*\u001b[0m \u001b[0;36m8\u001b[0m\u001b[0;34m)\u001b[0m\u001b[0;34m\u001b[0m\u001b[0;34m\u001b[0m\u001b[0m\n\u001b[0m\u001b[1;32m    349\u001b[0m \u001b[0;34m\u001b[0m\u001b[0m\n\u001b[1;32m    350\u001b[0m     \u001b[0;31m# append metadata to datetimes\u001b[0m\u001b[0;34m\u001b[0m\u001b[0;34m\u001b[0m\u001b[0;34m\u001b[0m\u001b[0m\n",
      "\u001b[0;31mKeyboardInterrupt\u001b[0m: "
     ]
    }
   ],
   "source": [
    "num_episodes = 1000000\n",
    "average_reward = 0\n",
    "\n",
    "def simplest_policy(state):\n",
    "    if state[0] >= 19: \n",
    "        return 0\n",
    "    return 1\n",
    "    \n",
    "for item in tqdm.tqdm(range(num_episodes)):\n",
    "    state = env.reset()\n",
    "    is_done = False\n",
    "    while not is_done:\n",
    "        action = simplest_policy(state)\n",
    "        state, reward, is_done, _ = env.step(action)\n",
    "    average_reward += (reward - average_reward) / (item + 1)\n",
    "    \n",
    "print(f\"Выигрыш от наивной стратегии: {average_reward}\")"
   ]
  },
  {
   "cell_type": "markdown",
   "metadata": {},
   "source": [
    "2. Реализуйте метод обучения с подкреплением без модели (можно Q-обучение, но рекомендую попробовать и другие, например Monte Carlo control) для обучения стратегии в блекджеке, используя окружение Blackjack-v0 из OpenAI Gym.¶"
   ]
  },
  {
   "cell_type": "code",
   "execution_count": 30,
   "metadata": {},
   "outputs": [],
   "source": [
    "class Qlearning:\n",
    "    \n",
    "    def __init__(self, alpha=0.00001, gamma=1, eps=0.1):\n",
    "        self.Q = {}\n",
    "        self.alpha = alpha\n",
    "        self.gamma = gamma\n",
    "        self.eps = eps\n",
    "        \n",
    "        env = 'Blackjack-v1'\n",
    "        self.env = gym.make('Blackjack-v1', natural=True)\n",
    "        self.na = self.env.action_space.n\n",
    "        self.action_space = list(range(self.na))\n",
    "    \n",
    "    def get_rewards(self, state):\n",
    "        if state not in self.Q.keys():\n",
    "            self.Q[state] = np.zeros(self.na)\n",
    "        return self.Q[state]\n",
    "    \n",
    "    def get_next_action(self, state):\n",
    "        rewards = self.get_rewards(state)\n",
    "        return np.argmax(rewards)\n",
    "    \n",
    "    def epsilon_greedy_policy(self, state):\n",
    "        if np.random.rand() < self.eps:\n",
    "            action = np.random.choice(self.action_space)\n",
    "        else:\n",
    "            action = self.get_next_action(state)\n",
    "        return action\n",
    "            \n",
    "    def run_episode(self):\n",
    "        state = self.env.reset()\n",
    "        done = False\n",
    "        steps = []\n",
    "        while not done:\n",
    "            action = self.epsilon_greedy_policy(state)\n",
    "            steps.append((state, action))\n",
    "            state, reward, done, _ = self.env.step(action)\n",
    "        return steps, reward\n",
    "    \n",
    "    def train(self, num_episodes=100000):\n",
    "        for _ in range(num_episodes):\n",
    "            steps, reward = self.run_episode()\n",
    "            for state, action in steps[::-1]:\n",
    "                reward = self.get_rewards(state)[action] + self.alpha * \\\n",
    "                    (reward + self.gamma * np.max(self.Q[state]) - self.get_rewards(state)[action])\n",
    "                self.Q[state][action] = reward\n",
    "    \n",
    "    def inference(self, num_episodes=100000):\n",
    "        average_reward = 0\n",
    "        for i in range(num_episodes):\n",
    "            state = self.env.reset()\n",
    "            is_done = False\n",
    "            while not is_done:\n",
    "                action = self.get_next_action(state)\n",
    "                state, reward, is_done, _ = self.env.step(action)\n",
    "            average_reward += (reward - average_reward) / (i + 1)\n",
    "        return average_reward"
   ]
  },
  {
   "cell_type": "code",
   "execution_count": 31,
   "metadata": {},
   "outputs": [
    {
     "name": "stdout",
     "output_type": "stream",
     "text": [
      "CPU times: user 1min 30s, sys: 1.45 s, total: 1min 32s\n",
      "Wall time: 1min 31s\n"
     ]
    }
   ],
   "source": [
    "%%time\n",
    "QL = Qlearning()\n",
    "QL.train(num_episodes=1000000)\n",
    "average_reward = QL.inference(num_episodes=100000)"
   ]
  },
  {
   "cell_type": "code",
   "execution_count": 7,
   "metadata": {},
   "outputs": [
    {
     "name": "stdout",
     "output_type": "stream",
     "text": [
      "Средний выигрыш Q-learning: -0.10102999999999958\n"
     ]
    }
   ],
   "source": [
    "print(f\"Средний выигрыш Q-learning: {average_reward}\")"
   ]
  },
  {
   "cell_type": "markdown",
   "metadata": {},
   "source": [
    "Monte Carlo control"
   ]
  },
  {
   "cell_type": "code",
   "execution_count": 9,
   "metadata": {},
   "outputs": [],
   "source": [
    "def get_epsilon(N_state_count, N_zero=100):\n",
    "    return N_zero / (N_zero + N_state_count)\n",
    "\n",
    "def get_action(Q, state, state_count, action_size):\n",
    "    random_action = random.randint(0, action_size - 1)\n",
    "    best_action = np.argmax(Q[state])\n",
    "    epsilon = get_epsilon(state_count)\n",
    "    return np.random.choice([best_action, random_action], p=[1. - epsilon, epsilon])\n",
    "\n",
    "def MC_inference(Q, num_episodes=100000):\n",
    "    average_reward = 0\n",
    "    for i in range(num_episodes):\n",
    "        state = env.reset()\n",
    "        is_done = False\n",
    "        while not is_done:\n",
    "            action = np.argmax(Q[state])\n",
    "            state, reward, is_done, _ = env.step(action)\n",
    "        average_reward += (reward - average_reward) / (i + 1)\n",
    "    return average_reward\n",
    "\n",
    "\n",
    "def evaluate_policy(Q, episodes=10000):\n",
    "    wins = 0\n",
    "    for _ in range(episodes):\n",
    "        state = env.reset()\n",
    "        done = False\n",
    "        while not done:\n",
    "            action = np.argmax(Q[state])\n",
    "            state, reward, done, _ = env.step(action=action)\n",
    "        if reward > 0:\n",
    "            wins += 1\n",
    "    return wins / episodes\n",
    "\n",
    "def monte_carlo(gamma=1., episodes=5000, evaluate=False):\n",
    "    Q = defaultdict(lambda: np.zeros(env.action_space.n))\n",
    "    state_count = defaultdict(float)\n",
    "    state_action_count = defaultdict(float)\n",
    "    \n",
    "    evaluations = []\n",
    "    for i in range(episodes):\n",
    "        if evaluate and i % 1000 == 0:\n",
    "            evaluations.append(evaluate_policy(Q))\n",
    "        episode = []\n",
    "        state = env.reset()\n",
    "        done = False\n",
    "        while not done:\n",
    "            state_count[state] += 1\n",
    "            action = get_action(Q, state, state_count[state], env.action_space.n)\n",
    "            new_state, reward, done, _ = env.step(action=action)\n",
    "            episode.append((state, action, reward))\n",
    "            state = new_state\n",
    "        G = 0\n",
    "        for s, a, r in reversed(episode):\n",
    "            new_s_a_count = state_action_count[(s, a)] + 1\n",
    "            G = r + gamma * G\n",
    "            state_action_count[(s, a)] = new_s_a_count\n",
    "            Q[s][a] = Q[s][a] + (G - Q[s][a]) / new_s_a_count\n",
    "    return Q, evaluations"
   ]
  },
  {
   "cell_type": "code",
   "execution_count": 10,
   "metadata": {},
   "outputs": [],
   "source": [
    "Q_mc, evaluations = monte_carlo(episodes=1000000)\n",
    "mc_avg_reward = MC_inference(Q_mc, num_episodes=100000)"
   ]
  },
  {
   "cell_type": "code",
   "execution_count": 11,
   "metadata": {},
   "outputs": [
    {
     "name": "stdout",
     "output_type": "stream",
     "text": [
      "-0.05147999999999982\n"
     ]
    }
   ],
   "source": [
    "print(mc_avg_reward)"
   ]
  },
  {
   "cell_type": "markdown",
   "metadata": {},
   "source": [
    "3. Сколько выигрывает казино у вашей стратегии? Нарисуйте графики среднего дохода вашего метода (усреднённого по крайней мере по 100000 раздач, а лучше больше) по ходу обучения. Попробуйте подобрать оптимальные гиперпараметры."
   ]
  },
  {
   "cell_type": "code",
   "execution_count": 13,
   "metadata": {},
   "outputs": [
    {
     "name": "stderr",
     "output_type": "stream",
     "text": [
      "[I 2021-10-16 08:45:25,626] Trial 0 finished with value: -0.09150000000000036 and parameters: {'alpha': 0.003277054429077573, 'eps': 0.20072363546122018}. Best is trial 0 with value: -0.09150000000000036.\n",
      "[I 2021-10-16 08:45:32,192] Trial 1 finished with value: -0.10889000000000075 and parameters: {'alpha': 0.008921958684586855, 'eps': 0.32815023395661247}. Best is trial 0 with value: -0.09150000000000036.\n",
      "[I 2021-10-16 08:45:38,980] Trial 2 finished with value: -0.07223999999999901 and parameters: {'alpha': 0.0012859450884289499, 'eps': 0.4420764135119344}. Best is trial 2 with value: -0.07223999999999901.\n",
      "[I 2021-10-16 08:45:46,185] Trial 3 finished with value: -0.08262000000000064 and parameters: {'alpha': 0.00832913369591578, 'eps': 0.05196854866614797}. Best is trial 2 with value: -0.07223999999999901.\n",
      "[I 2021-10-16 08:45:54,083] Trial 4 finished with value: -0.10548000000000064 and parameters: {'alpha': 0.005963833957486397, 'eps': 0.2920658698169006}. Best is trial 2 with value: -0.07223999999999901.\n",
      "[I 2021-10-16 08:46:02,921] Trial 5 finished with value: -0.09855999999999956 and parameters: {'alpha': 0.0013863756307068184, 'eps': 0.30704409321230286}. Best is trial 2 with value: -0.07223999999999901.\n",
      "[I 2021-10-16 08:46:13,178] Trial 6 finished with value: -0.0882600000000009 and parameters: {'alpha': 0.001134685653746558, 'eps': 0.34507963665816943}. Best is trial 2 with value: -0.07223999999999901.\n",
      "[I 2021-10-16 08:46:25,151] Trial 7 finished with value: -0.09931999999999955 and parameters: {'alpha': 0.007024071969529116, 'eps': 0.08966701137173938}. Best is trial 2 with value: -0.07223999999999901.\n",
      "[I 2021-10-16 08:46:35,305] Trial 8 finished with value: -0.07770999999999856 and parameters: {'alpha': 0.004984447222881531, 'eps': 0.11063074564323189}. Best is trial 2 with value: -0.07223999999999901.\n",
      "[I 2021-10-16 08:46:43,815] Trial 9 finished with value: -0.10917000000000003 and parameters: {'alpha': 0.0043506614653129405, 'eps': 0.08341505976153085}. Best is trial 2 with value: -0.07223999999999901.\n",
      "[I 2021-10-16 08:46:51,747] Trial 10 finished with value: -0.07587000000000073 and parameters: {'alpha': 0.0026003516226117056, 'eps': 0.49693594678101005}. Best is trial 2 with value: -0.07223999999999901.\n",
      "[I 2021-10-16 08:47:00,093] Trial 11 finished with value: -0.08437999999999943 and parameters: {'alpha': 0.0024453705309067, 'eps': 0.49992621973872686}. Best is trial 2 with value: -0.07223999999999901.\n",
      "[I 2021-10-16 08:47:07,992] Trial 12 finished with value: -0.07789999999999851 and parameters: {'alpha': 0.0025994730710015815, 'eps': 0.493359613050002}. Best is trial 2 with value: -0.07223999999999901.\n",
      "[I 2021-10-16 08:47:15,933] Trial 13 finished with value: -0.06448999999999874 and parameters: {'alpha': 0.00010508192171636201, 'eps': 0.42690577406241814}. Best is trial 13 with value: -0.06448999999999874.\n",
      "[I 2021-10-16 08:47:23,158] Trial 14 finished with value: -0.08057000000000078 and parameters: {'alpha': 0.00011886302912833047, 'eps': 0.41031802746414914}. Best is trial 13 with value: -0.06448999999999874.\n",
      "[I 2021-10-16 08:47:30,700] Trial 15 finished with value: -0.08334000000000057 and parameters: {'alpha': 0.00039744068164759296, 'eps': 0.41277908987425477}. Best is trial 13 with value: -0.06448999999999874.\n",
      "[I 2021-10-16 08:47:37,678] Trial 16 finished with value: -0.0741300000000005 and parameters: {'alpha': 0.0002571363413199287, 'eps': 0.43463403642050646}. Best is trial 13 with value: -0.06448999999999874.\n",
      "[I 2021-10-16 08:47:44,795] Trial 17 finished with value: -0.08078999999999946 and parameters: {'alpha': 0.0013536542576789573, 'eps': 0.2272688513363211}. Best is trial 13 with value: -0.06448999999999874.\n",
      "[I 2021-10-16 08:47:51,996] Trial 18 finished with value: -0.08326000000000074 and parameters: {'alpha': 0.004292169043595336, 'eps': 0.37956646901950625}. Best is trial 13 with value: -0.06448999999999874.\n",
      "[I 2021-10-16 08:47:58,973] Trial 19 finished with value: -0.07472000000000045 and parameters: {'alpha': 0.0015654043314598017, 'eps': 0.4597139478947015}. Best is trial 13 with value: -0.06448999999999874.\n",
      "[I 2021-10-16 08:48:06,114] Trial 20 finished with value: -0.08452000000000126 and parameters: {'alpha': 0.00015085029478762772, 'eps': 0.24165926009429442}. Best is trial 13 with value: -0.06448999999999874.\n",
      "[I 2021-10-16 08:48:13,719] Trial 21 finished with value: -0.08613999999999981 and parameters: {'alpha': 0.00027404730091024277, 'eps': 0.450294775634809}. Best is trial 13 with value: -0.06448999999999874.\n",
      "[I 2021-10-16 08:48:20,776] Trial 22 finished with value: -0.0765400000000004 and parameters: {'alpha': 0.0008023816736717312, 'eps': 0.4420908972900286}. Best is trial 13 with value: -0.06448999999999874.\n",
      "[I 2021-10-16 08:48:27,964] Trial 23 finished with value: -0.06984999999999914 and parameters: {'alpha': 0.0019721293642304396, 'eps': 0.3979211843029241}. Best is trial 13 with value: -0.06448999999999874.\n",
      "[I 2021-10-16 08:48:34,873] Trial 24 finished with value: -0.08822999999999946 and parameters: {'alpha': 0.0019137975185401397, 'eps': 0.36168683674468527}. Best is trial 13 with value: -0.06448999999999874.\n",
      "[I 2021-10-16 08:48:42,034] Trial 25 finished with value: -0.07133000000000096 and parameters: {'alpha': 0.003141512895812366, 'eps': 0.40314663632739295}. Best is trial 13 with value: -0.06448999999999874.\n",
      "[I 2021-10-16 08:48:48,894] Trial 26 finished with value: -0.07759999999999956 and parameters: {'alpha': 0.0035988625191009415, 'eps': 0.3900060990617943}. Best is trial 13 with value: -0.06448999999999874.\n",
      "[I 2021-10-16 08:48:55,746] Trial 27 finished with value: -0.06653999999999959 and parameters: {'alpha': 0.0034661693588540626, 'eps': 0.48038328835596633}. Best is trial 13 with value: -0.06448999999999874.\n",
      "[I 2021-10-16 08:49:03,219] Trial 28 finished with value: -0.07240999999999878 and parameters: {'alpha': 0.005839199285121358, 'eps': 0.47581090456454944}. Best is trial 13 with value: -0.06448999999999874.\n",
      "[I 2021-10-16 08:49:10,715] Trial 29 finished with value: -0.08320000000000126 and parameters: {'alpha': 0.003654981908008418, 'eps': 0.16556088287503487}. Best is trial 13 with value: -0.06448999999999874.\n",
      "[I 2021-10-16 08:49:17,928] Trial 30 finished with value: -0.0901800000000001 and parameters: {'alpha': 0.0030209386156249607, 'eps': 0.35902195865238506}. Best is trial 13 with value: -0.06448999999999874.\n",
      "[I 2021-10-16 08:49:25,003] Trial 31 finished with value: -0.07585000000000018 and parameters: {'alpha': 0.0020108365872565153, 'eps': 0.4121878992193857}. Best is trial 13 with value: -0.06448999999999874.\n",
      "[I 2021-10-16 08:49:31,815] Trial 32 finished with value: -0.08230999999999991 and parameters: {'alpha': 0.0032845642184805754, 'eps': 0.32579854597118224}. Best is trial 13 with value: -0.06448999999999874.\n",
      "[I 2021-10-16 08:49:38,895] Trial 33 finished with value: -0.07446999999999993 and parameters: {'alpha': 0.0043182742251581105, 'eps': 0.3910112407069184}. Best is trial 13 with value: -0.06448999999999874.\n",
      "[I 2021-10-16 08:49:45,927] Trial 34 finished with value: -0.07839999999999979 and parameters: {'alpha': 0.003860209752060316, 'eps': 0.46900250318330844}. Best is trial 13 with value: -0.06448999999999874.\n",
      "[I 2021-10-16 08:49:52,721] Trial 35 finished with value: -0.08287999999999973 and parameters: {'alpha': 0.004975310859461116, 'eps': 0.4254285590513695}. Best is trial 13 with value: -0.06448999999999874.\n",
      "[I 2021-10-16 08:49:59,847] Trial 36 finished with value: -0.08782000000000048 and parameters: {'alpha': 0.0029010422447645593, 'eps': 0.26230518270941555}. Best is trial 13 with value: -0.06448999999999874.\n",
      "[I 2021-10-16 08:50:06,581] Trial 37 finished with value: -0.08327999999999919 and parameters: {'alpha': 0.002179591847341215, 'eps': 0.3219169808480068}. Best is trial 13 with value: -0.06448999999999874.\n",
      "[I 2021-10-16 08:50:13,564] Trial 38 finished with value: -0.07620000000000009 and parameters: {'alpha': 0.005729516544694025, 'eps': 0.4780525071544751}. Best is trial 13 with value: -0.06448999999999874.\n",
      "[I 2021-10-16 08:50:20,537] Trial 39 finished with value: -0.08053999999999964 and parameters: {'alpha': 0.0008635556676882018, 'eps': 0.3693676452063447}. Best is trial 13 with value: -0.06448999999999874.\n",
      "[I 2021-10-16 08:50:27,302] Trial 40 finished with value: -0.0950700000000005 and parameters: {'alpha': 0.006605552458095516, 'eps': 0.34563759511293957}. Best is trial 13 with value: -0.06448999999999874.\n",
      "[I 2021-10-16 08:50:34,340] Trial 41 finished with value: -0.0695499999999996 and parameters: {'alpha': 0.0009210765612362215, 'eps': 0.39862156308902996}. Best is trial 13 with value: -0.06448999999999874.\n",
      "[I 2021-10-16 08:50:41,012] Trial 42 finished with value: -0.0948100000000003 and parameters: {'alpha': 0.009934779579104148, 'eps': 0.3981388309216902}. Best is trial 13 with value: -0.06448999999999874.\n",
      "[I 2021-10-16 08:50:48,170] Trial 43 finished with value: -0.08081000000000019 and parameters: {'alpha': 0.0018572338746357824, 'eps': 0.29553794576778236}. Best is trial 13 with value: -0.06448999999999874.\n",
      "[I 2021-10-16 08:50:55,686] Trial 44 finished with value: -0.07483999999999988 and parameters: {'alpha': 0.001089671798937934, 'eps': 0.43019583426595176}. Best is trial 13 with value: -0.06448999999999874.\n",
      "[I 2021-10-16 08:51:02,716] Trial 45 finished with value: -0.07899000000000185 and parameters: {'alpha': 0.0007103992994191432, 'eps': 0.4558277745861246}. Best is trial 13 with value: -0.06448999999999874.\n",
      "[I 2021-10-16 08:51:09,699] Trial 46 finished with value: -0.07667999999999947 and parameters: {'alpha': 0.0024641122383027977, 'eps': 0.4843215864382974}. Best is trial 13 with value: -0.06448999999999874.\n",
      "[I 2021-10-16 08:51:16,905] Trial 47 finished with value: -0.07935000000000152 and parameters: {'alpha': 0.0032433621352105785, 'eps': 0.3466244250807933}. Best is trial 13 with value: -0.06448999999999874.\n",
      "[I 2021-10-16 08:51:24,238] Trial 48 finished with value: -0.06748000000000104 and parameters: {'alpha': 0.0015835989529117878, 'eps': 0.41177981638787353}. Best is trial 13 with value: -0.06448999999999874.\n",
      "[I 2021-10-16 08:51:31,416] Trial 49 finished with value: -0.0688199999999995 and parameters: {'alpha': 0.0015880795928220094, 'eps': 0.42663246120634707}. Best is trial 13 with value: -0.06448999999999874.\n",
      "[I 2021-10-16 08:51:38,461] Trial 50 finished with value: -0.08771000000000273 and parameters: {'alpha': 0.0014226494330770243, 'eps': 0.49848172203613345}. Best is trial 13 with value: -0.06448999999999874.\n",
      "[I 2021-10-16 08:51:45,479] Trial 51 finished with value: -0.07828999999999811 and parameters: {'alpha': 0.0017299562783871865, 'eps': 0.41785627049081947}. Best is trial 13 with value: -0.06448999999999874.\n",
      "[I 2021-10-16 08:51:52,768] Trial 52 finished with value: -0.07191999999999904 and parameters: {'alpha': 0.0007007360580238142, 'eps': 0.443679274394736}. Best is trial 13 with value: -0.06448999999999874.\n",
      "[I 2021-10-16 08:51:59,890] Trial 53 finished with value: -0.07649000000000124 and parameters: {'alpha': 0.001163250006976382, 'eps': 0.3747831301192822}. Best is trial 13 with value: -0.06448999999999874.\n",
      "[I 2021-10-16 08:52:07,124] Trial 54 finished with value: -0.08209999999999949 and parameters: {'alpha': 0.00048017052811356604, 'eps': 0.42959825779111915}. Best is trial 13 with value: -0.06448999999999874.\n",
      "[I 2021-10-16 08:52:14,221] Trial 55 finished with value: -0.08049000000000035 and parameters: {'alpha': 0.0022143827488862525, 'eps': 0.4662132370873242}. Best is trial 13 with value: -0.06448999999999874.\n",
      "[I 2021-10-16 08:52:21,504] Trial 56 finished with value: -0.07497999999999996 and parameters: {'alpha': 0.0015206456173860485, 'eps': 0.3836553952892377}. Best is trial 13 with value: -0.06448999999999874.\n",
      "[I 2021-10-16 08:52:28,870] Trial 57 finished with value: -0.06322000000000012 and parameters: {'alpha': 0.002697867150694323, 'eps': 0.40936680971534367}. Best is trial 57 with value: -0.06322000000000012.\n",
      "[I 2021-10-16 08:52:35,690] Trial 58 finished with value: -0.0788099999999989 and parameters: {'alpha': 0.002687059908697928, 'eps': 0.4486138101142697}. Best is trial 57 with value: -0.06322000000000012.\n",
      "[I 2021-10-16 08:52:43,045] Trial 59 finished with value: -0.0776100000000016 and parameters: {'alpha': 0.0010550617055695628, 'eps': 0.4993508025775759}. Best is trial 57 with value: -0.06322000000000012.\n",
      "[I 2021-10-16 08:52:50,221] Trial 60 finished with value: -0.08687000000000025 and parameters: {'alpha': 0.00012299233682098076, 'eps': 0.4150024429537965}. Best is trial 57 with value: -0.06322000000000012.\n",
      "[I 2021-10-16 08:52:57,610] Trial 61 finished with value: -0.08508999999999954 and parameters: {'alpha': 0.0022516637517456008, 'eps': 0.39943415576399466}. Best is trial 57 with value: -0.06322000000000012.\n",
      "[I 2021-10-16 08:53:05,048] Trial 62 finished with value: -0.07649999999999944 and parameters: {'alpha': 0.0016651745711625907, 'eps': 0.4340476669989963}. Best is trial 57 with value: -0.06322000000000012.\n",
      "[I 2021-10-16 08:53:12,233] Trial 63 finished with value: -0.07824999999999979 and parameters: {'alpha': 0.002712567151454905, 'eps': 0.40637102018772475}. Best is trial 57 with value: -0.06322000000000012.\n",
      "[I 2021-10-16 08:53:19,967] Trial 64 finished with value: -0.06866999999999873 and parameters: {'alpha': 0.001977837796130955, 'eps': 0.3837015033208981}. Best is trial 57 with value: -0.06322000000000012.\n",
      "[I 2021-10-16 08:53:27,205] Trial 65 finished with value: -0.06855000000000015 and parameters: {'alpha': 0.001373191895877818, 'eps': 0.36083832910137803}. Best is trial 57 with value: -0.06322000000000012.\n",
      "[I 2021-10-16 08:53:34,354] Trial 66 finished with value: -0.08439000000000042 and parameters: {'alpha': 0.0038388969937262155, 'eps': 0.36603817432787905}. Best is trial 57 with value: -0.06322000000000012.\n",
      "[I 2021-10-16 08:53:41,275] Trial 67 finished with value: -0.06843999999999958 and parameters: {'alpha': 0.0013763720403114183, 'eps': 0.35010808961095274}. Best is trial 57 with value: -0.06322000000000012.\n",
      "[I 2021-10-16 08:53:48,399] Trial 68 finished with value: -0.06945000000000098 and parameters: {'alpha': 0.0024141899074954223, 'eps': 0.31142440362772855}. Best is trial 57 with value: -0.06322000000000012.\n",
      "[I 2021-10-16 08:53:55,360] Trial 69 finished with value: -0.08678000000000034 and parameters: {'alpha': 0.0028659040088593836, 'eps': 0.33332094523040956}. Best is trial 57 with value: -0.06322000000000012.\n",
      "[I 2021-10-16 08:54:02,415] Trial 70 finished with value: -0.08213999999999883 and parameters: {'alpha': 0.00048207393370363683, 'eps': 0.3508310221575516}. Best is trial 57 with value: -0.06322000000000012.\n",
      "[I 2021-10-16 08:54:09,742] Trial 71 finished with value: -0.06919000000000053 and parameters: {'alpha': 0.0012348296976074044, 'eps': 0.38035982735416685}. Best is trial 57 with value: -0.06322000000000012.\n",
      "[I 2021-10-16 08:54:17,235] Trial 72 finished with value: -0.06767000000000047 and parameters: {'alpha': 0.001877049212534159, 'eps': 0.4223063755425108}. Best is trial 57 with value: -0.06322000000000012.\n",
      "[I 2021-10-16 08:54:24,427] Trial 73 finished with value: -0.09378999999999972 and parameters: {'alpha': 0.0018808652381843748, 'eps': 0.3809285858319776}. Best is trial 57 with value: -0.06322000000000012.\n",
      "[I 2021-10-16 08:54:31,414] Trial 74 finished with value: -0.08515000000000077 and parameters: {'alpha': 0.003451893299765591, 'eps': 0.28075038366579924}. Best is trial 57 with value: -0.06322000000000012.\n",
      "[I 2021-10-16 08:54:39,253] Trial 75 finished with value: -0.09264000000000125 and parameters: {'alpha': 0.002123992481968293, 'eps': 0.3565216422984053}. Best is trial 57 with value: -0.06322000000000012.\n",
      "[I 2021-10-16 08:54:46,997] Trial 76 finished with value: -0.09128999999999954 and parameters: {'alpha': 0.004770020737488901, 'eps': 0.3331092145395075}. Best is trial 57 with value: -0.06322000000000012.\n",
      "[I 2021-10-16 08:54:54,520] Trial 77 finished with value: -0.0816299999999991 and parameters: {'alpha': 0.0013211234849828091, 'eps': 0.41687996623242574}. Best is trial 57 with value: -0.06322000000000012.\n",
      "[I 2021-10-16 08:55:02,086] Trial 78 finished with value: -0.07713999999999888 and parameters: {'alpha': 0.0024937980281476277, 'eps': 0.4583766413512494}. Best is trial 57 with value: -0.06322000000000012.\n",
      "[I 2021-10-16 08:55:09,266] Trial 79 finished with value: -0.07009000000000082 and parameters: {'alpha': 0.00301138251872287, 'eps': 0.39104350298433016}. Best is trial 57 with value: -0.06322000000000012.\n",
      "[I 2021-10-16 08:55:16,512] Trial 80 finished with value: -0.09053999999999975 and parameters: {'alpha': 0.001982385099876248, 'eps': 0.4384637316401311}. Best is trial 57 with value: -0.06322000000000012.\n",
      "[I 2021-10-16 08:55:23,717] Trial 81 finished with value: -0.06917000000000006 and parameters: {'alpha': 0.0015484202708184746, 'eps': 0.42600345489304997}. Best is trial 57 with value: -0.06322000000000012.\n",
      "[I 2021-10-16 08:55:30,545] Trial 82 finished with value: -0.07169000000000071 and parameters: {'alpha': 0.0017912187368960952, 'eps': 0.4850598649726236}. Best is trial 57 with value: -0.06322000000000012.\n",
      "[I 2021-10-16 08:55:38,614] Trial 83 finished with value: -0.062399999999999824 and parameters: {'alpha': 0.0023373376040925022, 'eps': 0.4486894371719986}. Best is trial 83 with value: -0.062399999999999824.\n",
      "[I 2021-10-16 08:55:46,809] Trial 84 finished with value: -0.06785000000000115 and parameters: {'alpha': 0.0023269424861163375, 'eps': 0.46314281983508293}. Best is trial 83 with value: -0.062399999999999824.\n",
      "[I 2021-10-16 08:55:54,674] Trial 85 finished with value: -0.07856000000000003 and parameters: {'alpha': 0.004071783527363753, 'eps': 0.46992891135421655}. Best is trial 83 with value: -0.062399999999999824.\n",
      "[I 2021-10-16 08:56:08,292] Trial 86 finished with value: -0.0740699999999996 and parameters: {'alpha': 0.0023084182882648573, 'eps': 0.45128190202693996}. Best is trial 83 with value: -0.062399999999999824.\n",
      "[I 2021-10-16 08:56:29,220] Trial 87 finished with value: -0.07188999999999811 and parameters: {'alpha': 0.0006073187210718633, 'eps': 0.48338001311114254}. Best is trial 83 with value: -0.062399999999999824.\n",
      "[I 2021-10-16 08:56:38,158] Trial 88 finished with value: -0.08208000000000139 and parameters: {'alpha': 0.0028713921996199724, 'eps': 0.4628033403676464}. Best is trial 83 with value: -0.062399999999999824.\n",
      "[I 2021-10-16 08:56:45,593] Trial 89 finished with value: -0.07988999999999893 and parameters: {'alpha': 0.0034331874212616916, 'eps': 0.4450842888838219}. Best is trial 83 with value: -0.062399999999999824.\n",
      "[I 2021-10-16 08:56:52,631] Trial 90 finished with value: -0.0697300000000007 and parameters: {'alpha': 0.0026546924481797144, 'eps': 0.17517534606144797}. Best is trial 83 with value: -0.062399999999999824.\n",
      "[I 2021-10-16 08:57:00,702] Trial 91 finished with value: -0.08201999999999848 and parameters: {'alpha': 0.0010203537393156164, 'eps': 0.4079769527527003}. Best is trial 83 with value: -0.062399999999999824.\n",
      "[I 2021-10-16 08:57:07,761] Trial 92 finished with value: -0.07185999999999998 and parameters: {'alpha': 0.0020720725508685395, 'eps': 0.38820762829671673}. Best is trial 83 with value: -0.062399999999999824.\n",
      "[I 2021-10-16 08:57:14,832] Trial 93 finished with value: -0.09973000000000004 and parameters: {'alpha': 0.007879498044203993, 'eps': 0.42165049147461986}. Best is trial 83 with value: -0.062399999999999824.\n",
      "[I 2021-10-16 08:57:22,015] Trial 94 finished with value: -0.08131999999999981 and parameters: {'alpha': 0.0018060382049501244, 'eps': 0.3685793712367087}. Best is trial 83 with value: -0.062399999999999824.\n",
      "[I 2021-10-16 08:57:29,260] Trial 95 finished with value: -0.08305000000000003 and parameters: {'alpha': 0.0013832099361645658, 'eps': 0.47267851357358615}. Best is trial 83 with value: -0.062399999999999824.\n",
      "[I 2021-10-16 08:57:36,978] Trial 96 finished with value: -0.06273999999999946 and parameters: {'alpha': 0.0031021670880742444, 'eps': 0.4331492724002851}. Best is trial 83 with value: -0.062399999999999824.\n",
      "[I 2021-10-16 08:57:44,491] Trial 97 finished with value: -0.07613999999999961 and parameters: {'alpha': 0.003184707738928675, 'eps': 0.4399423481875133}. Best is trial 83 with value: -0.062399999999999824.\n",
      "[I 2021-10-16 08:57:51,939] Trial 98 finished with value: -0.09048000000000085 and parameters: {'alpha': 0.004648061566661625, 'eps': 0.46187495015156804}. Best is trial 83 with value: -0.062399999999999824.\n",
      "[I 2021-10-16 08:57:58,917] Trial 99 finished with value: -0.07483000000000012 and parameters: {'alpha': 0.0028038603183267894, 'eps': 0.49378318053172954}. Best is trial 83 with value: -0.062399999999999824.\n"
     ]
    },
    {
     "name": "stdout",
     "output_type": "stream",
     "text": [
      "Number of finished trials: 100\n",
      "Best trial:\n",
      "Value: -0.062399999999999824\n",
      "  Params: \n",
      "alpha: 0.0023373376040925022\n",
      "eps: 0.4486894371719986\n",
      "CPU times: user 12min 17s, sys: 19.1 s, total: 12min 36s\n",
      "Wall time: 12min 40s\n"
     ]
    }
   ],
   "source": [
    "%%time\n",
    "def objective(trial):\n",
    "    params = {\n",
    "        'alpha': trial.suggest_float('alpha', 1e-4, 1e-2),\n",
    "        'eps': trial.suggest_float('eps', 0.05, 0.5),\n",
    "    }\n",
    "    QL = Qlearning(alpha=params.get('alpha'), eps=params.get('eps'))\n",
    "    QL.train(10000)\n",
    "    return QL.inference()\n",
    "    \n",
    "\n",
    "study = optuna.create_study(direction=\"maximize\")\n",
    "study.optimize(objective, n_trials=100)\n",
    "\n",
    "print(\"Number of finished trials: {}\".format(len(study.trials)))\n",
    "\n",
    "print(\"Best trial:\")\n",
    "best_trial = study.best_trial\n",
    "\n",
    "print(\"Value: {}\".format(best_trial.value))\n",
    "\n",
    "print(\"  Params: \")\n",
    "for key, value in best_trial.params.items():\n",
    "    print(\"{}: {}\".format(key, value))"
   ]
  },
  {
   "cell_type": "code",
   "execution_count": 15,
   "metadata": {},
   "outputs": [
    {
     "name": "stdout",
     "output_type": "stream",
     "text": [
      "Лучший выигрыш: -0.062399999999999824, alpha: 0.0023373376040925022, eps: 0.4486894371719986\n"
     ]
    }
   ],
   "source": [
    "print(f\"Лучший выигрыш: {best_trial.value}, alpha: {best_trial.params['alpha']}, eps: {best_trial.params['eps']}\")"
   ]
  },
  {
   "cell_type": "code",
   "execution_count": 22,
   "metadata": {},
   "outputs": [
    {
     "name": "stderr",
     "output_type": "stream",
     "text": [
      "100%|██████████| 100/100 [10:50<00:00,  6.50s/it]\n"
     ]
    },
    {
     "name": "stdout",
     "output_type": "stream",
     "text": [
      "CPU times: user 10min 44s, sys: 21.3 s, total: 11min 6s\n",
      "Wall time: 10min 55s\n"
     ]
    }
   ],
   "source": [
    "%%time\n",
    "QL = Qlearning(\n",
    "    alpha=best_trial.params['alpha'],\n",
    "    eps=best_trial.params['eps'],\n",
    ")\n",
    "sums_of_rewards = []\n",
    "best_sum_of_rewards = [QL.inference()]\n",
    "for i in tqdm.tqdm(range(100)):\n",
    "    QL.train(1000)\n",
    "    sum_of_rewards = QL.inference()\n",
    "    sums_of_rewards.append(sum_of_rewards)"
   ]
  },
  {
   "cell_type": "code",
   "execution_count": 23,
   "metadata": {},
   "outputs": [
    {
     "data": {
      "image/png": "[encoded data removed]",
      "text/plain": [
       "<Figure size 432x288 with 1 Axes>"
      ]
     },
     "metadata": {
      "needs_background": "light"
     },
     "output_type": "display_data"
    }
   ],
   "source": [
    "plt.plot(range(0, 100000, 1000), sums_of_rewards)\n",
    "plt.xlabel('Эпизод')\n",
    "plt.ylabel('Avar§age cumulative reward')\n",
    "plt.show()"
   ]
  },
  {
   "cell_type": "code",
   "execution_count": 27,
   "metadata": {},
   "outputs": [
    {
     "name": "stdout",
     "output_type": "stream",
     "text": [
      "Number of finished trials: 100\n",
      "Best trial:\n",
      "Value: -0.05652999999999999\n",
      "  Params: \n",
      "gamma: 0.033964537205777356\n",
      "CPU times: user 9min 51s, sys: 18.6 s, total: 10min 9s\n",
      "Wall time: 9min 54s\n"
     ]
    }
   ],
   "source": [
    "%%time\n",
    "import optuna\n",
    "\n",
    "def objective(trial):\n",
    "    params = {\n",
    "        'gamma': trial.suggest_float('gamma', 0, 100),\n",
    "    }\n",
    "    Q_mc, evaluations = monte_carlo(gamma=params['gamma'], episodes=5000, evaluate=False)\n",
    "    return MC_inference(Q_mc, num_episodes=100000)\n",
    "    \n",
    "\n",
    "study = optuna.create_study(direction=\"maximize\")\n",
    "study.optimize(objective, n_trials=100)\n",
    "\n",
    "print(\"Number of finished trials: {}\".format(len(study.trials)))\n",
    "\n",
    "print(\"Best trial:\")\n",
    "best_trial = study.best_trial\n",
    "\n",
    "print(\"Value: {}\".format(best_trial.value))\n",
    "\n",
    "print(\"  Params: \")\n",
    "for key, value in best_trial.params.items():\n",
    "    print(\"{}: {}\".format(key, value))"
   ]
  },
  {
   "cell_type": "markdown",
   "metadata": {},
   "source": [
    "**Часть вторая, удвоенная**"
   ]
  },
  {
   "cell_type": "markdown",
   "metadata": {},
   "source": [
    "4. Реализуйте новый вариант блекджека на основе окружения Blackjack-v0 из OpenAI Gym, в котором разрешено удвоение ставки."
   ]
  },
  {
   "cell_type": "code",
   "execution_count": 13,
   "metadata": {},
   "outputs": [],
   "source": [
    "class Doubled_Blackjack_V0:\n",
    "    \n",
    "    def __init__(self):\n",
    "        self.base_env = gym.make('Blackjack-v1', natural=True)\n",
    "        self.action_space = list(range(3))\n",
    "        \n",
    "    def reset(self):\n",
    "        return self.base_env.reset()\n",
    "    \n",
    "    def step(self, action):\n",
    "        if action == 2:\n",
    "            state, reward, is_done, _ = self.base_env.step(1)\n",
    "            \n",
    "            if is_done:\n",
    "                return state, 2 * reward, is_done, _\n",
    "            else:\n",
    "                state, reward, is_done, _ = self.base_env.step(0)\n",
    "                return state, 2 * reward, is_done, _\n",
    "            \n",
    "        else:\n",
    "            return self.base_env.step(action)"
   ]
  },
  {
   "cell_type": "code",
   "execution_count": 14,
   "metadata": {},
   "outputs": [],
   "source": [
    "class Qlearning_Doubled_Blackjack:\n",
    "    \n",
    "    def __init__(self, alpha=0.00001, gamma=1, eps=0.1):\n",
    "        self.Q = {}\n",
    "        self.alpha = alpha\n",
    "        self.gamma = gamma\n",
    "        self.eps = eps\n",
    "        \n",
    "        self.env = Doubled_Blackjack_V0()\n",
    "        self.na = 3\n",
    "        self.action_space = list(range(self.na))\n",
    "    \n",
    "    def get_rewards(self, state):\n",
    "        if state not in self.Q.keys():\n",
    "            self.Q[state] = np.zeros(self.na)\n",
    "        return self.Q[state]\n",
    "    \n",
    "    def get_next_action(self, state):\n",
    "        rewards = self.get_rewards(state)\n",
    "        return np.argmax(rewards)\n",
    "    \n",
    "    def epsilon_greedy_policy(self, state):\n",
    "        if np.random.rand() < self.eps:\n",
    "            action = np.random.choice(self.action_space)\n",
    "        else:\n",
    "            action = self.get_next_action(state)\n",
    "        return action\n",
    "            \n",
    "    def run_episode(self):\n",
    "        state = self.env.reset()\n",
    "        done = False\n",
    "        steps = []\n",
    "        while not done:\n",
    "            action = self.epsilon_greedy_policy(state)\n",
    "            steps.append((state, action))\n",
    "            state, reward, done, _ = self.env.step(action)\n",
    "        return steps, reward\n",
    "    \n",
    "    def train(self, num_episodes=100_000):\n",
    "        for n in range(num_episodes):\n",
    "            steps, reward = self.run_episode()\n",
    "            for state, action in steps[::-1]:\n",
    "                reward = self.get_rewards(state)[action] + self.alpha * \\\n",
    "                (reward + self.gamma * np.max(self.Q[state]) - self.get_rewards(state)[action])\n",
    "                self.Q[state][action] = reward\n",
    "    \n",
    "    def inference(self, num_episodes=100_000):\n",
    "        average_reward = 0\n",
    "        for i in range(num_episodes):\n",
    "            state = self.env.reset()\n",
    "            is_done = False\n",
    "            while not is_done:\n",
    "                action = self.get_next_action(state)\n",
    "                state, reward, is_done, _ = self.env.step(action)\n",
    "            average_reward += (reward - average_reward) / (i + 1)\n",
    "        return average_reward"
   ]
  },
  {
   "cell_type": "code",
   "execution_count": 15,
   "metadata": {},
   "outputs": [
    {
     "name": "stdout",
     "output_type": "stream",
     "text": [
      "CPU times: user 1min 23s, sys: 1.87 s, total: 1min 25s\n",
      "Wall time: 1min 23s\n"
     ]
    },
    {
     "data": {
      "text/plain": [
       "-0.06698000000000097"
      ]
     },
     "execution_count": 15,
     "metadata": {},
     "output_type": "execute_result"
    }
   ],
   "source": [
    "%%time\n",
    "QL_Doubled = Qlearning_Doubled_Blackjack()\n",
    "QL_Doubled.train(100_000_0)\n",
    "QL_Doubled.inference()"
   ]
  },
  {
   "cell_type": "code",
   "execution_count": 32,
   "metadata": {},
   "outputs": [],
   "source": [
    "env = Doubled_Blackjack_V0()\n",
    "\n",
    "def get_epsilon(N_state_count, N_zero=100):\n",
    "    return N_zero / (N_zero + N_state_count)\n",
    "\n",
    "def get_action(Q, state, state_count, action_size):\n",
    "    random_action = random.randint(0, action_size - 1)\n",
    "    best_action = np.argmax(Q[state])\n",
    "    epsilon = get_epsilon(state_count)\n",
    "    return np.random.choice([best_action, random_action], p=[1. - epsilon, epsilon])\n",
    "\n",
    "def MC_inference(Q, num_episodes=100000):\n",
    "    average_reward = 0\n",
    "    for i in range(num_episodes):\n",
    "        state = env.reset()\n",
    "        is_done = False\n",
    "        while not is_done:\n",
    "            action = np.argmax(Q[state])\n",
    "            state, reward, is_done, _ = env.step(action)\n",
    "        average_reward += (reward - average_reward) / (i + 1)\n",
    "    return average_reward\n",
    "\n",
    "\n",
    "def evaluate_policy(Q, episodes=10000):\n",
    "    wins = 0\n",
    "    for _ in range(episodes):\n",
    "        state = env.reset()\n",
    "        done = False\n",
    "        while not done:\n",
    "            action = np.argmax(Q[state])\n",
    "            state, reward, done, _ = env.step(action=action)\n",
    "        if reward > 0:\n",
    "            wins += 1\n",
    "    return wins / episodes\n",
    "\n",
    "def monte_carlo(gamma=1., episodes=5000, evaluate=False):\n",
    "    Q = defaultdict(lambda: np.zeros(3))\n",
    "    state_count = defaultdict(float)\n",
    "    state_action_count = defaultdict(float)\n",
    "    \n",
    "    evaluations = []\n",
    "    for i in range(episodes):\n",
    "        if evaluate and i % 1000 == 0:\n",
    "            evaluations.append(evaluate_policy(Q))\n",
    "        episode = []\n",
    "        state = env.reset()\n",
    "        done = False\n",
    "        while not done:\n",
    "            state_count[state] += 1\n",
    "            action = get_action(Q, state, state_count[state], 3)\n",
    "            new_state, reward, done, _ = env.step(action=action)\n",
    "            episode.append((state, action, reward))\n",
    "            state = new_state\n",
    "        G = 0\n",
    "        for s, a, r in reversed(episode):\n",
    "            new_s_a_count = state_action_count[(s, a)] + 1\n",
    "            G = r + gamma * G\n",
    "            state_action_count[(s, a)] = new_s_a_count\n",
    "            Q[s][a] = Q[s][a] + (G - Q[s][a]) / new_s_a_count\n",
    "    return Q, evaluations"
   ]
  },
  {
   "cell_type": "code",
   "execution_count": 17,
   "metadata": {},
   "outputs": [
    {
     "data": {
      "text/plain": [
       "-0.05728000000000025"
      ]
     },
     "execution_count": 17,
     "metadata": {},
     "output_type": "execute_result"
    }
   ],
   "source": [
    "Q_mc, evaluations = monte_carlo(episodes=1000000)\n",
    "MC_inference(Q_mc, num_episodes=100000)"
   ]
  },
  {
   "cell_type": "markdown",
   "metadata": {},
   "source": [
    "5. Реализуйте метод обучения с подкреплением без модели для этого варианта, постройте графики, аналогичные п.2."
   ]
  },
  {
   "cell_type": "code",
   "execution_count": 18,
   "metadata": {},
   "outputs": [
    {
     "name": "stdout",
     "output_type": "stream",
     "text": [
      "Number of finished trials: 100\n",
      "Best trial:\n",
      "Value: -0.06209999999999983\n",
      "Params: \n",
      "alpha: 0.0004889955080298381\n",
      "eps: 0.4971099624585629\n",
      "CPU times: user 24min 38s, sys: 22.5 s, total: 25min\n",
      "Wall time: 25min 4s\n"
     ]
    }
   ],
   "source": [
    "%%time\n",
    "def objective(trial):\n",
    "    params = {\n",
    "        'alpha': trial.suggest_float('alpha', 1e-4, 1e-2),\n",
    "        'eps': trial.suggest_float('eps', 0.05, 0.5),\n",
    "    }\n",
    "    QL = Qlearning_Doubled_Blackjack(alpha=params.get('alpha'), eps=params.get('eps'))\n",
    "    QL.train(100_000)\n",
    "    return QL.inference()\n",
    "\n",
    "optuna.logging.set_verbosity(optuna.logging.WARNING)\n",
    "study = optuna.create_study(direction=\"maximize\")\n",
    "study.optimize(objective, n_trials=100)\n",
    "\n",
    "print(\"Number of finished trials: {}\".format(len(study.trials)))\n",
    "print(\"Best trial:\")\n",
    "best_trial = study.best_trial\n",
    "\n",
    "print(\"Value: {}\".format(best_trial.value))\n",
    "print(\"Params: \")\n",
    "for key, value in best_trial.params.items():\n",
    "    print(\"{}: {}\".format(key, value))"
   ]
  },
  {
   "cell_type": "code",
   "execution_count": 24,
   "metadata": {},
   "outputs": [
    {
     "name": "stderr",
     "output_type": "stream",
     "text": [
      "100%|██████████| 50/50 [05:44<00:00,  6.90s/it]\n"
     ]
    },
    {
     "name": "stdout",
     "output_type": "stream",
     "text": [
      "CPU times: user 5min 43s, sys: 8.33 s, total: 5min 51s\n",
      "Wall time: 5min 50s\n"
     ]
    }
   ],
   "source": [
    "%%time\n",
    "QL_Doubled = Qlearning_Doubled_Blackjack(\n",
    "    alpha=best_trial.params['alpha'],\n",
    "    eps=best_trial.params['eps']\n",
    ")\n",
    "sums_of_rewards = []\n",
    "best_sum_of_rewards = [QL_Doubled.inference()]\n",
    "for i in tqdm.tqdm(range(50)):\n",
    "    QL_Doubled.train(1000)\n",
    "    sum_of_rewards = QL_Doubled.inference()\n",
    "    sums_of_rewards.append(sum_of_rewards)"
   ]
  },
  {
   "cell_type": "code",
   "execution_count": 25,
   "metadata": {},
   "outputs": [
    {
     "data": {
      "image/png": "[encoded data removed]",
      "text/plain": [
       "<Figure size 432x288 with 1 Axes>"
      ]
     },
     "metadata": {
      "needs_background": "light"
     },
     "output_type": "display_data"
    }
   ],
   "source": [
    "plt.plot(range(0, 50_000, 1000), sums_of_rewards)\n",
    "plt.xlabel('Эпизод')\n",
    "plt.ylabel('Avarage cumulative reward')\n",
    "plt.show()"
   ]
  },
  {
   "cell_type": "code",
   "execution_count": 34,
   "metadata": {},
   "outputs": [
    {
     "name": "stderr",
     "output_type": "stream",
     "text": [
      "100%|██████████| 100/100 [17:31<00:00, 10.51s/it]\n"
     ]
    },
    {
     "data": {
      "image/png": "[encoded data removed]",
      "text/plain": [
       "<Figure size 432x288 with 1 Axes>"
      ]
     },
     "metadata": {
      "needs_background": "light"
     },
     "output_type": "display_data"
    },
    {
     "name": "stdout",
     "output_type": "stream",
     "text": [
      "CPU times: user 17min 28s, sys: 26.4 s, total: 17min 54s\n",
      "Wall time: 17min 37s\n"
     ]
    }
   ],
   "source": [
    "%%time\n",
    "\n",
    "sums_of_rewards = []\n",
    "best_sum_of_rewards = [QL.inference()]\n",
    "for i in tqdm.tqdm(range(100)):\n",
    "    Q_mc, evaluations = monte_carlo(gamma=1, episodes=i*1000, evaluate=False)\n",
    "    sum_of_rewards = MC_inference(Q_mc, num_episodes=100000)\n",
    "    sums_of_rewards.append(sum_of_rewards)\n",
    "    \n",
    "plt.plot(range(0,100000,1000), sums_of_rewards)\n",
    "plt.xlabel('Эпизод')\n",
    "plt.ylabel('Avarage cumulative reward')\n",
    "plt.show()"
   ]
  },
  {
   "cell_type": "markdown",
   "metadata": {},
   "source": [
    "**Часть третья, в главной роли — Дастин Хоффман**"
   ]
  },
  {
   "cell_type": "markdown",
   "metadata": {},
   "source": [
    "6. Реализуйте вариант окружения Blackjack-v0 из предыдущей части (с удвоением), в котором игрок имеет возможность “считать карты” в колоде.¶"
   ]
  },
  {
   "cell_type": "code",
   "execution_count": 44,
   "metadata": {},
   "outputs": [],
   "source": [
    "from gym.envs.toy_text.blackjack import cmp, is_bust, is_natural, score, sum_hand\n",
    "from gym import spaces\n",
    "from gym.envs.toy_text.blackjack import BlackjackEnv\n",
    "\n",
    "\n",
    "class Doubled_Blackjack_V0(BlackjackEnv):\n",
    "    def __init__(self, *args, **kwargs):\n",
    "        self.base_env = gym.make('Blackjack-v1', natural=True)\n",
    "        self.action_space = list(range(3))\n",
    "        super(BlackjackEnv, self).__init__(*args, **kwargs)\n",
    "        \n",
    "    def reset(self):\n",
    "        return self.base_env.reset()\n",
    "    \n",
    "    def step(self, action):\n",
    "        if action == 2:\n",
    "            state, reward, is_done, _ = self.base_env.step(1)\n",
    "            if done:\n",
    "                return state, 2*reward, is_done, _\n",
    "            else:\n",
    "                state, reward, is_done, _ = self.base_env.step(0)\n",
    "                return state, 2*reward, is_done, _\n",
    "        else:\n",
    "            return self.base_env.step(action)\n",
    "\n",
    "class HoffmanBlackjackEnv(Doubled_Blackjack_V0):\n",
    "    def __init__(self, *args, **kwargs):\n",
    "        self.base_env = gym.make('Blackjack-v1', natural=True)\n",
    "        self.na = 3\n",
    "        self.natural = True\n",
    "        self.action_space = spaces.Discrete(3)\n",
    "        self.sum_card = 0\n",
    "        self.initial_deck = [1, 2, 3, 4, 5, 6, 7, 8, 9, 10, 10, 10, 10] * 4\n",
    "        self.deck = self.initial_deck.copy()\n",
    "        self.card_cost = {\n",
    "            1: -1,\n",
    "            2: +0.5,\n",
    "            3: +1,\n",
    "            4: +1,\n",
    "            5: +1.5,\n",
    "            6: +1,\n",
    "            7: +0.5,\n",
    "            8: +0,\n",
    "            9: -0.5,\n",
    "            10: -1,\n",
    "        }\n",
    "        super(HoffmanBlackjackEnv, self).__init__(*args, **kwargs)\n",
    "        \n",
    "    def reset(self):\n",
    "        if len(self.deck) <= 15:\n",
    "            self.sum_card = 0\n",
    "            self.deck = self.initial_deck.copy()\n",
    "        self.dealer = self.draw_hand()\n",
    "        self.player = self.draw_hand()\n",
    "        return self._get_obs()\n",
    "\n",
    "    def draw_card(self):\n",
    "        card = np.random.choice(self.deck)\n",
    "        self.deck.remove(card)\n",
    "        self.sum_card += self.card_cost[card]\n",
    "        return int(card)\n",
    "    \n",
    "    def draw_hand(self):\n",
    "        return [self.draw_card(), self.draw_card()]\n",
    "        \n",
    "    def _get_obs(self):\n",
    "        return (*super(Doubled_Blackjack_V0, self)._get_obs(), self.sum_card)\n",
    "    \n",
    "    def step(self, action):\n",
    "        if action: \n",
    "            self.player.append(self.draw_card())\n",
    "            if is_bust(self.player):\n",
    "                done = True\n",
    "                reward = -1.\n",
    "            else:\n",
    "                done = False\n",
    "                reward = 0.\n",
    "        else:  \n",
    "            done = True\n",
    "            while sum_hand(self.dealer) < 17:\n",
    "                self.dealer.append(self.draw_card())\n",
    "                \n",
    "                \n",
    "            reward = cmp(score(self.player), score(self.dealer))\n",
    "            \n",
    "            if self.natural and is_natural(self.player) and reward == 1.:\n",
    "                reward = 1.5\n",
    "                \n",
    "        return self._get_obs(), reward, done, {}"
   ]
  },
  {
   "cell_type": "code",
   "execution_count": 45,
   "metadata": {},
   "outputs": [],
   "source": [
    "class Qlearning_hoffman():\n",
    "    def __init__(self, alpha=0.00001, gamma=1, eps=0.1):\n",
    "        self.Q = {}\n",
    "        self.alpha = alpha\n",
    "        self.gamma = gamma\n",
    "        self.eps = eps\n",
    "        self.env = HoffmanBlackjackEnv()\n",
    "        self.na = 3\n",
    "        self.action_space = list(range(self.na))\n",
    "    \n",
    "    def get_rewards(self, state):\n",
    "        if state not in self.Q.keys():\n",
    "            self.Q[state] = np.zeros(self.na)\n",
    "        return self.Q[state]\n",
    "    \n",
    "    def get_next_action(self, state):\n",
    "        rewards = self.get_rewards(state)\n",
    "        return np.argmax(rewards)\n",
    "    \n",
    "    def epsilon_greedy_policy(self, state):\n",
    "        if np.random.rand() < self.eps:\n",
    "            action = np.random.choice(self.action_space)\n",
    "        else:\n",
    "            action = self.get_next_action(state)\n",
    "        return action\n",
    "            \n",
    "    def run_episode(self):\n",
    "        state = self.env.reset()\n",
    "        done = False\n",
    "        steps = []\n",
    "        while not done:\n",
    "            action = self.epsilon_greedy_policy(state)\n",
    "            steps.append((state, action))\n",
    "            state, reward, done, _ = self.env.step(action)\n",
    "        return steps, reward\n",
    "    \n",
    "    def train(self, num_episodes=100000):\n",
    "        for n in range(num_episodes):\n",
    "            steps, reward = self.run_episode()\n",
    "            for state, action in steps[::-1]:\n",
    "                reward = self.get_rewards(state)[action] + self.alpha * \\\n",
    "                (reward + self.gamma * np.max(self.Q[state]) - self.get_rewards(state)[action])\n",
    "                self.Q[state][action] = reward\n",
    "    \n",
    "    def inference(self, num_episodes=100000):\n",
    "        average_reward = 0\n",
    "        for i in range(num_episodes):\n",
    "            state = self.env.reset()\n",
    "            is_done = False\n",
    "            while not is_done:\n",
    "                action = self.get_next_action(state)\n",
    "                state, reward, is_done, _ = self.env.step(action)\n",
    "            average_reward += (reward - average_reward) / (i + 1)\n",
    "        return average_reward"
   ]
  },
  {
   "cell_type": "code",
   "execution_count": 46,
   "metadata": {},
   "outputs": [
    {
     "name": "stdout",
     "output_type": "stream",
     "text": [
      "CPU times: user 1min 54s, sys: 1.84 s, total: 1min 56s\n",
      "Wall time: 1min 57s\n"
     ]
    },
    {
     "data": {
      "text/plain": [
       "-0.062485000000000214"
      ]
     },
     "execution_count": 46,
     "metadata": {},
     "output_type": "execute_result"
    }
   ],
   "source": [
    "%%time\n",
    "QL_Hoffman = Qlearning_hoffman()\n",
    "QL_Hoffman.train(100_000_0)\n",
    "QL_Hoffman.inference()"
   ]
  },
  {
   "cell_type": "code",
   "execution_count": 47,
   "metadata": {},
   "outputs": [],
   "source": [
    "env = HoffmanBlackjackEnv()\n",
    "\n",
    "def get_epsilon(N_state_count, N_zero=100):\n",
    "    return N_zero / (N_zero + N_state_count)\n",
    "\n",
    "def get_action(Q, state, state_count, action_size):\n",
    "    random_action = random.randint(0, action_size - 1)\n",
    "    best_action = np.argmax(Q[state])\n",
    "    epsilon = get_epsilon(state_count)\n",
    "    return np.random.choice([best_action, random_action], p=[1. - epsilon, epsilon])\n",
    "\n",
    "def MC_inference(Q, num_episodes=100000):\n",
    "    average_reward = 0\n",
    "    for i in range(num_episodes):\n",
    "        state = env.reset()\n",
    "        is_done = False\n",
    "        while not is_done:\n",
    "            action = np.argmax(Q[state])\n",
    "            state, reward, is_done, _ = env.step(action)\n",
    "        average_reward += (reward - average_reward) / (i + 1)\n",
    "    #print(f\"Средний выигрыш после {num_episodes} эпизодов Monte Carlo control: {average_reward}\")\n",
    "    return average_reward\n",
    "\n",
    "\n",
    "def evaluate_policy(Q, episodes=10000):\n",
    "    wins = 0\n",
    "    for _ in range(episodes):\n",
    "        state = env.reset()\n",
    "        done = False\n",
    "        while not done:\n",
    "            action = np.argmax(Q[state])\n",
    "            state, reward, done, _ = env.step(action=action)\n",
    "        if reward > 0:\n",
    "            wins += 1\n",
    "    return wins / episodes\n",
    "\n",
    "def monte_carlo(gamma=1., episodes=5000, evaluate=False):\n",
    "    Q = defaultdict(lambda: np.zeros(3))\n",
    "    state_count = defaultdict(float)\n",
    "    state_action_count = defaultdict(float)\n",
    "    \n",
    "    evaluations = []\n",
    "    for i in range(episodes):\n",
    "        if evaluate and i % 1000 == 0:\n",
    "            evaluations.append(evaluate_policy(Q))\n",
    "        episode = []\n",
    "        state = env.reset()\n",
    "        done = False\n",
    "        while not done:\n",
    "            state_count[state] += 1\n",
    "            action = get_action(Q, state, state_count[state], 3)\n",
    "            new_state, reward, done, _ = env.step(action=action)\n",
    "            episode.append((state, action, reward))\n",
    "            state = new_state\n",
    "        G = 0\n",
    "        for s, a, r in reversed(episode):\n",
    "            new_s_a_count = state_action_count[(s, a)] + 1\n",
    "            G = r + gamma * G\n",
    "            state_action_count[(s, a)] = new_s_a_count\n",
    "            Q[s][a] = Q[s][a] + (G - Q[s][a]) / new_s_a_count\n",
    "    return Q, evaluations"
   ]
  },
  {
   "cell_type": "code",
   "execution_count": 48,
   "metadata": {},
   "outputs": [
    {
     "data": {
      "text/plain": [
       "-0.03640499999999975"
      ]
     },
     "execution_count": 48,
     "metadata": {},
     "output_type": "execute_result"
    }
   ],
   "source": [
    "Q_mc, evaluations = monte_carlo(episodes=1000000)\n",
    "MC_inference(Q_mc, num_episodes=100000)"
   ]
  },
  {
   "cell_type": "code",
   "execution_count": 49,
   "metadata": {},
   "outputs": [
    {
     "name": "stdout",
     "output_type": "stream",
     "text": [
      "Number of finished trials: 100\n",
      "Best trial:\n",
      "Value: -0.06084500000000045\n",
      "Params: \n",
      "alpha: 0.001256685921485561\n",
      "eps: 0.4920035053913415\n",
      "CPU times: user 30min 15s, sys: 31.3 s, total: 30min 46s\n",
      "Wall time: 30min 45s\n"
     ]
    }
   ],
   "source": [
    "%%time\n",
    "def objective(trial):\n",
    "    params = {\n",
    "        'alpha': trial.suggest_float('alpha', 1e-4, 1e-2),\n",
    "        'eps': trial.suggest_float('eps', 0.05, 0.5),\n",
    "    }\n",
    "    QL = Qlearning_hoffman(alpha=params.get('alpha'), eps=params.get('eps'))\n",
    "    QL.train(100_000)\n",
    "    return QL.inference()\n",
    "\n",
    "optuna.logging.set_verbosity(optuna.logging.WARNING)\n",
    "study = optuna.create_study(direction=\"maximize\")\n",
    "study.optimize(objective, n_trials=100)\n",
    "\n",
    "print(\"Number of finished trials: {}\".format(len(study.trials)))\n",
    "print(\"Best trial:\")\n",
    "best_trial = study.best_trial\n",
    "\n",
    "print(\"Value: {}\".format(best_trial.value))\n",
    "print(\"Params: \")\n",
    "for key, value in best_trial.params.items():\n",
    "    print(\"{}: {}\".format(key, value))"
   ]
  },
  {
   "cell_type": "code",
   "execution_count": 51,
   "metadata": {},
   "outputs": [
    {
     "name": "stderr",
     "output_type": "stream",
     "text": [
      "100%|██████████| 100/100 [13:43<00:00,  8.24s/it]\n"
     ]
    },
    {
     "name": "stdout",
     "output_type": "stream",
     "text": [
      "CPU times: user 13min 37s, sys: 18.9 s, total: 13min 56s\n",
      "Wall time: 13min 51s\n"
     ]
    }
   ],
   "source": [
    "%%time\n",
    "QL_Hoffman = Qlearning_hoffman(alpha=best_trial.params['alpha'], eps=best_trial.params['eps'])\n",
    "sums_of_rewards = []\n",
    "best_sum_of_rewards = [QL_Hoffman.inference()]\n",
    "for i in tqdm.tqdm(range(100)):\n",
    "    QL_Hoffman.train(1000)\n",
    "    sum_of_rewards = QL_Hoffman.inference()\n",
    "    sums_of_rewards.append(sum_of_rewards)"
   ]
  },
  {
   "cell_type": "code",
   "execution_count": 52,
   "metadata": {},
   "outputs": [
    {
     "data": {
      "image/png": "[encoded data removed]",
      "text/plain": [
       "<Figure size 432x288 with 1 Axes>"
      ]
     },
     "metadata": {
      "needs_background": "light"
     },
     "output_type": "display_data"
    }
   ],
   "source": [
    "plt.plot(range(0,100000,1000), sums_of_rewards)\n",
    "plt.xlabel('Эпизод')\n",
    "plt.ylabel('Avarage cumulative reward')\n",
    "plt.show()"
   ]
  },
  {
   "cell_type": "code",
   "execution_count": 54,
   "metadata": {},
   "outputs": [
    {
     "name": "stderr",
     "output_type": "stream",
     "text": [
      "100%|██████████| 100/100 [22:15<00:00, 13.35s/it]\n"
     ]
    },
    {
     "data": {
      "image/png": "[encoded data removed]",
      "text/plain": [
       "<Figure size 432x288 with 1 Axes>"
      ]
     },
     "metadata": {
      "needs_background": "light"
     },
     "output_type": "display_data"
    },
    {
     "name": "stdout",
     "output_type": "stream",
     "text": [
      "CPU times: user 22min 9s, sys: 29.5 s, total: 22min 38s\n",
      "Wall time: 22min 21s\n"
     ]
    }
   ],
   "source": [
    "%%time\n",
    "\n",
    "sums_of_rewards = []\n",
    "best_sum_of_rewards = [QL.inference()]\n",
    "for i in tqdm.tqdm(range(100)):\n",
    "    Q_mc, evaluations = monte_carlo(gamma=1, episodes=i*1000, evaluate=False)\n",
    "    sum_of_rewards = MC_inference(Q_mc, num_episodes=100000)\n",
    "    sums_of_rewards.append(sum_of_rewards)\n",
    "    \n",
    "plt.plot(range(0,100000,1000), sums_of_rewards)\n",
    "plt.xlabel('Эпизод')\n",
    "plt.ylabel('Avarage cumulative reward')\n",
    "plt.show()"
   ]
  },
  {
   "cell_type": "code",
   "execution_count": null,
   "metadata": {},
   "outputs": [],
   "source": []
  }
 ],
 "metadata": {
  "kernelspec": {
   "display_name": "Python 3",
   "language": "python",
   "name": "python3"
  },
  "language_info": {
   "codemirror_mode": {
    "name": "ipython",
    "version": 3
   },
   "file_extension": ".py",
   "mimetype": "text/x-python",
   "name": "python",
   "nbconvert_exporter": "python",
   "pygments_lexer": "ipython3",
   "version": "3.7.6"
  }
 },
 "nbformat": 4,
 "nbformat_minor": 4
}
