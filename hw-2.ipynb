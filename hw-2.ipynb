{
  "nbformat": 4,
  "nbformat_minor": 0,
  "metadata": {
    "kernelspec": {
      "display_name": "Python 3",
      "language": "python",
      "name": "python3"
    },
    "language_info": {
      "codemirror_mode": {
        "name": "ipython",
        "version": 3
      },
      "file_extension": ".py",
      "mimetype": "text/x-python",
      "name": "python",
      "nbconvert_exporter": "python",
      "pygments_lexer": "ipython3",
      "version": "3.7.6"
    },
    "colab": {
      "name": "hw-2.ipynb",
      "provenance": [],
      "collapsed_sections": []
    }
  },
  "cells": [
    {
      "cell_type": "code",
      "metadata": {
        "id": "eQqiSxHEV_G5"
      },
      "source": [
        "import numpy as np\n",
        "import gym\n",
        "import math\n",
        "\n",
        "from tqdm import tqdm\n",
        "from matplotlib import pyplot as plt\n",
        "import torch\n",
        "import torch.nn as nn\n",
        "import torch.optim as optim\n",
        "import torch.nn.functional as F\n",
        "import torchvision.transforms as T\n",
        "from torch.autograd import Variable\n",
        "from pprint import pprint"
      ],
      "execution_count": 1,
      "outputs": []
    },
    {
      "cell_type": "code",
      "metadata": {
        "id": "h0EEOS7mV_G-"
      },
      "source": [
        "N_ROWS, N_COLS, N_WIN = 3, 3, 3\n",
        "class Observation:\n",
        "    def __init__(self, state_hash, board, actions, cur_turn):\n",
        "        self.hash = state_hash\n",
        "        self.board = board\n",
        "        self.actions = actions\n",
        "        self.cur_turn = cur_turn\n",
        "    \n",
        "    def __repr__(self):\n",
        "        return f'hash: {self.hash},\\n board:\\n {self.board},\\n actions:{self.actions},\\n turn:{self.cur_turn}'\n",
        "\n",
        "\n",
        "class TicTacToe(gym.Env):\n",
        "    def __init__(self, n_rows=N_ROWS, n_cols=N_COLS, n_win=N_WIN):\n",
        "        self.n_rows = n_rows\n",
        "        self.n_cols = n_cols\n",
        "        self.n_win = n_win\n",
        "\n",
        "        self.board = np.zeros((self.n_rows, self.n_cols), dtype=int)\n",
        "        self.gameOver = False\n",
        "        self.boardHash = None\n",
        "        # ход первого игрока\n",
        "        self.curTurn = 1\n",
        "        self.emptySpaces = None\n",
        "        self.empty_spaces = None\n",
        "        \n",
        "        self.reset()\n",
        "\n",
        "    def getEmptySpaces(self):\n",
        "        if self.emptySpaces is None:\n",
        "            res = np.where(self.board == 0)\n",
        "            self.emptySpaces = np.array([ (i, j) for i,j in zip(res[0], res[1]) ])\n",
        "        return self.emptySpaces\n",
        "\n",
        "    def get_empty_spaces(self):\n",
        "        if self.empty_spaces is None:\n",
        "            res = np.where(self.board == 0)\n",
        "            self.empty_spaces = np.array([ self.int_from_action((i, j)) for i,j in zip(res[0], res[1])])\n",
        "        return self.empty_spaces\n",
        "        \n",
        "    def makeMove(self, player, i, j):\n",
        "        self.board[i, j] = player\n",
        "        self.emptySpaces = None\n",
        "        self.empty_spaces = None\n",
        "        self.boardHash = None\n",
        "\n",
        "    def getHash(self):\n",
        "        if self.boardHash is None:\n",
        "            self.boardHash = ''.join(['%s' % (x+1) for x in self.board.reshape(self.n_rows * self.n_cols)])\n",
        "        return self.boardHash\n",
        "\n",
        "    def isTerminal(self):\n",
        "        # проверим, не закончилась ли игра\n",
        "        cur_marks, cur_p = np.where(self.board == self.curTurn), self.curTurn\n",
        "        for i,j in zip(cur_marks[0], cur_marks[1]):\n",
        "            win = False\n",
        "            if i <= self.n_rows - self.n_win:\n",
        "                if np.all(self.board[i:i+self.n_win, j] == cur_p):\n",
        "                    win = True\n",
        "            if not win:\n",
        "                if j <= self.n_cols - self.n_win:\n",
        "                    if np.all(self.board[i,j:j+self.n_win] == cur_p):\n",
        "                        win = True\n",
        "            if not win:\n",
        "                if i <= self.n_rows - self.n_win and j <= self.n_cols - self.n_win:\n",
        "                    if np.all(np.array([ self.board[i+k,j+k] == cur_p for k in range(self.n_win) ])):\n",
        "                        win = True\n",
        "            if not win:\n",
        "                if i <= self.n_rows - self.n_win and j >= self.n_win-1:\n",
        "                    if np.all(np.array([ self.board[i+k,j-k] == cur_p for k in range(self.n_win) ])):\n",
        "                        win = True\n",
        "            if win:\n",
        "                self.gameOver = True\n",
        "                return self.curTurn\n",
        "\n",
        "        if len(self.getEmptySpaces()) == 0:\n",
        "            self.gameOver = True\n",
        "            return 0\n",
        "\n",
        "        self.gameOver = False\n",
        "        return None\n",
        "\n",
        "    def printBoard(self):\n",
        "        for i in range(0, self.n_rows):\n",
        "            print('----'*(self.n_cols)+'-')\n",
        "            out = '| '\n",
        "            for j in range(0, self.n_cols):\n",
        "                if self.board[i, j] == 1:\n",
        "                    token = 'x'\n",
        "                if self.board[i, j] == -1:\n",
        "                    token = 'o'\n",
        "                if self.board[i, j] == 0:\n",
        "                    token = ' '\n",
        "                out += token + ' | '\n",
        "            print(out)\n",
        "        print('----'*(self.n_cols)+'-')\n",
        "\n",
        "    def getState(self) -> Observation:\n",
        "        return Observation(self.getHash(), self.board, self.get_empty_spaces(), self.curTurn)\n",
        "\n",
        "    def action_from_int(self, action_int):\n",
        "        return ( int(action_int / self.n_cols), int(action_int % self.n_cols))\n",
        "\n",
        "    def int_from_action(self, action):\n",
        "        return action[0] * self.n_cols + action[1]\n",
        "    \n",
        "    def _step(self, action):\n",
        "        if self.board[action[0], action[1]] != 0:\n",
        "            return self.getState(), -10 * self.curTurn, True, {}\n",
        "        self.makeMove(self.curTurn, action[0], action[1])\n",
        "        reward = self.isTerminal()\n",
        "        self.curTurn = -self.curTurn\n",
        "        return self.getState(), 0 if reward is None else reward, reward is not None, {}\n",
        "    \n",
        "    def step(self, num):\n",
        "        state, reward, done, info = self._step(self.action_from_int(num))        \n",
        "        return state, reward, done, info\n",
        "\n",
        "    def reset(self)-> Observation:\n",
        "        self.board = np.zeros((self.n_rows, self.n_cols), dtype=int)\n",
        "        self.boardHash = None\n",
        "        self.gameOver = False\n",
        "        self.emptySpaces = None\n",
        "        self.empty_spaces = None\n",
        "        self.curTurn = 1\n",
        "        return self.getState()\n"
      ],
      "execution_count": 2,
      "outputs": []
    },
    {
      "cell_type": "code",
      "metadata": {
        "id": "5-0fI4cYV_HA"
      },
      "source": [
        "class BaseAgent:\n",
        "    def __init__(self, env: TicTacToe):\n",
        "        self.env = env\n",
        "        self.actions_count = env.n_rows * env.n_cols\n",
        "    \n",
        "    def learn(self, state, action, reward, new_state):\n",
        "        pass\n",
        "    \n",
        "    def get_action(self, state: Observation, eps=0.01):\n",
        "        pass"
      ],
      "execution_count": 3,
      "outputs": []
    },
    {
      "cell_type": "code",
      "metadata": {
        "id": "nn38gdNcV_HB"
      },
      "source": [
        "def plot_result(data, title): \n",
        "    plt.figure(figsize=(10,8))\n",
        "    plt.plot(\n",
        "        data[0],\n",
        "        data[2],\n",
        "        label='X'\n",
        "    )\n",
        "\n",
        "    plt.plot(\n",
        "        data[0],\n",
        "        data[3],\n",
        "        label='O'\n",
        "    )\n",
        "\n",
        "    plt.legend()\n",
        "    plt.xlabel('Episodes')\n",
        "    plt.ylabel('Avg reward')\n",
        "    plt.title(title)\n",
        "    plt.grid()\n",
        "    plt.show()\n",
        "    \n",
        "    plt.figure(figsize=(10,8))\n",
        "    plt.plot(\n",
        "        data[0],\n",
        "        data[1]\n",
        "    )\n",
        "    plt.xlabel('Episodes')\n",
        "    plt.ylabel('Avg reward')\n",
        "    plt.title('2 greedy stratages')\n",
        "    plt.grid()\n",
        "    plt.show()"
      ],
      "execution_count": 4,
      "outputs": []
    },
    {
      "cell_type": "markdown",
      "metadata": {
        "id": "2VJvCTUbV_HB"
      },
      "source": [
        "### Часть первая: крестики-нолики при помощи Q-обучения\n",
        "1. Реализуйте обычное (табличное) Q-обучение. Обучите стратегии крестиков и ноликов для доски 3х3.\n",
        "2. Попробуйте обучить стратегии крестиков и ноликов для доски 4х4 и/или 5х5."
      ]
    },
    {
      "cell_type": "code",
      "metadata": {
        "id": "4elrQAdnV_HD"
      },
      "source": [
        "class QLearning(BaseAgent):\n",
        "    def __init__(self, env, alpha=0.1, gamma=0.85):\n",
        "        super().__init__(env)\n",
        "        self.gamma = gamma\n",
        "        self.alpha = alpha\n",
        "        self.Q = {}\n",
        "    \n",
        "    def learn(self, state: Observation, action, reward, new_state: Observation):\n",
        "        if state.hash not in self.Q:\n",
        "            self.Q[state.hash] = np.random.random(size=self.actions_count)\n",
        "        if new_state.hash not in self.Q:\n",
        "            self.Q[new_state.hash] = np.zeros(shape=self.actions_count)\n",
        "        Q = self.Q[state.hash][action]\n",
        "        Qmax = np.max(self.Q[new_state.hash][state.actions])\n",
        "        self.Q[state.hash][action] += self.alpha * (reward + self.gamma * Qmax - Q)\n",
        "    \n",
        "    def get_action(self, state: Observation, eps=0.0):\n",
        "        if np.random.random() > eps:\n",
        "            if state.hash not in self.Q:\n",
        "                self.Q[state.hash] = np.zeros(shape=self.actions_count)\n",
        "            return state.actions[np.argmax(self.Q[state.hash][state.actions])]\n",
        "        return state.actions[np.random.randint(0, len(state.actions))]"
      ],
      "execution_count": null,
      "outputs": []
    },
    {
      "cell_type": "code",
      "metadata": {
        "id": "3nLWcluNV_HE"
      },
      "source": [
        "class RandomAgent(BaseAgent):\n",
        "    def get_action(self, state, eps=0):\n",
        "        return state.actions[np.random.randint(0, len(state.actions))]"
      ],
      "execution_count": 11,
      "outputs": []
    },
    {
      "cell_type": "code",
      "metadata": {
        "id": "aks-hXV_V_HF"
      },
      "source": [
        "class TicTacToeSupervisor:\n",
        "    def __init__(self, env: TicTacToe, agent1: BaseAgent, agent2: BaseAgent, agent3: BaseAgent):\n",
        "        self.agent1 = agent1\n",
        "        self.agent2 = agent2\n",
        "        self.agent3 = agent3\n",
        "        self.env = env\n",
        "        self.eps_init = 0.9\n",
        "        self.eps_final = 0.05\n",
        "        self.eps_decay = 200\n",
        "\n",
        "    def current_eps(self, num_step):\n",
        "        return self.eps_final + (self.eps_init - self.eps_final) * math.exp(-1. * num_step / self.eps_decay)\n",
        "    \n",
        "    def run_episode(self, cross, nought, eps=0.1):\n",
        "        done = False\n",
        "        prevc_state = self.env.reset()\n",
        "        cross_action = cross.get_action(prevc_state, eps)\n",
        "        prevn_state, reward, done, _ = self.env.step(cross_action)\n",
        "        while True:\n",
        "            nought_action = nought.get_action(prevn_state, eps)\n",
        "            curc_state, reward, done, _ = self.env.step(nought_action)\n",
        "            cross.learn(prevc_state, cross_action, reward, curc_state)\n",
        "            if done:\n",
        "                nought.learn(prevn_state, nought_action, -reward, curc_state)\n",
        "                break\n",
        "            prevc_state = curc_state\n",
        "            cross_action = cross.get_action(prevc_state, eps)\n",
        "            curn_state, reward, done, _ = self.env.step(cross_action)\n",
        "            nought.learn(prevn_state, nought_action, -reward, curn_state)\n",
        "            if done:\n",
        "                cross.learn(prevc_state, cross_action, reward, curn_state)\n",
        "                break\n",
        "            prevn_state = curn_state\n",
        "    \n",
        "    def evaluate(self, crosses: BaseAgent, noughts: BaseAgent, eps=0.0):\n",
        "        done = False\n",
        "        state = self.env.reset()\n",
        "        while not done:\n",
        "            state, reward, done, _ = self.env.step(crosses.get_action(state, eps))\n",
        "            if done:\n",
        "                break\n",
        "            state, reward, done, _ = self.env.step(noughts.get_action(state, eps))\n",
        "        \n",
        "        return reward\n",
        "    \n",
        "    def fit(self, episodes, experiments, every, verbose=False):\n",
        "        x = np.arange(0, episodes, every)\n",
        "        scores = [np.zeros((episodes + every - 1) // every) for i in range(3)]\n",
        "        measure_count = 0\n",
        "        \n",
        "        for i in tqdm(range(episodes)):\n",
        "            eps = self.current_eps(i)\n",
        "            if i % 5 == 0:\n",
        "                self.run_episode(self.agent1, self.agent2, self.current_eps(i))\n",
        "            else:\n",
        "                self.run_episode(self.agent1, self.agent3, eps)\n",
        "                self.run_episode(self.agent3, self.agent2, eps)\n",
        "\n",
        "            if every > 0 and i % every == 0:\n",
        "                for j in range(experiments):\n",
        "                    scores[1][measure_count] += self.evaluate(self.agent1, self.agent3)\n",
        "                    scores[2][measure_count] -= self.evaluate(self.agent3, self.agent2)\n",
        "                scores[0][measure_count] += self.evaluate(self.agent1, self.agent2, eps)\n",
        "                for j in range(1, 3):\n",
        "                    scores[j][measure_count] /= experiments\n",
        "                if verbose:\n",
        "                    print(f'Episode #{i} score: \\t{scores[0][measure_count]}, | \\t{scores[1][measure_count]}, | \\t{scores[2][measure_count]}')\n",
        "                measure_count += 1\n",
        "        \n",
        "        return (x, *scores)"
      ],
      "execution_count": 9,
      "outputs": []
    },
    {
      "cell_type": "code",
      "metadata": {
        "id": "1esONwwhV_HF",
        "outputId": "1062bfa1-1c14-4c8a-c501-194e3eebabb0"
      },
      "source": [
        "env = TicTacToe()\n",
        "superviser = TicTacToeSupervisor(env, QLearning(env, alpha=0.1, gamma=0.85), QLearning(env, alpha=0.1, gamma=0.85), RandomAgent(env))\n",
        "data = superviser.fit(200000, 100, 2000, False)"
      ],
      "execution_count": null,
      "outputs": [
        {
          "name": "stderr",
          "output_type": "stream",
          "text": [
            "100%|██████████| 200000/200000 [03:32<00:00, 942.32it/s] \n"
          ]
        }
      ]
    },
    {
      "cell_type": "code",
      "metadata": {
        "id": "VFnWblsRV_HH",
        "outputId": "4cf93427-4021-4fcf-d0d5-15307fbdf94d"
      },
      "source": [
        "plot_result(data, '3x3 (O - random)')"
      ],
      "execution_count": null,
      "outputs": [
        {
          "data": {
            "image/png": "[encoded data removed]",
            "text/plain": [
              "<Figure size 720x576 with 1 Axes>"
            ]
          },
          "metadata": {
            "needs_background": "light"
          },
          "output_type": "display_data"
        },
        {
          "data": {
            "image/png": "[encoded data removed]",
            "text/plain": [
              "<Figure size 720x576 with 1 Axes>"
            ]
          },
          "metadata": {
            "needs_background": "light"
          },
          "output_type": "display_data"
        }
      ]
    },
    {
      "cell_type": "code",
      "metadata": {
        "id": "DCawZAyrV_HH",
        "outputId": "25207ed8-0f7d-4c1b-a848-6a5cd3371b77"
      },
      "source": [
        "env = TicTacToe(n_rows=4, n_cols=4, n_win=4)\n",
        "superviser = TicTacToeSupervisor(env, QLearning(env, alpha=0.2, gamma=1), QLearning(env, alpha=0.2, gamma=1), RandomAgent(env))\n",
        "data = superviser.fit(500000, 50, 20000, False)"
      ],
      "execution_count": null,
      "outputs": [
        {
          "name": "stderr",
          "output_type": "stream",
          "text": [
            "100%|██████████| 500000/500000 [18:59<00:00, 438.95it/s]\n"
          ]
        }
      ]
    },
    {
      "cell_type": "code",
      "metadata": {
        "id": "zhvHMa70V_HI",
        "outputId": "298cc981-c69b-4ba8-e813-2ae3a54e81d9"
      },
      "source": [
        "plot_result(data, '4x4 (O - random)')"
      ],
      "execution_count": null,
      "outputs": [
        {
          "data": {
            "image/png": "[encoded data removed]",
            "text/plain": [
              "<Figure size 720x576 with 1 Axes>"
            ]
          },
          "metadata": {
            "needs_background": "light"
          },
          "output_type": "display_data"
        },
        {
          "data": {
            "image/png": "[encoded data removed]",
            "text/plain": [
              "<Figure size 720x576 with 1 Axes>"
            ]
          },
          "metadata": {
            "needs_background": "light"
          },
          "output_type": "display_data"
        }
      ]
    },
    {
      "cell_type": "markdown",
      "metadata": {
        "id": "hys7HRUMV_HI"
      },
      "source": [
        "### Часть вторая: добавим нейронных сетей\n",
        "Реализуйте нейронную сеть для метода DQN на доске для крестиков-ноликов. Не буду ограничивать фантазию, но кажется, что свёртки 3х3 здесь должны неплохо работать (в том числе обобщаться на доски размера побольше).\n",
        "\n",
        "1. Реализуйте DQN с нейронной сетью, обучите стратегии крестиков и ноликов. Замечание: скорее всего, experience replay потребуется сразу же.\n",
        "\n",
        "2. Реализуйте Double DQN и/или Dueling DQN."
      ]
    },
    {
      "cell_type": "code",
      "metadata": {
        "id": "DCYO-ZNOV_HJ"
      },
      "source": [
        "import random\n",
        "class ReplayMemory():\n",
        "    def __init__(self, capacity):\n",
        "        self.capacity = capacity\n",
        "        self.memory = []\n",
        "        self.position = 0\n",
        "\n",
        "    def store(self, exptuple):\n",
        "        if len(self.memory) < self.capacity:\n",
        "            self.memory.append(None)\n",
        "        self.memory[self.position] = exptuple\n",
        "        self.position = (self.position + 1) % self.capacity\n",
        "       \n",
        "    def sample(self, batch_size):\n",
        "        return random.sample(self.memory, batch_size)\n",
        "    \n",
        "    def __len__(self):\n",
        "        return len(self.memory)"
      ],
      "execution_count": 5,
      "outputs": []
    },
    {
      "cell_type": "code",
      "metadata": {
        "id": "HRo5zx7lV_HJ"
      },
      "source": [
        "class Network(nn.Module):\n",
        "    def __init__(self, n_rows, n_cols, hidden_size=128):\n",
        "        nn.Module.__init__(self)\n",
        "        self.conv1 = nn.Conv2d(in_channels=1, out_channels=hidden_size, kernel_size=(n_rows ,  n_cols))\n",
        "        self.fc1 = nn.Linear(hidden_size, hidden_size)\n",
        "        self.fc2 = nn.Linear(hidden_size, n_rows * n_cols)\n",
        "\n",
        "    def forward(self, x):\n",
        "        x = self.conv1(x)\n",
        "        x = F.relu(x)\n",
        "        x = x.squeeze(-1).squeeze(-1)\n",
        "        x = self.fc1(x)\n",
        "        x = F.relu(x)\n",
        "        x = self.fc2(x)\n",
        "        return x\n",
        "\n",
        "class Network4(nn.Module):\n",
        "    def __init__(self, conv1=32, conv2=256):\n",
        "        nn.Module.__init__(self)\n",
        "        self.conv1 = nn.Conv2d(in_channels=1, out_channels=conv1, kernel_size=(3, 3))\n",
        "        self.conv2 = nn.Conv2d(in_channels=conv1, out_channels=conv2, kernel_size=(2, 2))\n",
        "        self.fc1 = nn.Linear(conv2, conv2)\n",
        "        self.fc2 = nn.Linear(conv2, 16)\n",
        "        \n",
        "    def forward(self, x):\n",
        "        x = self.conv1(x)\n",
        "        x = F.relu(x)\n",
        "        x = self.conv2(x)\n",
        "        x = F.relu(x)\n",
        "        x = x.squeeze(-1).squeeze(-1)\n",
        "        x = self.fc1(x)\n",
        "        x = F.relu(x)\n",
        "        x = self.fc2(x)\n",
        "        \n",
        "        return x"
      ],
      "execution_count": 6,
      "outputs": []
    },
    {
      "cell_type": "code",
      "metadata": {
        "id": "9YKmKYHoV_HJ"
      },
      "source": [
        "class DQN(BaseAgent):\n",
        "    def __init__(self, env, network, replay_memory, gamma=1):\n",
        "        super().__init__(env)\n",
        "        self.model = network\n",
        "        self.memory = replay_memory\n",
        "        self.optimizer = optim.Adam(self.model.parameters(), 1e-6)\n",
        "        self.batch_size = 128\n",
        "        self.gamma = gamma\n",
        "    \n",
        "    def state_to_tensor(self, state):\n",
        "        return torch.tensor(np.expand_dims(state.board, axis=(0, 1)), dtype=torch.float32)\n",
        "    \n",
        "    def get_action(self, state, eps=0.0):\n",
        "        if np.random.random() > eps:\n",
        "            with torch.no_grad():\n",
        "                tensor_state = self.state_to_tensor(state)\n",
        "            q = self.model(tensor_state)[0].data.cpu().numpy()\n",
        "            return state.actions[np.argmax(q[state.actions])]\n",
        "        return state.actions[np.random.randint(0, len(state.actions))]\n",
        "    \n",
        "    \n",
        "    def learn(self, state, action, reward, new_state):\n",
        "        transition = (self.state_to_tensor(state), action, self.state_to_tensor(new_state), reward)\n",
        "        self.memory.store(transition)\n",
        "        if len(self.memory) < self.batch_size:\n",
        "            return\n",
        "        \n",
        "        transitions = self.memory.sample(self.batch_size)\n",
        "        batch_state, batch_action, batch_next_state, batch_reward = zip(*transitions)\n",
        "        \n",
        "        batch_state = Variable(torch.cat(batch_state))\n",
        "        batch_action = torch.tensor(batch_action, dtype=torch.int64).unsqueeze(1)\n",
        "        batch_reward = torch.tensor(batch_reward, dtype=torch.float32)\n",
        "        batch_next_state = Variable(torch.cat(batch_next_state))\n",
        "        \n",
        "        Q = self.model(batch_state).gather(1, batch_action).reshape([self.batch_size])\n",
        "        \n",
        "        Qmax = self.model(batch_next_state).detach().max(1)[0]\n",
        "        Qnext = batch_reward + (self.gamma * Qmax)\n",
        "        \n",
        "        loss = F.smooth_l1_loss(Q, Qnext)\n",
        "\n",
        "        self.optimizer.zero_grad()\n",
        "        loss.backward()\n",
        "        self.optimizer.step()"
      ],
      "execution_count": 7,
      "outputs": []
    },
    {
      "cell_type": "code",
      "metadata": {
        "colab": {
          "base_uri": "https://localhost:8080/"
        },
        "id": "86sYoUO8V_HK",
        "outputId": "de7ac6d7-3961-4a64-a7c1-c8e4aa81d560"
      },
      "source": [
        "env = TicTacToe(3, 3)\n",
        "c_memory, n_memory = ReplayMemory(100000), ReplayMemory(100000)\n",
        "c_network, n_network = Network(3, 3, 512), Network(3, 3, 512)\n",
        "DQNCrosses, DQNNoughts = DQN(env, c_network, c_memory), DQN(env, n_network, n_memory)\n",
        "supervisor = TicTacToeSupervisor(env, DQNCrosses, DQNNoughts, RandomAgent(env))\n",
        "data = supervisor.fit(15000, 500, 300, True)"
      ],
      "execution_count": 12,
      "outputs": [
        {
          "output_type": "stream",
          "name": "stderr",
          "text": [
            "  0%|          | 1/15000 [00:02<10:07:38,  2.43s/it]"
          ]
        },
        {
          "output_type": "stream",
          "name": "stdout",
          "text": [
            "Episode #0 score: \t-1.0, | \t0.18, | \t-0.386\n"
          ]
        },
        {
          "output_type": "stream",
          "name": "stderr",
          "text": [
            "  2%|▏         | 303/15000 [00:29<1:16:50,  3.19it/s]"
          ]
        },
        {
          "output_type": "stream",
          "name": "stdout",
          "text": [
            "Episode #300 score: \t-1.0, | \t0.598, | \t0.3\n"
          ]
        },
        {
          "output_type": "stream",
          "name": "stderr",
          "text": [
            "  4%|▍         | 603/15000 [00:57<1:07:54,  3.53it/s]"
          ]
        },
        {
          "output_type": "stream",
          "name": "stdout",
          "text": [
            "Episode #600 score: \t-1.0, | \t0.668, | \t0.428\n"
          ]
        },
        {
          "output_type": "stream",
          "name": "stderr",
          "text": [
            "  6%|▌         | 903/15000 [01:23<1:05:57,  3.56it/s]"
          ]
        },
        {
          "output_type": "stream",
          "name": "stdout",
          "text": [
            "Episode #900 score: \t-1.0, | \t0.854, | \t0.336\n"
          ]
        },
        {
          "output_type": "stream",
          "name": "stderr",
          "text": [
            "  8%|▊         | 1203/15000 [01:50<1:07:09,  3.42it/s]"
          ]
        },
        {
          "output_type": "stream",
          "name": "stdout",
          "text": [
            "Episode #1200 score: \t-1.0, | \t0.866, | \t0.4\n"
          ]
        },
        {
          "output_type": "stream",
          "name": "stderr",
          "text": [
            " 10%|█         | 1503/15000 [02:15<1:00:53,  3.69it/s]"
          ]
        },
        {
          "output_type": "stream",
          "name": "stdout",
          "text": [
            "Episode #1500 score: \t1.0, | \t0.866, | \t0.356\n"
          ]
        },
        {
          "output_type": "stream",
          "name": "stderr",
          "text": [
            " 12%|█▏        | 1802/15000 [02:40<1:11:45,  3.07it/s]"
          ]
        },
        {
          "output_type": "stream",
          "name": "stdout",
          "text": [
            "Episode #1800 score: \t-1.0, | \t0.766, | \t0.398\n"
          ]
        },
        {
          "output_type": "stream",
          "name": "stderr",
          "text": [
            " 14%|█▍        | 2102/15000 [03:05<1:14:40,  2.88it/s]"
          ]
        },
        {
          "output_type": "stream",
          "name": "stdout",
          "text": [
            "Episode #2100 score: \t1.0, | \t0.92, | \t0.386\n"
          ]
        },
        {
          "output_type": "stream",
          "name": "stderr",
          "text": [
            " 16%|█▌        | 2402/15000 [03:30<1:15:11,  2.79it/s]"
          ]
        },
        {
          "output_type": "stream",
          "name": "stdout",
          "text": [
            "Episode #2400 score: \t1.0, | \t0.9, | \t0.39\n"
          ]
        },
        {
          "output_type": "stream",
          "name": "stderr",
          "text": [
            " 18%|█▊        | 2702/15000 [03:55<1:11:38,  2.86it/s]"
          ]
        },
        {
          "output_type": "stream",
          "name": "stdout",
          "text": [
            "Episode #2700 score: \t-1.0, | \t0.956, | \t0.368\n"
          ]
        },
        {
          "output_type": "stream",
          "name": "stderr",
          "text": [
            " 20%|██        | 3003/15000 [04:21<56:09,  3.56it/s]  "
          ]
        },
        {
          "output_type": "stream",
          "name": "stdout",
          "text": [
            "Episode #3000 score: \t-1.0, | \t0.904, | \t0.356\n"
          ]
        },
        {
          "output_type": "stream",
          "name": "stderr",
          "text": [
            " 22%|██▏       | 3303/15000 [04:46<52:46,  3.69it/s]  "
          ]
        },
        {
          "output_type": "stream",
          "name": "stdout",
          "text": [
            "Episode #3300 score: \t1.0, | \t0.902, | \t0.362\n"
          ]
        },
        {
          "output_type": "stream",
          "name": "stderr",
          "text": [
            " 24%|██▍       | 3603/15000 [05:11<52:30,  3.62it/s]  "
          ]
        },
        {
          "output_type": "stream",
          "name": "stdout",
          "text": [
            "Episode #3600 score: \t1.0, | \t0.906, | \t0.298\n"
          ]
        },
        {
          "output_type": "stream",
          "name": "stderr",
          "text": [
            " 26%|██▌       | 3903/15000 [05:37<53:56,  3.43it/s]  "
          ]
        },
        {
          "output_type": "stream",
          "name": "stdout",
          "text": [
            "Episode #3900 score: \t0.0, | \t0.77, | \t0.32\n"
          ]
        },
        {
          "output_type": "stream",
          "name": "stderr",
          "text": [
            " 28%|██▊       | 4202/15000 [06:02<1:05:50,  2.73it/s]"
          ]
        },
        {
          "output_type": "stream",
          "name": "stdout",
          "text": [
            "Episode #4200 score: \t1.0, | \t0.728, | \t0.41\n"
          ]
        },
        {
          "output_type": "stream",
          "name": "stderr",
          "text": [
            " 30%|███       | 4502/15000 [06:27<1:04:26,  2.71it/s]"
          ]
        },
        {
          "output_type": "stream",
          "name": "stdout",
          "text": [
            "Episode #4500 score: \t1.0, | \t0.736, | \t0.39\n"
          ]
        },
        {
          "output_type": "stream",
          "name": "stderr",
          "text": [
            " 32%|███▏      | 4802/15000 [06:52<1:02:02,  2.74it/s]"
          ]
        },
        {
          "output_type": "stream",
          "name": "stdout",
          "text": [
            "Episode #4800 score: \t1.0, | \t0.768, | \t0.394\n"
          ]
        },
        {
          "output_type": "stream",
          "name": "stderr",
          "text": [
            " 34%|███▍      | 5102/15000 [07:17<1:00:49,  2.71it/s]"
          ]
        },
        {
          "output_type": "stream",
          "name": "stdout",
          "text": [
            "Episode #5100 score: \t1.0, | \t0.774, | \t0.432\n"
          ]
        },
        {
          "output_type": "stream",
          "name": "stderr",
          "text": [
            " 36%|███▌      | 5402/15000 [07:43<57:08,  2.80it/s]"
          ]
        },
        {
          "output_type": "stream",
          "name": "stdout",
          "text": [
            "Episode #5400 score: \t1.0, | \t0.864, | \t0.334\n"
          ]
        },
        {
          "output_type": "stream",
          "name": "stderr",
          "text": [
            " 38%|███▊      | 5702/15000 [08:07<55:09,  2.81it/s]"
          ]
        },
        {
          "output_type": "stream",
          "name": "stdout",
          "text": [
            "Episode #5700 score: \t1.0, | \t0.942, | \t0.32\n"
          ]
        },
        {
          "output_type": "stream",
          "name": "stderr",
          "text": [
            " 40%|████      | 6002/15000 [08:33<54:54,  2.73it/s]"
          ]
        },
        {
          "output_type": "stream",
          "name": "stdout",
          "text": [
            "Episode #6000 score: \t-1.0, | \t0.944, | \t0.406\n"
          ]
        },
        {
          "output_type": "stream",
          "name": "stderr",
          "text": [
            " 42%|████▏     | 6302/15000 [08:59<51:08,  2.83it/s]"
          ]
        },
        {
          "output_type": "stream",
          "name": "stdout",
          "text": [
            "Episode #6300 score: \t1.0, | \t0.882, | \t0.372\n"
          ]
        },
        {
          "output_type": "stream",
          "name": "stderr",
          "text": [
            " 44%|████▍     | 6602/15000 [09:24<50:04,  2.79it/s]"
          ]
        },
        {
          "output_type": "stream",
          "name": "stdout",
          "text": [
            "Episode #6600 score: \t-1.0, | \t0.926, | \t0.418\n"
          ]
        },
        {
          "output_type": "stream",
          "name": "stderr",
          "text": [
            " 46%|████▌     | 6902/15000 [09:50<47:48,  2.82it/s]"
          ]
        },
        {
          "output_type": "stream",
          "name": "stdout",
          "text": [
            "Episode #6900 score: \t-1.0, | \t0.916, | \t0.358\n"
          ]
        },
        {
          "output_type": "stream",
          "name": "stderr",
          "text": [
            " 48%|████▊     | 7202/15000 [10:15<47:01,  2.76it/s]"
          ]
        },
        {
          "output_type": "stream",
          "name": "stdout",
          "text": [
            "Episode #7200 score: \t1.0, | \t0.904, | \t0.376\n"
          ]
        },
        {
          "output_type": "stream",
          "name": "stderr",
          "text": [
            " 50%|█████     | 7502/15000 [10:40<45:23,  2.75it/s]"
          ]
        },
        {
          "output_type": "stream",
          "name": "stdout",
          "text": [
            "Episode #7500 score: \t1.0, | \t0.73, | \t0.322\n"
          ]
        },
        {
          "output_type": "stream",
          "name": "stderr",
          "text": [
            " 52%|█████▏    | 7802/15000 [11:06<43:27,  2.76it/s]"
          ]
        },
        {
          "output_type": "stream",
          "name": "stdout",
          "text": [
            "Episode #7800 score: \t-1.0, | \t0.754, | \t0.392\n"
          ]
        },
        {
          "output_type": "stream",
          "name": "stderr",
          "text": [
            " 54%|█████▍    | 8102/15000 [11:32<42:27,  2.71it/s]"
          ]
        },
        {
          "output_type": "stream",
          "name": "stdout",
          "text": [
            "Episode #8100 score: \t-1.0, | \t0.782, | \t0.374\n"
          ]
        },
        {
          "output_type": "stream",
          "name": "stderr",
          "text": [
            " 56%|█████▌    | 8402/15000 [11:58<39:48,  2.76it/s]"
          ]
        },
        {
          "output_type": "stream",
          "name": "stdout",
          "text": [
            "Episode #8400 score: \t1.0, | \t0.88, | \t0.434\n"
          ]
        },
        {
          "output_type": "stream",
          "name": "stderr",
          "text": [
            " 58%|█████▊    | 8702/15000 [12:24<37:57,  2.77it/s]"
          ]
        },
        {
          "output_type": "stream",
          "name": "stdout",
          "text": [
            "Episode #8700 score: \t-1.0, | \t0.796, | \t0.37\n"
          ]
        },
        {
          "output_type": "stream",
          "name": "stderr",
          "text": [
            " 60%|██████    | 9002/15000 [12:49<35:58,  2.78it/s]"
          ]
        },
        {
          "output_type": "stream",
          "name": "stdout",
          "text": [
            "Episode #9000 score: \t1.0, | \t0.912, | \t0.454\n"
          ]
        },
        {
          "output_type": "stream",
          "name": "stderr",
          "text": [
            " 62%|██████▏   | 9302/15000 [13:15<33:52,  2.80it/s]"
          ]
        },
        {
          "output_type": "stream",
          "name": "stdout",
          "text": [
            "Episode #9300 score: \t1.0, | \t0.872, | \t0.398\n"
          ]
        },
        {
          "output_type": "stream",
          "name": "stderr",
          "text": [
            " 64%|██████▍   | 9602/15000 [13:40<33:05,  2.72it/s]"
          ]
        },
        {
          "output_type": "stream",
          "name": "stdout",
          "text": [
            "Episode #9600 score: \t1.0, | \t0.908, | \t0.42\n"
          ]
        },
        {
          "output_type": "stream",
          "name": "stderr",
          "text": [
            " 66%|██████▌   | 9902/15000 [14:05<30:07,  2.82it/s]"
          ]
        },
        {
          "output_type": "stream",
          "name": "stdout",
          "text": [
            "Episode #9900 score: \t-1.0, | \t0.75, | \t0.4\n"
          ]
        },
        {
          "output_type": "stream",
          "name": "stderr",
          "text": [
            " 68%|██████▊   | 10202/15000 [14:31<29:17,  2.73it/s]"
          ]
        },
        {
          "output_type": "stream",
          "name": "stdout",
          "text": [
            "Episode #10200 score: \t-1.0, | \t0.754, | \t0.388\n"
          ]
        },
        {
          "output_type": "stream",
          "name": "stderr",
          "text": [
            " 70%|███████   | 10502/15000 [14:57<27:09,  2.76it/s]"
          ]
        },
        {
          "output_type": "stream",
          "name": "stdout",
          "text": [
            "Episode #10500 score: \t-1.0, | \t0.902, | \t0.412\n"
          ]
        },
        {
          "output_type": "stream",
          "name": "stderr",
          "text": [
            " 72%|███████▏  | 10802/15000 [15:22<25:42,  2.72it/s]"
          ]
        },
        {
          "output_type": "stream",
          "name": "stdout",
          "text": [
            "Episode #10800 score: \t-1.0, | \t0.926, | \t0.366\n"
          ]
        },
        {
          "output_type": "stream",
          "name": "stderr",
          "text": [
            " 74%|███████▍  | 11102/15000 [15:48<24:06,  2.69it/s]"
          ]
        },
        {
          "output_type": "stream",
          "name": "stdout",
          "text": [
            "Episode #11100 score: \t-1.0, | \t0.768, | \t0.448\n"
          ]
        },
        {
          "output_type": "stream",
          "name": "stderr",
          "text": [
            " 76%|███████▌  | 11402/15000 [16:14<22:10,  2.70it/s]"
          ]
        },
        {
          "output_type": "stream",
          "name": "stdout",
          "text": [
            "Episode #11400 score: \t-1.0, | \t0.762, | \t0.304\n"
          ]
        },
        {
          "output_type": "stream",
          "name": "stderr",
          "text": [
            " 78%|███████▊  | 11702/15000 [16:39<19:44,  2.78it/s]"
          ]
        },
        {
          "output_type": "stream",
          "name": "stdout",
          "text": [
            "Episode #11700 score: \t-1.0, | \t0.934, | \t0.356\n"
          ]
        },
        {
          "output_type": "stream",
          "name": "stderr",
          "text": [
            " 80%|████████  | 12002/15000 [17:04<18:03,  2.77it/s]"
          ]
        },
        {
          "output_type": "stream",
          "name": "stdout",
          "text": [
            "Episode #12000 score: \t1.0, | \t0.898, | \t0.328\n"
          ]
        },
        {
          "output_type": "stream",
          "name": "stderr",
          "text": [
            " 82%|████████▏ | 12302/15000 [17:29<15:49,  2.84it/s]"
          ]
        },
        {
          "output_type": "stream",
          "name": "stdout",
          "text": [
            "Episode #12300 score: \t-1.0, | \t0.926, | \t0.328\n"
          ]
        },
        {
          "output_type": "stream",
          "name": "stderr",
          "text": [
            " 84%|████████▍ | 12602/15000 [17:55<14:42,  2.72it/s]"
          ]
        },
        {
          "output_type": "stream",
          "name": "stdout",
          "text": [
            "Episode #12600 score: \t-1.0, | \t0.928, | \t0.348\n"
          ]
        },
        {
          "output_type": "stream",
          "name": "stderr",
          "text": [
            " 86%|████████▌ | 12902/15000 [18:20<12:54,  2.71it/s]"
          ]
        },
        {
          "output_type": "stream",
          "name": "stdout",
          "text": [
            "Episode #12900 score: \t-1.0, | \t0.938, | \t0.318\n"
          ]
        },
        {
          "output_type": "stream",
          "name": "stderr",
          "text": [
            " 88%|████████▊ | 13202/15000 [18:45<10:45,  2.79it/s]"
          ]
        },
        {
          "output_type": "stream",
          "name": "stdout",
          "text": [
            "Episode #13200 score: \t-1.0, | \t0.888, | \t0.42\n"
          ]
        },
        {
          "output_type": "stream",
          "name": "stderr",
          "text": [
            " 90%|█████████ | 13502/15000 [19:10<09:02,  2.76it/s]"
          ]
        },
        {
          "output_type": "stream",
          "name": "stdout",
          "text": [
            "Episode #13500 score: \t-1.0, | \t0.918, | \t0.418\n"
          ]
        },
        {
          "output_type": "stream",
          "name": "stderr",
          "text": [
            " 92%|█████████▏| 13802/15000 [19:35<07:04,  2.82it/s]"
          ]
        },
        {
          "output_type": "stream",
          "name": "stdout",
          "text": [
            "Episode #13800 score: \t-1.0, | \t0.924, | \t0.356\n"
          ]
        },
        {
          "output_type": "stream",
          "name": "stderr",
          "text": [
            " 94%|█████████▍| 14102/15000 [20:01<05:21,  2.79it/s]"
          ]
        },
        {
          "output_type": "stream",
          "name": "stdout",
          "text": [
            "Episode #14100 score: \t1.0, | \t0.906, | \t0.382\n"
          ]
        },
        {
          "output_type": "stream",
          "name": "stderr",
          "text": [
            " 96%|█████████▌| 14402/15000 [20:26<03:36,  2.76it/s]"
          ]
        },
        {
          "output_type": "stream",
          "name": "stdout",
          "text": [
            "Episode #14400 score: \t-1.0, | \t0.898, | \t0.346\n"
          ]
        },
        {
          "output_type": "stream",
          "name": "stderr",
          "text": [
            " 98%|█████████▊| 14702/15000 [20:51<01:45,  2.83it/s]"
          ]
        },
        {
          "output_type": "stream",
          "name": "stdout",
          "text": [
            "Episode #14700 score: \t-1.0, | \t0.918, | \t0.37\n"
          ]
        },
        {
          "output_type": "stream",
          "name": "stderr",
          "text": [
            "100%|██████████| 15000/15000 [21:14<00:00, 11.76it/s]\n"
          ]
        }
      ]
    },
    {
      "cell_type": "code",
      "metadata": {
        "colab": {
          "base_uri": "https://localhost:8080/",
          "height": 1000
        },
        "id": "LwGS-X-eWFD_",
        "outputId": "e2591a34-ceba-4b0f-8607-ce0577a99516"
      },
      "source": [
        "plot_result(data, 'DQN 3x3')"
      ],
      "execution_count": 13,
      "outputs": [
        {
          "output_type": "display_data",
          "data": {
            "image/png": "[encoded data removed]",
            "text/plain": [
              "<Figure size 720x576 with 1 Axes>"
            ]
          },
          "metadata": {
            "needs_background": "light"
          }
        },
        {
          "output_type": "display_data",
          "data": {
            "image/png": "[encoded data removed]",
            "text/plain": [
              "<Figure size 720x576 with 1 Axes>"
            ]
          },
          "metadata": {
            "needs_background": "light"
          }
        }
      ]
    },
    {
      "cell_type": "code",
      "metadata": {
        "colab": {
          "base_uri": "https://localhost:8080/"
        },
        "id": "Fx28NshOWdib",
        "outputId": "151a982d-f459-4fbf-9da4-01d30244ca39"
      },
      "source": [
        "env = TicTacToe(4, 4, 4)\n",
        "c_memory, n_memory = ReplayMemory(100000), ReplayMemory(100000)\n",
        "c_network, n_network = Network4(64, 512), Network4(64, 512)\n",
        "DQNCrosses4, DQNNoughts4 = DQN(env, c_network, c_memory), DQN(env, n_network, n_memory)\n",
        "supervisor = TicTacToeSupervisor(env, DQNCrosses4, DQNNoughts4, RandomAgent(env))\n",
        "data = supervisor.fit(10000, 100, 100, True)"
      ],
      "execution_count": 14,
      "outputs": [
        {
          "output_type": "stream",
          "name": "stderr",
          "text": [
            "  0%|          | 15/10000 [00:01<10:12, 16.31it/s] "
          ]
        },
        {
          "output_type": "stream",
          "name": "stdout",
          "text": [
            "Episode #0 score: \t-1.0, | \t0.26, | \t-0.13\n"
          ]
        },
        {
          "output_type": "stream",
          "name": "stderr",
          "text": [
            "  1%|          | 101/10000 [00:39<2:10:01,  1.27it/s]"
          ]
        },
        {
          "output_type": "stream",
          "name": "stdout",
          "text": [
            "Episode #100 score: \t-1.0, | \t0.13, | \t0.07\n"
          ]
        },
        {
          "output_type": "stream",
          "name": "stderr",
          "text": [
            "  2%|▏         | 201/10000 [01:26<2:12:55,  1.23it/s]"
          ]
        },
        {
          "output_type": "stream",
          "name": "stdout",
          "text": [
            "Episode #200 score: \t1.0, | \t0.21, | \t-0.06\n"
          ]
        },
        {
          "output_type": "stream",
          "name": "stderr",
          "text": [
            "  3%|▎         | 301/10000 [02:11<2:11:23,  1.23it/s]"
          ]
        },
        {
          "output_type": "stream",
          "name": "stdout",
          "text": [
            "Episode #300 score: \t0.0, | \t0.29, | \t0.06\n"
          ]
        },
        {
          "output_type": "stream",
          "name": "stderr",
          "text": [
            "  4%|▍         | 401/10000 [02:57<2:00:26,  1.33it/s]"
          ]
        },
        {
          "output_type": "stream",
          "name": "stdout",
          "text": [
            "Episode #400 score: \t-1.0, | \t0.22, | \t0.15\n"
          ]
        },
        {
          "output_type": "stream",
          "name": "stderr",
          "text": [
            "  5%|▌         | 501/10000 [03:42<1:49:55,  1.44it/s]"
          ]
        },
        {
          "output_type": "stream",
          "name": "stdout",
          "text": [
            "Episode #500 score: \t1.0, | \t0.48, | \t0.09\n"
          ]
        },
        {
          "output_type": "stream",
          "name": "stderr",
          "text": [
            "  6%|▌         | 601/10000 [04:21<1:44:04,  1.51it/s]"
          ]
        },
        {
          "output_type": "stream",
          "name": "stdout",
          "text": [
            "Episode #600 score: \t0.0, | \t0.61, | \t0.26\n"
          ]
        },
        {
          "output_type": "stream",
          "name": "stderr",
          "text": [
            "  7%|▋         | 701/10000 [05:02<1:29:49,  1.73it/s]"
          ]
        },
        {
          "output_type": "stream",
          "name": "stdout",
          "text": [
            "Episode #700 score: \t1.0, | \t0.63, | \t0.0\n"
          ]
        },
        {
          "output_type": "stream",
          "name": "stderr",
          "text": [
            "  8%|▊         | 801/10000 [05:40<1:33:05,  1.65it/s]"
          ]
        },
        {
          "output_type": "stream",
          "name": "stdout",
          "text": [
            "Episode #800 score: \t1.0, | \t0.63, | \t0.26\n"
          ]
        },
        {
          "output_type": "stream",
          "name": "stderr",
          "text": [
            "  9%|▉         | 901/10000 [06:18<1:44:47,  1.45it/s]"
          ]
        },
        {
          "output_type": "stream",
          "name": "stdout",
          "text": [
            "Episode #900 score: \t1.0, | \t0.64, | \t0.18\n"
          ]
        },
        {
          "output_type": "stream",
          "name": "stderr",
          "text": [
            " 10%|█         | 1001/10000 [06:55<1:26:51,  1.73it/s]"
          ]
        },
        {
          "output_type": "stream",
          "name": "stdout",
          "text": [
            "Episode #1000 score: \t1.0, | \t0.63, | \t0.41\n"
          ]
        },
        {
          "output_type": "stream",
          "name": "stderr",
          "text": [
            " 11%|█         | 1101/10000 [07:31<1:26:00,  1.72it/s]"
          ]
        },
        {
          "output_type": "stream",
          "name": "stdout",
          "text": [
            "Episode #1100 score: \t-1.0, | \t0.62, | \t0.48\n"
          ]
        },
        {
          "output_type": "stream",
          "name": "stderr",
          "text": [
            " 12%|█▏        | 1201/10000 [08:06<1:25:56,  1.71it/s]"
          ]
        },
        {
          "output_type": "stream",
          "name": "stdout",
          "text": [
            "Episode #1200 score: \t-1.0, | \t0.68, | \t0.57\n"
          ]
        },
        {
          "output_type": "stream",
          "name": "stderr",
          "text": [
            " 13%|█▎        | 1301/10000 [08:43<1:18:57,  1.84it/s]"
          ]
        },
        {
          "output_type": "stream",
          "name": "stdout",
          "text": [
            "Episode #1300 score: \t-1.0, | \t0.64, | \t0.37\n"
          ]
        },
        {
          "output_type": "stream",
          "name": "stderr",
          "text": [
            " 14%|█▍        | 1401/10000 [09:19<1:28:22,  1.62it/s]"
          ]
        },
        {
          "output_type": "stream",
          "name": "stdout",
          "text": [
            "Episode #1400 score: \t1.0, | \t0.71, | \t0.5\n"
          ]
        },
        {
          "output_type": "stream",
          "name": "stderr",
          "text": [
            " 15%|█▌        | 1501/10000 [09:54<1:23:27,  1.70it/s]"
          ]
        },
        {
          "output_type": "stream",
          "name": "stdout",
          "text": [
            "Episode #1500 score: \t1.0, | \t0.62, | \t0.48\n"
          ]
        },
        {
          "output_type": "stream",
          "name": "stderr",
          "text": [
            " 16%|█▌        | 1601/10000 [10:30<1:30:23,  1.55it/s]"
          ]
        },
        {
          "output_type": "stream",
          "name": "stdout",
          "text": [
            "Episode #1600 score: \t-1.0, | \t0.67, | \t0.45\n"
          ]
        },
        {
          "output_type": "stream",
          "name": "stderr",
          "text": [
            " 17%|█▋        | 1701/10000 [11:09<1:27:39,  1.58it/s]"
          ]
        },
        {
          "output_type": "stream",
          "name": "stdout",
          "text": [
            "Episode #1700 score: \t1.0, | \t0.75, | \t0.4\n"
          ]
        },
        {
          "output_type": "stream",
          "name": "stderr",
          "text": [
            " 18%|█▊        | 1801/10000 [11:45<1:23:14,  1.64it/s]"
          ]
        },
        {
          "output_type": "stream",
          "name": "stdout",
          "text": [
            "Episode #1800 score: \t-1.0, | \t0.72, | \t0.51\n"
          ]
        },
        {
          "output_type": "stream",
          "name": "stderr",
          "text": [
            " 19%|█▉        | 1901/10000 [12:20<1:18:49,  1.71it/s]"
          ]
        },
        {
          "output_type": "stream",
          "name": "stdout",
          "text": [
            "Episode #1900 score: \t-1.0, | \t0.63, | \t0.32\n"
          ]
        },
        {
          "output_type": "stream",
          "name": "stderr",
          "text": [
            " 20%|██        | 2001/10000 [12:55<1:17:20,  1.72it/s]"
          ]
        },
        {
          "output_type": "stream",
          "name": "stdout",
          "text": [
            "Episode #2000 score: \t-1.0, | \t0.59, | \t0.43\n"
          ]
        },
        {
          "output_type": "stream",
          "name": "stderr",
          "text": [
            " 21%|██        | 2101/10000 [13:31<1:11:59,  1.83it/s]"
          ]
        },
        {
          "output_type": "stream",
          "name": "stdout",
          "text": [
            "Episode #2100 score: \t1.0, | \t0.64, | \t0.56\n"
          ]
        },
        {
          "output_type": "stream",
          "name": "stderr",
          "text": [
            " 22%|██▏       | 2201/10000 [14:07<1:13:12,  1.78it/s]"
          ]
        },
        {
          "output_type": "stream",
          "name": "stdout",
          "text": [
            "Episode #2200 score: \t1.0, | \t0.61, | \t0.41\n"
          ]
        },
        {
          "output_type": "stream",
          "name": "stderr",
          "text": [
            " 23%|██▎       | 2301/10000 [14:41<1:08:27,  1.87it/s]"
          ]
        },
        {
          "output_type": "stream",
          "name": "stdout",
          "text": [
            "Episode #2300 score: \t1.0, | \t0.62, | \t0.42\n"
          ]
        },
        {
          "output_type": "stream",
          "name": "stderr",
          "text": [
            " 24%|██▍       | 2401/10000 [15:16<1:11:54,  1.76it/s]"
          ]
        },
        {
          "output_type": "stream",
          "name": "stdout",
          "text": [
            "Episode #2400 score: \t1.0, | \t0.58, | \t0.47\n"
          ]
        },
        {
          "output_type": "stream",
          "name": "stderr",
          "text": [
            " 25%|██▌       | 2501/10000 [15:51<1:13:00,  1.71it/s]"
          ]
        },
        {
          "output_type": "stream",
          "name": "stdout",
          "text": [
            "Episode #2500 score: \t0.0, | \t0.42, | \t0.39\n"
          ]
        },
        {
          "output_type": "stream",
          "name": "stderr",
          "text": [
            " 26%|██▌       | 2601/10000 [16:27<1:09:53,  1.76it/s]"
          ]
        },
        {
          "output_type": "stream",
          "name": "stdout",
          "text": [
            "Episode #2600 score: \t1.0, | \t0.59, | \t0.49\n"
          ]
        },
        {
          "output_type": "stream",
          "name": "stderr",
          "text": [
            " 27%|██▋       | 2701/10000 [17:01<1:08:01,  1.79it/s]"
          ]
        },
        {
          "output_type": "stream",
          "name": "stdout",
          "text": [
            "Episode #2700 score: \t1.0, | \t0.61, | \t0.54\n"
          ]
        },
        {
          "output_type": "stream",
          "name": "stderr",
          "text": [
            " 28%|██▊       | 2801/10000 [17:38<1:04:41,  1.85it/s]"
          ]
        },
        {
          "output_type": "stream",
          "name": "stdout",
          "text": [
            "Episode #2800 score: \t1.0, | \t0.47, | \t0.43\n"
          ]
        },
        {
          "output_type": "stream",
          "name": "stderr",
          "text": [
            " 29%|██▉       | 2901/10000 [18:14<1:10:39,  1.67it/s]"
          ]
        },
        {
          "output_type": "stream",
          "name": "stdout",
          "text": [
            "Episode #2900 score: \t0.0, | \t0.41, | \t0.42\n"
          ]
        },
        {
          "output_type": "stream",
          "name": "stderr",
          "text": [
            " 30%|███       | 3001/10000 [18:49<1:09:27,  1.68it/s]"
          ]
        },
        {
          "output_type": "stream",
          "name": "stdout",
          "text": [
            "Episode #3000 score: \t-1.0, | \t0.61, | \t0.59\n"
          ]
        },
        {
          "output_type": "stream",
          "name": "stderr",
          "text": [
            " 31%|███       | 3101/10000 [19:25<1:05:52,  1.75it/s]"
          ]
        },
        {
          "output_type": "stream",
          "name": "stdout",
          "text": [
            "Episode #3100 score: \t1.0, | \t0.55, | \t0.54\n"
          ]
        },
        {
          "output_type": "stream",
          "name": "stderr",
          "text": [
            " 32%|███▏      | 3201/10000 [20:00<1:06:41,  1.70it/s]"
          ]
        },
        {
          "output_type": "stream",
          "name": "stdout",
          "text": [
            "Episode #3200 score: \t-1.0, | \t0.52, | \t0.51\n"
          ]
        },
        {
          "output_type": "stream",
          "name": "stderr",
          "text": [
            " 33%|███▎      | 3301/10000 [20:35<1:06:05,  1.69it/s]"
          ]
        },
        {
          "output_type": "stream",
          "name": "stdout",
          "text": [
            "Episode #3300 score: \t-1.0, | \t0.74, | \t0.51\n"
          ]
        },
        {
          "output_type": "stream",
          "name": "stderr",
          "text": [
            " 34%|███▍      | 3401/10000 [21:11<1:06:30,  1.65it/s]"
          ]
        },
        {
          "output_type": "stream",
          "name": "stdout",
          "text": [
            "Episode #3400 score: \t-1.0, | \t0.59, | \t0.35\n"
          ]
        },
        {
          "output_type": "stream",
          "name": "stderr",
          "text": [
            " 35%|███▌      | 3501/10000 [21:46<1:09:04,  1.57it/s]"
          ]
        },
        {
          "output_type": "stream",
          "name": "stdout",
          "text": [
            "Episode #3500 score: \t1.0, | \t0.53, | \t0.47\n"
          ]
        },
        {
          "output_type": "stream",
          "name": "stderr",
          "text": [
            " 36%|███▌      | 3601/10000 [22:21<1:02:23,  1.71it/s]"
          ]
        },
        {
          "output_type": "stream",
          "name": "stdout",
          "text": [
            "Episode #3600 score: \t-1.0, | \t0.49, | \t0.35\n"
          ]
        },
        {
          "output_type": "stream",
          "name": "stderr",
          "text": [
            " 37%|███▋      | 3701/10000 [22:57<1:01:18,  1.71it/s]"
          ]
        },
        {
          "output_type": "stream",
          "name": "stdout",
          "text": [
            "Episode #3700 score: \t1.0, | \t0.55, | \t0.33\n"
          ]
        },
        {
          "output_type": "stream",
          "name": "stderr",
          "text": [
            " 38%|███▊      | 3801/10000 [23:31<1:02:05,  1.66it/s]"
          ]
        },
        {
          "output_type": "stream",
          "name": "stdout",
          "text": [
            "Episode #3800 score: \t-1.0, | \t0.4, | \t0.42\n"
          ]
        },
        {
          "output_type": "stream",
          "name": "stderr",
          "text": [
            " 39%|███▉      | 3901/10000 [24:08<58:18,  1.74it/s]"
          ]
        },
        {
          "output_type": "stream",
          "name": "stdout",
          "text": [
            "Episode #3900 score: \t-1.0, | \t0.51, | \t0.47\n"
          ]
        },
        {
          "output_type": "stream",
          "name": "stderr",
          "text": [
            " 40%|████      | 4001/10000 [24:41<55:27,  1.80it/s]"
          ]
        },
        {
          "output_type": "stream",
          "name": "stdout",
          "text": [
            "Episode #4000 score: \t1.0, | \t0.61, | \t0.58\n"
          ]
        },
        {
          "output_type": "stream",
          "name": "stderr",
          "text": [
            " 41%|████      | 4101/10000 [25:16<57:19,  1.72it/s]"
          ]
        },
        {
          "output_type": "stream",
          "name": "stdout",
          "text": [
            "Episode #4100 score: \t-1.0, | \t0.53, | \t0.57\n"
          ]
        },
        {
          "output_type": "stream",
          "name": "stderr",
          "text": [
            " 42%|████▏     | 4201/10000 [25:51<53:55,  1.79it/s]"
          ]
        },
        {
          "output_type": "stream",
          "name": "stdout",
          "text": [
            "Episode #4200 score: \t1.0, | \t0.49, | \t0.59\n"
          ]
        },
        {
          "output_type": "stream",
          "name": "stderr",
          "text": [
            " 43%|████▎     | 4301/10000 [26:25<50:22,  1.89it/s]"
          ]
        },
        {
          "output_type": "stream",
          "name": "stdout",
          "text": [
            "Episode #4300 score: \t-1.0, | \t0.63, | \t0.52\n"
          ]
        },
        {
          "output_type": "stream",
          "name": "stderr",
          "text": [
            " 44%|████▍     | 4401/10000 [27:01<50:55,  1.83it/s]"
          ]
        },
        {
          "output_type": "stream",
          "name": "stdout",
          "text": [
            "Episode #4400 score: \t-1.0, | \t0.54, | \t0.56\n"
          ]
        },
        {
          "output_type": "stream",
          "name": "stderr",
          "text": [
            " 45%|████▌     | 4501/10000 [27:36<51:40,  1.77it/s]"
          ]
        },
        {
          "output_type": "stream",
          "name": "stdout",
          "text": [
            "Episode #4500 score: \t-1.0, | \t0.6, | \t0.4\n"
          ]
        },
        {
          "output_type": "stream",
          "name": "stderr",
          "text": [
            " 46%|████▌     | 4601/10000 [28:11<51:53,  1.73it/s]"
          ]
        },
        {
          "output_type": "stream",
          "name": "stdout",
          "text": [
            "Episode #4600 score: \t1.0, | \t0.45, | \t0.33\n"
          ]
        },
        {
          "output_type": "stream",
          "name": "stderr",
          "text": [
            " 47%|████▋     | 4701/10000 [28:47<53:23,  1.65it/s]"
          ]
        },
        {
          "output_type": "stream",
          "name": "stdout",
          "text": [
            "Episode #4700 score: \t-1.0, | \t0.69, | \t0.47\n"
          ]
        },
        {
          "output_type": "stream",
          "name": "stderr",
          "text": [
            " 48%|████▊     | 4801/10000 [29:23<51:49,  1.67it/s]"
          ]
        },
        {
          "output_type": "stream",
          "name": "stdout",
          "text": [
            "Episode #4800 score: \t1.0, | \t0.71, | \t0.47\n"
          ]
        },
        {
          "output_type": "stream",
          "name": "stderr",
          "text": [
            " 49%|████▉     | 4901/10000 [29:59<51:35,  1.65it/s]"
          ]
        },
        {
          "output_type": "stream",
          "name": "stdout",
          "text": [
            "Episode #4900 score: \t-1.0, | \t0.48, | \t0.5\n"
          ]
        },
        {
          "output_type": "stream",
          "name": "stderr",
          "text": [
            " 50%|█████     | 5001/10000 [30:35<50:55,  1.64it/s]"
          ]
        },
        {
          "output_type": "stream",
          "name": "stdout",
          "text": [
            "Episode #5000 score: \t-1.0, | \t0.55, | \t0.59\n"
          ]
        },
        {
          "output_type": "stream",
          "name": "stderr",
          "text": [
            " 51%|█████     | 5101/10000 [31:12<47:53,  1.71it/s]"
          ]
        },
        {
          "output_type": "stream",
          "name": "stdout",
          "text": [
            "Episode #5100 score: \t1.0, | \t0.65, | \t0.45\n"
          ]
        },
        {
          "output_type": "stream",
          "name": "stderr",
          "text": [
            " 52%|█████▏    | 5201/10000 [31:49<45:54,  1.74it/s]"
          ]
        },
        {
          "output_type": "stream",
          "name": "stdout",
          "text": [
            "Episode #5200 score: \t-1.0, | \t0.64, | \t0.49\n"
          ]
        },
        {
          "output_type": "stream",
          "name": "stderr",
          "text": [
            " 53%|█████▎    | 5301/10000 [32:25<45:36,  1.72it/s]"
          ]
        },
        {
          "output_type": "stream",
          "name": "stdout",
          "text": [
            "Episode #5300 score: \t-1.0, | \t0.51, | \t0.42\n"
          ]
        },
        {
          "output_type": "stream",
          "name": "stderr",
          "text": [
            " 54%|█████▍    | 5401/10000 [33:01<45:08,  1.70it/s]"
          ]
        },
        {
          "output_type": "stream",
          "name": "stdout",
          "text": [
            "Episode #5400 score: \t-1.0, | \t0.53, | \t0.43\n"
          ]
        },
        {
          "output_type": "stream",
          "name": "stderr",
          "text": [
            " 55%|█████▌    | 5501/10000 [33:36<50:28,  1.49it/s]"
          ]
        },
        {
          "output_type": "stream",
          "name": "stdout",
          "text": [
            "Episode #5500 score: \t-1.0, | \t0.49, | \t0.48\n"
          ]
        },
        {
          "output_type": "stream",
          "name": "stderr",
          "text": [
            " 56%|█████▌    | 5601/10000 [34:13<43:00,  1.70it/s]"
          ]
        },
        {
          "output_type": "stream",
          "name": "stdout",
          "text": [
            "Episode #5600 score: \t-1.0, | \t0.68, | \t0.42\n"
          ]
        },
        {
          "output_type": "stream",
          "name": "stderr",
          "text": [
            " 57%|█████▋    | 5701/10000 [34:48<42:08,  1.70it/s]"
          ]
        },
        {
          "output_type": "stream",
          "name": "stdout",
          "text": [
            "Episode #5700 score: \t-1.0, | \t0.38, | \t0.39\n"
          ]
        },
        {
          "output_type": "stream",
          "name": "stderr",
          "text": [
            " 58%|█████▊    | 5801/10000 [35:24<40:26,  1.73it/s]"
          ]
        },
        {
          "output_type": "stream",
          "name": "stdout",
          "text": [
            "Episode #5800 score: \t-1.0, | \t0.5, | \t0.5\n"
          ]
        },
        {
          "output_type": "stream",
          "name": "stderr",
          "text": [
            " 59%|█████▉    | 5901/10000 [35:59<38:03,  1.80it/s]"
          ]
        },
        {
          "output_type": "stream",
          "name": "stdout",
          "text": [
            "Episode #5900 score: \t1.0, | \t0.49, | \t0.35\n"
          ]
        },
        {
          "output_type": "stream",
          "name": "stderr",
          "text": [
            " 60%|██████    | 6001/10000 [36:34<39:00,  1.71it/s]"
          ]
        },
        {
          "output_type": "stream",
          "name": "stdout",
          "text": [
            "Episode #6000 score: \t0.0, | \t0.5, | \t0.48\n"
          ]
        },
        {
          "output_type": "stream",
          "name": "stderr",
          "text": [
            " 61%|██████    | 6101/10000 [37:11<35:37,  1.82it/s]"
          ]
        },
        {
          "output_type": "stream",
          "name": "stdout",
          "text": [
            "Episode #6100 score: \t1.0, | \t0.6, | \t0.55\n"
          ]
        },
        {
          "output_type": "stream",
          "name": "stderr",
          "text": [
            " 62%|██████▏   | 6201/10000 [37:47<43:18,  1.46it/s]"
          ]
        },
        {
          "output_type": "stream",
          "name": "stdout",
          "text": [
            "Episode #6200 score: \t-1.0, | \t0.61, | \t0.54\n"
          ]
        },
        {
          "output_type": "stream",
          "name": "stderr",
          "text": [
            " 63%|██████▎   | 6301/10000 [38:23<33:09,  1.86it/s]"
          ]
        },
        {
          "output_type": "stream",
          "name": "stdout",
          "text": [
            "Episode #6300 score: \t-1.0, | \t0.48, | \t0.44\n"
          ]
        },
        {
          "output_type": "stream",
          "name": "stderr",
          "text": [
            " 64%|██████▍   | 6401/10000 [38:59<33:48,  1.77it/s]"
          ]
        },
        {
          "output_type": "stream",
          "name": "stdout",
          "text": [
            "Episode #6400 score: \t1.0, | \t0.51, | \t0.49\n"
          ]
        },
        {
          "output_type": "stream",
          "name": "stderr",
          "text": [
            " 65%|██████▌   | 6501/10000 [39:34<32:50,  1.78it/s]"
          ]
        },
        {
          "output_type": "stream",
          "name": "stdout",
          "text": [
            "Episode #6500 score: \t1.0, | \t0.54, | \t0.39\n"
          ]
        },
        {
          "output_type": "stream",
          "name": "stderr",
          "text": [
            " 66%|██████▌   | 6601/10000 [40:10<30:26,  1.86it/s]"
          ]
        },
        {
          "output_type": "stream",
          "name": "stdout",
          "text": [
            "Episode #6600 score: \t-1.0, | \t0.55, | \t0.6\n"
          ]
        },
        {
          "output_type": "stream",
          "name": "stderr",
          "text": [
            " 67%|██████▋   | 6701/10000 [40:46<32:32,  1.69it/s]"
          ]
        },
        {
          "output_type": "stream",
          "name": "stdout",
          "text": [
            "Episode #6700 score: \t-1.0, | \t0.53, | \t0.54\n"
          ]
        },
        {
          "output_type": "stream",
          "name": "stderr",
          "text": [
            " 68%|██████▊   | 6801/10000 [41:22<32:02,  1.66it/s]"
          ]
        },
        {
          "output_type": "stream",
          "name": "stdout",
          "text": [
            "Episode #6800 score: \t1.0, | \t0.6, | \t0.43\n"
          ]
        },
        {
          "output_type": "stream",
          "name": "stderr",
          "text": [
            " 69%|██████▉   | 6901/10000 [41:58<28:58,  1.78it/s]"
          ]
        },
        {
          "output_type": "stream",
          "name": "stdout",
          "text": [
            "Episode #6900 score: \t-1.0, | \t0.6, | \t0.44\n"
          ]
        },
        {
          "output_type": "stream",
          "name": "stderr",
          "text": [
            " 70%|███████   | 7001/10000 [42:33<31:20,  1.59it/s]"
          ]
        },
        {
          "output_type": "stream",
          "name": "stdout",
          "text": [
            "Episode #7000 score: \t-1.0, | \t0.6, | \t0.44\n"
          ]
        },
        {
          "output_type": "stream",
          "name": "stderr",
          "text": [
            " 71%|███████   | 7101/10000 [43:09<29:47,  1.62it/s]"
          ]
        },
        {
          "output_type": "stream",
          "name": "stdout",
          "text": [
            "Episode #7100 score: \t-1.0, | \t0.4, | \t0.52\n"
          ]
        },
        {
          "output_type": "stream",
          "name": "stderr",
          "text": [
            " 72%|███████▏  | 7201/10000 [43:45<27:06,  1.72it/s]"
          ]
        },
        {
          "output_type": "stream",
          "name": "stdout",
          "text": [
            "Episode #7200 score: \t-1.0, | \t0.51, | \t0.68\n"
          ]
        },
        {
          "output_type": "stream",
          "name": "stderr",
          "text": [
            " 73%|███████▎  | 7301/10000 [44:21<26:17,  1.71it/s]"
          ]
        },
        {
          "output_type": "stream",
          "name": "stdout",
          "text": [
            "Episode #7300 score: \t0.0, | \t0.6, | \t0.34\n"
          ]
        },
        {
          "output_type": "stream",
          "name": "stderr",
          "text": [
            " 74%|███████▍  | 7401/10000 [44:58<27:53,  1.55it/s]"
          ]
        },
        {
          "output_type": "stream",
          "name": "stdout",
          "text": [
            "Episode #7400 score: \t1.0, | \t0.49, | \t0.48\n"
          ]
        },
        {
          "output_type": "stream",
          "name": "stderr",
          "text": [
            " 75%|███████▌  | 7501/10000 [45:36<26:38,  1.56it/s]"
          ]
        },
        {
          "output_type": "stream",
          "name": "stdout",
          "text": [
            "Episode #7500 score: \t1.0, | \t0.46, | \t0.43\n"
          ]
        },
        {
          "output_type": "stream",
          "name": "stderr",
          "text": [
            " 76%|███████▌  | 7601/10000 [46:13<24:04,  1.66it/s]"
          ]
        },
        {
          "output_type": "stream",
          "name": "stdout",
          "text": [
            "Episode #7600 score: \t0.0, | \t0.51, | \t0.42\n"
          ]
        },
        {
          "output_type": "stream",
          "name": "stderr",
          "text": [
            " 77%|███████▋  | 7701/10000 [46:50<23:05,  1.66it/s]"
          ]
        },
        {
          "output_type": "stream",
          "name": "stdout",
          "text": [
            "Episode #7700 score: \t1.0, | \t0.69, | \t0.43\n"
          ]
        },
        {
          "output_type": "stream",
          "name": "stderr",
          "text": [
            " 78%|███████▊  | 7801/10000 [47:26<23:03,  1.59it/s]"
          ]
        },
        {
          "output_type": "stream",
          "name": "stdout",
          "text": [
            "Episode #7800 score: \t1.0, | \t0.62, | \t0.52\n"
          ]
        },
        {
          "output_type": "stream",
          "name": "stderr",
          "text": [
            " 79%|███████▉  | 7901/10000 [48:02<20:42,  1.69it/s]"
          ]
        },
        {
          "output_type": "stream",
          "name": "stdout",
          "text": [
            "Episode #7900 score: \t-1.0, | \t0.6, | \t0.53\n"
          ]
        },
        {
          "output_type": "stream",
          "name": "stderr",
          "text": [
            " 80%|████████  | 8001/10000 [48:38<19:29,  1.71it/s]"
          ]
        },
        {
          "output_type": "stream",
          "name": "stdout",
          "text": [
            "Episode #8000 score: \t1.0, | \t0.62, | \t0.36\n"
          ]
        },
        {
          "output_type": "stream",
          "name": "stderr",
          "text": [
            " 81%|████████  | 8101/10000 [49:14<19:56,  1.59it/s]"
          ]
        },
        {
          "output_type": "stream",
          "name": "stdout",
          "text": [
            "Episode #8100 score: \t0.0, | \t0.64, | \t0.47\n"
          ]
        },
        {
          "output_type": "stream",
          "name": "stderr",
          "text": [
            " 82%|████████▏ | 8201/10000 [49:50<17:33,  1.71it/s]"
          ]
        },
        {
          "output_type": "stream",
          "name": "stdout",
          "text": [
            "Episode #8200 score: \t1.0, | \t0.5, | \t0.4\n"
          ]
        },
        {
          "output_type": "stream",
          "name": "stderr",
          "text": [
            " 83%|████████▎ | 8301/10000 [50:26<16:47,  1.69it/s]"
          ]
        },
        {
          "output_type": "stream",
          "name": "stdout",
          "text": [
            "Episode #8300 score: \t1.0, | \t0.53, | \t0.51\n"
          ]
        },
        {
          "output_type": "stream",
          "name": "stderr",
          "text": [
            " 84%|████████▍ | 8401/10000 [51:02<16:17,  1.64it/s]"
          ]
        },
        {
          "output_type": "stream",
          "name": "stdout",
          "text": [
            "Episode #8400 score: \t0.0, | \t0.56, | \t0.55\n"
          ]
        },
        {
          "output_type": "stream",
          "name": "stderr",
          "text": [
            " 85%|████████▌ | 8501/10000 [51:37<13:26,  1.86it/s]"
          ]
        },
        {
          "output_type": "stream",
          "name": "stdout",
          "text": [
            "Episode #8500 score: \t1.0, | \t0.53, | \t0.42\n"
          ]
        },
        {
          "output_type": "stream",
          "name": "stderr",
          "text": [
            " 86%|████████▌ | 8601/10000 [52:12<13:11,  1.77it/s]"
          ]
        },
        {
          "output_type": "stream",
          "name": "stdout",
          "text": [
            "Episode #8600 score: \t1.0, | \t0.54, | \t0.55\n"
          ]
        },
        {
          "output_type": "stream",
          "name": "stderr",
          "text": [
            " 87%|████████▋ | 8701/10000 [52:47<12:22,  1.75it/s]"
          ]
        },
        {
          "output_type": "stream",
          "name": "stdout",
          "text": [
            "Episode #8700 score: \t-1.0, | \t0.53, | \t0.35\n"
          ]
        },
        {
          "output_type": "stream",
          "name": "stderr",
          "text": [
            " 88%|████████▊ | 8801/10000 [53:24<11:24,  1.75it/s]"
          ]
        },
        {
          "output_type": "stream",
          "name": "stdout",
          "text": [
            "Episode #8800 score: \t1.0, | \t0.5, | \t0.38\n"
          ]
        },
        {
          "output_type": "stream",
          "name": "stderr",
          "text": [
            " 89%|████████▉ | 8901/10000 [53:59<09:54,  1.85it/s]"
          ]
        },
        {
          "output_type": "stream",
          "name": "stdout",
          "text": [
            "Episode #8900 score: \t-1.0, | \t0.41, | \t0.33\n"
          ]
        },
        {
          "output_type": "stream",
          "name": "stderr",
          "text": [
            " 90%|█████████ | 9001/10000 [54:35<10:42,  1.55it/s]"
          ]
        },
        {
          "output_type": "stream",
          "name": "stdout",
          "text": [
            "Episode #9000 score: \t-1.0, | \t0.67, | \t0.47\n"
          ]
        },
        {
          "output_type": "stream",
          "name": "stderr",
          "text": [
            " 91%|█████████ | 9101/10000 [55:11<08:14,  1.82it/s]"
          ]
        },
        {
          "output_type": "stream",
          "name": "stdout",
          "text": [
            "Episode #9100 score: \t-1.0, | \t0.53, | \t0.47\n"
          ]
        },
        {
          "output_type": "stream",
          "name": "stderr",
          "text": [
            " 92%|█████████▏| 9201/10000 [55:47<07:48,  1.71it/s]"
          ]
        },
        {
          "output_type": "stream",
          "name": "stdout",
          "text": [
            "Episode #9200 score: \t1.0, | \t0.59, | \t0.53\n"
          ]
        },
        {
          "output_type": "stream",
          "name": "stderr",
          "text": [
            " 93%|█████████▎| 9301/10000 [56:24<06:37,  1.76it/s]"
          ]
        },
        {
          "output_type": "stream",
          "name": "stdout",
          "text": [
            "Episode #9300 score: \t0.0, | \t0.48, | \t0.52\n"
          ]
        },
        {
          "output_type": "stream",
          "name": "stderr",
          "text": [
            " 94%|█████████▍| 9401/10000 [57:01<05:55,  1.68it/s]"
          ]
        },
        {
          "output_type": "stream",
          "name": "stdout",
          "text": [
            "Episode #9400 score: \t1.0, | \t0.59, | \t0.32\n"
          ]
        },
        {
          "output_type": "stream",
          "name": "stderr",
          "text": [
            " 95%|█████████▌| 9501/10000 [57:37<04:52,  1.71it/s]"
          ]
        },
        {
          "output_type": "stream",
          "name": "stdout",
          "text": [
            "Episode #9500 score: \t-1.0, | \t0.51, | \t0.33\n"
          ]
        },
        {
          "output_type": "stream",
          "name": "stderr",
          "text": [
            " 96%|█████████▌| 9601/10000 [58:15<04:06,  1.62it/s]"
          ]
        },
        {
          "output_type": "stream",
          "name": "stdout",
          "text": [
            "Episode #9600 score: \t-1.0, | \t0.58, | \t0.53\n"
          ]
        },
        {
          "output_type": "stream",
          "name": "stderr",
          "text": [
            " 97%|█████████▋| 9701/10000 [58:56<03:46,  1.32it/s]"
          ]
        },
        {
          "output_type": "stream",
          "name": "stdout",
          "text": [
            "Episode #9700 score: \t1.0, | \t0.52, | \t0.54\n"
          ]
        },
        {
          "output_type": "stream",
          "name": "stderr",
          "text": [
            " 98%|█████████▊| 9801/10000 [59:37<02:08,  1.55it/s]"
          ]
        },
        {
          "output_type": "stream",
          "name": "stdout",
          "text": [
            "Episode #9800 score: \t-1.0, | \t0.48, | \t0.42\n"
          ]
        },
        {
          "output_type": "stream",
          "name": "stderr",
          "text": [
            " 99%|█████████▉| 9901/10000 [1:00:17<01:04,  1.53it/s]"
          ]
        },
        {
          "output_type": "stream",
          "name": "stdout",
          "text": [
            "Episode #9900 score: \t-1.0, | \t0.53, | \t0.5\n"
          ]
        },
        {
          "output_type": "stream",
          "name": "stderr",
          "text": [
            "100%|██████████| 10000/10000 [1:00:58<00:00,  2.73it/s]\n"
          ]
        }
      ]
    },
    {
      "cell_type": "code",
      "metadata": {
        "colab": {
          "base_uri": "https://localhost:8080/",
          "height": 1000
        },
        "id": "Icnl6qaOaYaO",
        "outputId": "c6d109b5-0546-493f-8016-6a8d361b6d35"
      },
      "source": [
        "plot_result(data, 'DQN 4x4')"
      ],
      "execution_count": 15,
      "outputs": [
        {
          "output_type": "display_data",
          "data": {
            "image/png": "[encoded data removed]",
            "text/plain": [
              "<Figure size 720x576 with 1 Axes>"
            ]
          },
          "metadata": {
            "needs_background": "light"
          }
        },
        {
          "output_type": "display_data",
          "data": {
            "image/png": "[encoded data removed]",
            "text/plain": [
              "<Figure size 720x576 with 1 Axes>"
            ]
          },
          "metadata": {
            "needs_background": "light"
          }
        }
      ]
    },
    {
      "cell_type": "code",
      "metadata": {
        "id": "mmAUzQYTabMu"
      },
      "source": [
        "class DoubleDQN(DQN):\n",
        "    def __init__(self, env, network, support_network, replay_memory, gamma=1):\n",
        "        super().__init__(env, network, replay_memory)\n",
        "        self.model = network\n",
        "        self.support_model = support_network\n",
        "        self.memory = replay_memory\n",
        "        self.optimizer = optim.Adam(self.model.parameters(), 1e-6)\n",
        "        self.batch_size = 128\n",
        "        self.gamma = gamma\n",
        "        self.learns = 0\n",
        "        self.epoch_episodes = 20\n",
        "    \n",
        "    def learn(self, state, action, reward, new_state):\n",
        "        transition = (self.state_to_tensor(state), action, self.state_to_tensor(new_state), reward)\n",
        "        self.memory.store(transition)\n",
        "        if len(self.memory) < self.batch_size:\n",
        "            return\n",
        "        \n",
        "        if self.learns == self.epoch_episodes:\n",
        "            self.support_model.load_state_dict(self.model.state_dict())\n",
        "            self.learns = 0\n",
        "        \n",
        "        transitions = self.memory.sample(self.batch_size)\n",
        "        batch_state, batch_action, batch_next_state, batch_reward = zip(*transitions)\n",
        "        \n",
        "        batch_state = torch.cat(batch_state)\n",
        "        batch_action = torch.tensor(batch_action, dtype=torch.int64).unsqueeze(1)\n",
        "        batch_reward = torch.tensor(batch_reward, dtype=torch.float32)\n",
        "        batch_next_state = torch.cat(batch_next_state)\n",
        "        \n",
        "        Q = self.model(batch_state).gather(1, batch_action).reshape([self.batch_size])\n",
        "        \n",
        "        Qmax = self.model(batch_next_state).detach()[:, torch.argmax(self.support_model(batch_next_state).detach(), 1)][: ,0]\n",
        "        Qnext = batch_reward + (self.gamma * Qmax)\n",
        "        \n",
        "        loss = F.smooth_l1_loss(Q, Qnext)\n",
        "\n",
        "        self.optimizer.zero_grad()\n",
        "        loss.backward()\n",
        "        self.optimizer.step()\n",
        "        \n",
        "        self.learns += 1"
      ],
      "execution_count": 17,
      "outputs": []
    },
    {
      "cell_type": "code",
      "metadata": {
        "colab": {
          "base_uri": "https://localhost:8080/"
        },
        "id": "I7KUXRwPoU2_",
        "outputId": "3a0404d3-cfb6-4198-e791-7389e0d85599"
      },
      "source": [
        "env = TicTacToe(3, 3)\n",
        "c_memory, n_memory = ReplayMemory(100000), ReplayMemory(100000)\n",
        "c_network, cs_network, n_network, ns_network = Network(3, 3, 512), Network(3, 3, 512), Network(3, 3, 512), Network(3, 3, 512)\n",
        "DQNCrosses, DQNNoughts = DoubleDQN(env, c_network, cs_network, c_memory), DoubleDQN(env, n_network, ns_network, n_memory)\n",
        "supervisor = TicTacToeSupervisor(env, DQNCrosses, DQNNoughts, RandomAgent(env))\n",
        "data = supervisor.fit(6000, 100, 100, True)"
      ],
      "execution_count": 18,
      "outputs": [
        {
          "output_type": "stream",
          "name": "stderr",
          "text": [
            "  0%|          | 29/6000 [00:00<02:05, 47.41it/s] "
          ]
        },
        {
          "output_type": "stream",
          "name": "stdout",
          "text": [
            "Episode #0 score: \t1.0, | \t0.62, | \t-0.6\n"
          ]
        },
        {
          "output_type": "stream",
          "name": "stderr",
          "text": [
            "  2%|▏         | 102/6000 [00:10<22:50,  4.30it/s]"
          ]
        },
        {
          "output_type": "stream",
          "name": "stdout",
          "text": [
            "Episode #100 score: \t0.0, | \t0.63, | \t-0.32\n"
          ]
        },
        {
          "output_type": "stream",
          "name": "stderr",
          "text": [
            "  3%|▎         | 202/6000 [00:23<22:10,  4.36it/s]"
          ]
        },
        {
          "output_type": "stream",
          "name": "stdout",
          "text": [
            "Episode #200 score: \t-1.0, | \t0.78, | \t-0.29\n"
          ]
        },
        {
          "output_type": "stream",
          "name": "stderr",
          "text": [
            "  5%|▌         | 301/6000 [00:36<20:12,  4.70it/s]"
          ]
        },
        {
          "output_type": "stream",
          "name": "stdout",
          "text": [
            "Episode #300 score: \t0.0, | \t0.93, | \t-0.11\n"
          ]
        },
        {
          "output_type": "stream",
          "name": "stderr",
          "text": [
            "  7%|▋         | 402/6000 [00:49<18:51,  4.95it/s]"
          ]
        },
        {
          "output_type": "stream",
          "name": "stdout",
          "text": [
            "Episode #400 score: \t1.0, | \t0.68, | \t0.16\n"
          ]
        },
        {
          "output_type": "stream",
          "name": "stderr",
          "text": [
            "  8%|▊         | 502/6000 [01:01<20:19,  4.51it/s]"
          ]
        },
        {
          "output_type": "stream",
          "name": "stdout",
          "text": [
            "Episode #500 score: \t1.0, | \t0.85, | \t0.08\n"
          ]
        },
        {
          "output_type": "stream",
          "name": "stderr",
          "text": [
            " 10%|█         | 602/6000 [01:14<20:36,  4.37it/s]"
          ]
        },
        {
          "output_type": "stream",
          "name": "stdout",
          "text": [
            "Episode #600 score: \t1.0, | \t0.72, | \t0.24\n"
          ]
        },
        {
          "output_type": "stream",
          "name": "stderr",
          "text": [
            " 12%|█▏        | 702/6000 [01:26<16:15,  5.43it/s]"
          ]
        },
        {
          "output_type": "stream",
          "name": "stdout",
          "text": [
            "Episode #700 score: \t1.0, | \t0.87, | \t0.33\n"
          ]
        },
        {
          "output_type": "stream",
          "name": "stderr",
          "text": [
            " 13%|█▎        | 802/6000 [01:37<17:14,  5.02it/s]"
          ]
        },
        {
          "output_type": "stream",
          "name": "stdout",
          "text": [
            "Episode #800 score: \t1.0, | \t0.85, | \t0.3\n"
          ]
        },
        {
          "output_type": "stream",
          "name": "stderr",
          "text": [
            " 15%|█▌        | 903/6000 [01:49<15:20,  5.53it/s]"
          ]
        },
        {
          "output_type": "stream",
          "name": "stdout",
          "text": [
            "Episode #900 score: \t-1.0, | \t0.86, | \t0.19\n"
          ]
        },
        {
          "output_type": "stream",
          "name": "stderr",
          "text": [
            " 17%|█▋        | 1002/6000 [02:00<15:43,  5.30it/s]"
          ]
        },
        {
          "output_type": "stream",
          "name": "stdout",
          "text": [
            "Episode #1000 score: \t1.0, | \t0.89, | \t0.22\n"
          ]
        },
        {
          "output_type": "stream",
          "name": "stderr",
          "text": [
            " 18%|█▊        | 1102/6000 [02:12<15:30,  5.26it/s]"
          ]
        },
        {
          "output_type": "stream",
          "name": "stdout",
          "text": [
            "Episode #1100 score: \t1.0, | \t0.9, | \t0.17\n"
          ]
        },
        {
          "output_type": "stream",
          "name": "stderr",
          "text": [
            " 20%|██        | 1202/6000 [02:24<15:08,  5.28it/s]"
          ]
        },
        {
          "output_type": "stream",
          "name": "stdout",
          "text": [
            "Episode #1200 score: \t1.0, | \t0.92, | \t0.14\n"
          ]
        },
        {
          "output_type": "stream",
          "name": "stderr",
          "text": [
            " 22%|██▏       | 1302/6000 [02:35<15:38,  5.00it/s]"
          ]
        },
        {
          "output_type": "stream",
          "name": "stdout",
          "text": [
            "Episode #1300 score: \t1.0, | \t0.93, | \t0.28\n"
          ]
        },
        {
          "output_type": "stream",
          "name": "stderr",
          "text": [
            " 23%|██▎       | 1402/6000 [02:46<12:31,  6.11it/s]"
          ]
        },
        {
          "output_type": "stream",
          "name": "stdout",
          "text": [
            "Episode #1400 score: \t0.0, | \t0.94, | \t0.26\n"
          ]
        },
        {
          "output_type": "stream",
          "name": "stderr",
          "text": [
            " 25%|██▌       | 1502/6000 [02:57<12:51,  5.83it/s]"
          ]
        },
        {
          "output_type": "stream",
          "name": "stdout",
          "text": [
            "Episode #1500 score: \t1.0, | \t0.89, | \t0.12\n"
          ]
        },
        {
          "output_type": "stream",
          "name": "stderr",
          "text": [
            " 27%|██▋       | 1602/6000 [03:08<14:24,  5.09it/s]"
          ]
        },
        {
          "output_type": "stream",
          "name": "stdout",
          "text": [
            "Episode #1600 score: \t1.0, | \t0.96, | \t0.12\n"
          ]
        },
        {
          "output_type": "stream",
          "name": "stderr",
          "text": [
            " 28%|██▊       | 1703/6000 [03:20<11:53,  6.02it/s]"
          ]
        },
        {
          "output_type": "stream",
          "name": "stdout",
          "text": [
            "Episode #1700 score: \t1.0, | \t0.88, | \t0.14\n"
          ]
        },
        {
          "output_type": "stream",
          "name": "stderr",
          "text": [
            " 30%|███       | 1802/6000 [03:31<12:12,  5.73it/s]"
          ]
        },
        {
          "output_type": "stream",
          "name": "stdout",
          "text": [
            "Episode #1800 score: \t1.0, | \t0.88, | \t0.37\n"
          ]
        },
        {
          "output_type": "stream",
          "name": "stderr",
          "text": [
            " 32%|███▏      | 1902/6000 [03:42<12:18,  5.55it/s]"
          ]
        },
        {
          "output_type": "stream",
          "name": "stdout",
          "text": [
            "Episode #1900 score: \t1.0, | \t0.81, | \t0.37\n"
          ]
        },
        {
          "output_type": "stream",
          "name": "stderr",
          "text": [
            " 33%|███▎      | 2002/6000 [03:54<13:36,  4.90it/s]"
          ]
        },
        {
          "output_type": "stream",
          "name": "stdout",
          "text": [
            "Episode #2000 score: \t-1.0, | \t0.9, | \t0.28\n"
          ]
        },
        {
          "output_type": "stream",
          "name": "stderr",
          "text": [
            " 35%|███▌      | 2102/6000 [04:05<10:21,  6.27it/s]"
          ]
        },
        {
          "output_type": "stream",
          "name": "stdout",
          "text": [
            "Episode #2100 score: \t1.0, | \t0.88, | \t0.34\n"
          ]
        },
        {
          "output_type": "stream",
          "name": "stderr",
          "text": [
            " 37%|███▋      | 2202/6000 [04:16<10:52,  5.82it/s]"
          ]
        },
        {
          "output_type": "stream",
          "name": "stdout",
          "text": [
            "Episode #2200 score: \t1.0, | \t0.9, | \t0.14\n"
          ]
        },
        {
          "output_type": "stream",
          "name": "stderr",
          "text": [
            " 38%|███▊      | 2303/6000 [04:28<10:05,  6.10it/s]"
          ]
        },
        {
          "output_type": "stream",
          "name": "stdout",
          "text": [
            "Episode #2300 score: \t-1.0, | \t0.86, | \t0.26\n"
          ]
        },
        {
          "output_type": "stream",
          "name": "stderr",
          "text": [
            " 40%|████      | 2402/6000 [04:39<11:13,  5.34it/s]"
          ]
        },
        {
          "output_type": "stream",
          "name": "stdout",
          "text": [
            "Episode #2400 score: \t-1.0, | \t0.77, | \t0.35\n"
          ]
        },
        {
          "output_type": "stream",
          "name": "stderr",
          "text": [
            " 42%|████▏     | 2502/6000 [04:50<10:53,  5.36it/s]"
          ]
        },
        {
          "output_type": "stream",
          "name": "stdout",
          "text": [
            "Episode #2500 score: \t1.0, | \t0.92, | \t0.46\n"
          ]
        },
        {
          "output_type": "stream",
          "name": "stderr",
          "text": [
            " 43%|████▎     | 2602/6000 [05:00<09:06,  6.22it/s]"
          ]
        },
        {
          "output_type": "stream",
          "name": "stdout",
          "text": [
            "Episode #2600 score: \t1.0, | \t0.88, | \t0.34\n"
          ]
        },
        {
          "output_type": "stream",
          "name": "stderr",
          "text": [
            " 45%|████▌     | 2702/6000 [05:12<09:20,  5.88it/s]"
          ]
        },
        {
          "output_type": "stream",
          "name": "stdout",
          "text": [
            "Episode #2700 score: \t1.0, | \t0.82, | \t0.41\n"
          ]
        },
        {
          "output_type": "stream",
          "name": "stderr",
          "text": [
            " 47%|████▋     | 2802/6000 [05:23<10:04,  5.29it/s]"
          ]
        },
        {
          "output_type": "stream",
          "name": "stdout",
          "text": [
            "Episode #2800 score: \t1.0, | \t0.96, | \t0.2\n"
          ]
        },
        {
          "output_type": "stream",
          "name": "stderr",
          "text": [
            " 48%|████▊     | 2903/6000 [05:34<08:04,  6.40it/s]"
          ]
        },
        {
          "output_type": "stream",
          "name": "stdout",
          "text": [
            "Episode #2900 score: \t1.0, | \t1.0, | \t0.35\n"
          ]
        },
        {
          "output_type": "stream",
          "name": "stderr",
          "text": [
            " 50%|█████     | 3002/6000 [05:45<08:00,  6.24it/s]"
          ]
        },
        {
          "output_type": "stream",
          "name": "stdout",
          "text": [
            "Episode #3000 score: \t1.0, | \t0.88, | \t0.39\n"
          ]
        },
        {
          "output_type": "stream",
          "name": "stderr",
          "text": [
            " 52%|█████▏    | 3102/6000 [05:56<08:27,  5.71it/s]"
          ]
        },
        {
          "output_type": "stream",
          "name": "stdout",
          "text": [
            "Episode #3100 score: \t1.0, | \t0.86, | \t0.37\n"
          ]
        },
        {
          "output_type": "stream",
          "name": "stderr",
          "text": [
            " 53%|█████▎    | 3202/6000 [06:07<08:45,  5.32it/s]"
          ]
        },
        {
          "output_type": "stream",
          "name": "stdout",
          "text": [
            "Episode #3200 score: \t1.0, | \t0.94, | \t0.55\n"
          ]
        },
        {
          "output_type": "stream",
          "name": "stderr",
          "text": [
            " 55%|█████▌    | 3302/6000 [06:18<07:23,  6.08it/s]"
          ]
        },
        {
          "output_type": "stream",
          "name": "stdout",
          "text": [
            "Episode #3300 score: \t1.0, | \t1.0, | \t0.4\n"
          ]
        },
        {
          "output_type": "stream",
          "name": "stderr",
          "text": [
            " 57%|█████▋    | 3402/6000 [06:29<08:02,  5.38it/s]"
          ]
        },
        {
          "output_type": "stream",
          "name": "stdout",
          "text": [
            "Episode #3400 score: \t1.0, | \t0.98, | \t0.52\n"
          ]
        },
        {
          "output_type": "stream",
          "name": "stderr",
          "text": [
            " 58%|█████▊    | 3502/6000 [06:40<07:09,  5.81it/s]"
          ]
        },
        {
          "output_type": "stream",
          "name": "stdout",
          "text": [
            "Episode #3500 score: \t1.0, | \t0.94, | \t0.58\n"
          ]
        },
        {
          "output_type": "stream",
          "name": "stderr",
          "text": [
            " 60%|██████    | 3603/6000 [06:51<06:26,  6.20it/s]"
          ]
        },
        {
          "output_type": "stream",
          "name": "stdout",
          "text": [
            "Episode #3600 score: \t1.0, | \t1.0, | \t0.48\n"
          ]
        },
        {
          "output_type": "stream",
          "name": "stderr",
          "text": [
            " 62%|██████▏   | 3703/6000 [07:02<06:06,  6.27it/s]"
          ]
        },
        {
          "output_type": "stream",
          "name": "stdout",
          "text": [
            "Episode #3700 score: \t0.0, | \t0.98, | \t0.28\n"
          ]
        },
        {
          "output_type": "stream",
          "name": "stderr",
          "text": [
            " 63%|██████▎   | 3802/6000 [07:14<07:11,  5.09it/s]"
          ]
        },
        {
          "output_type": "stream",
          "name": "stdout",
          "text": [
            "Episode #3800 score: \t1.0, | \t0.96, | \t0.45\n"
          ]
        },
        {
          "output_type": "stream",
          "name": "stderr",
          "text": [
            " 65%|██████▌   | 3902/6000 [07:26<07:07,  4.91it/s]"
          ]
        },
        {
          "output_type": "stream",
          "name": "stdout",
          "text": [
            "Episode #3900 score: \t1.0, | \t0.86, | \t0.43\n"
          ]
        },
        {
          "output_type": "stream",
          "name": "stderr",
          "text": [
            " 67%|██████▋   | 4002/6000 [07:37<06:32,  5.09it/s]"
          ]
        },
        {
          "output_type": "stream",
          "name": "stdout",
          "text": [
            "Episode #4000 score: \t1.0, | \t0.89, | \t0.38\n"
          ]
        },
        {
          "output_type": "stream",
          "name": "stderr",
          "text": [
            " 68%|██████▊   | 4102/6000 [07:49<06:13,  5.09it/s]"
          ]
        },
        {
          "output_type": "stream",
          "name": "stdout",
          "text": [
            "Episode #4100 score: \t1.0, | \t0.96, | \t0.38\n"
          ]
        },
        {
          "output_type": "stream",
          "name": "stderr",
          "text": [
            " 70%|███████   | 4202/6000 [08:01<06:07,  4.89it/s]"
          ]
        },
        {
          "output_type": "stream",
          "name": "stdout",
          "text": [
            "Episode #4200 score: \t1.0, | \t0.82, | \t0.28\n"
          ]
        },
        {
          "output_type": "stream",
          "name": "stderr",
          "text": [
            " 72%|███████▏  | 4302/6000 [08:13<05:35,  5.06it/s]"
          ]
        },
        {
          "output_type": "stream",
          "name": "stdout",
          "text": [
            "Episode #4300 score: \t1.0, | \t0.85, | \t0.36\n"
          ]
        },
        {
          "output_type": "stream",
          "name": "stderr",
          "text": [
            " 73%|███████▎  | 4402/6000 [08:24<05:45,  4.63it/s]"
          ]
        },
        {
          "output_type": "stream",
          "name": "stdout",
          "text": [
            "Episode #4400 score: \t1.0, | \t0.88, | \t0.45\n"
          ]
        },
        {
          "output_type": "stream",
          "name": "stderr",
          "text": [
            " 75%|███████▌  | 4502/6000 [08:36<05:00,  4.98it/s]"
          ]
        },
        {
          "output_type": "stream",
          "name": "stdout",
          "text": [
            "Episode #4500 score: \t0.0, | \t0.85, | \t0.5\n"
          ]
        },
        {
          "output_type": "stream",
          "name": "stderr",
          "text": [
            " 77%|███████▋  | 4602/6000 [08:47<04:46,  4.87it/s]"
          ]
        },
        {
          "output_type": "stream",
          "name": "stdout",
          "text": [
            "Episode #4600 score: \t1.0, | \t0.88, | \t0.54\n"
          ]
        },
        {
          "output_type": "stream",
          "name": "stderr",
          "text": [
            " 78%|███████▊  | 4702/6000 [08:59<04:25,  4.89it/s]"
          ]
        },
        {
          "output_type": "stream",
          "name": "stdout",
          "text": [
            "Episode #4700 score: \t1.0, | \t0.88, | \t0.35\n"
          ]
        },
        {
          "output_type": "stream",
          "name": "stderr",
          "text": [
            " 80%|████████  | 4802/6000 [09:11<03:32,  5.63it/s]"
          ]
        },
        {
          "output_type": "stream",
          "name": "stdout",
          "text": [
            "Episode #4800 score: \t1.0, | \t0.92, | \t0.35\n"
          ]
        },
        {
          "output_type": "stream",
          "name": "stderr",
          "text": [
            " 82%|████████▏ | 4902/6000 [09:22<03:30,  5.22it/s]"
          ]
        },
        {
          "output_type": "stream",
          "name": "stdout",
          "text": [
            "Episode #4900 score: \t1.0, | \t0.81, | \t0.48\n"
          ]
        },
        {
          "output_type": "stream",
          "name": "stderr",
          "text": [
            " 83%|████████▎ | 5003/6000 [09:34<02:46,  5.99it/s]"
          ]
        },
        {
          "output_type": "stream",
          "name": "stdout",
          "text": [
            "Episode #5000 score: \t1.0, | \t0.88, | \t0.46\n"
          ]
        },
        {
          "output_type": "stream",
          "name": "stderr",
          "text": [
            " 85%|████████▌ | 5102/6000 [09:45<02:59,  4.99it/s]"
          ]
        },
        {
          "output_type": "stream",
          "name": "stdout",
          "text": [
            "Episode #5100 score: \t1.0, | \t0.87, | \t0.42\n"
          ]
        },
        {
          "output_type": "stream",
          "name": "stderr",
          "text": [
            " 87%|████████▋ | 5202/6000 [09:56<02:22,  5.61it/s]"
          ]
        },
        {
          "output_type": "stream",
          "name": "stdout",
          "text": [
            "Episode #5200 score: \t1.0, | \t0.91, | \t0.58\n"
          ]
        },
        {
          "output_type": "stream",
          "name": "stderr",
          "text": [
            " 88%|████████▊ | 5302/6000 [10:08<02:02,  5.70it/s]"
          ]
        },
        {
          "output_type": "stream",
          "name": "stdout",
          "text": [
            "Episode #5300 score: \t1.0, | \t0.84, | \t0.46\n"
          ]
        },
        {
          "output_type": "stream",
          "name": "stderr",
          "text": [
            " 90%|█████████ | 5402/6000 [10:19<01:52,  5.29it/s]"
          ]
        },
        {
          "output_type": "stream",
          "name": "stdout",
          "text": [
            "Episode #5400 score: \t1.0, | \t0.93, | \t0.61\n"
          ]
        },
        {
          "output_type": "stream",
          "name": "stderr",
          "text": [
            " 92%|█████████▏| 5502/6000 [10:30<01:37,  5.09it/s]"
          ]
        },
        {
          "output_type": "stream",
          "name": "stdout",
          "text": [
            "Episode #5500 score: \t1.0, | \t0.9, | \t0.51\n"
          ]
        },
        {
          "output_type": "stream",
          "name": "stderr",
          "text": [
            " 93%|█████████▎| 5602/6000 [10:41<01:11,  5.57it/s]"
          ]
        },
        {
          "output_type": "stream",
          "name": "stdout",
          "text": [
            "Episode #5600 score: \t1.0, | \t0.92, | \t0.6\n"
          ]
        },
        {
          "output_type": "stream",
          "name": "stderr",
          "text": [
            " 95%|█████████▌| 5702/6000 [10:52<00:57,  5.15it/s]"
          ]
        },
        {
          "output_type": "stream",
          "name": "stdout",
          "text": [
            "Episode #5700 score: \t1.0, | \t0.96, | \t0.6\n"
          ]
        },
        {
          "output_type": "stream",
          "name": "stderr",
          "text": [
            " 97%|█████████▋| 5802/6000 [11:03<00:35,  5.64it/s]"
          ]
        },
        {
          "output_type": "stream",
          "name": "stdout",
          "text": [
            "Episode #5800 score: \t1.0, | \t0.87, | \t0.51\n"
          ]
        },
        {
          "output_type": "stream",
          "name": "stderr",
          "text": [
            " 98%|█████████▊| 5901/6000 [11:14<00:21,  4.61it/s]"
          ]
        },
        {
          "output_type": "stream",
          "name": "stdout",
          "text": [
            "Episode #5900 score: \t1.0, | \t0.82, | \t0.45\n"
          ]
        },
        {
          "output_type": "stream",
          "name": "stderr",
          "text": [
            "100%|██████████| 6000/6000 [11:24<00:00,  8.76it/s]\n"
          ]
        }
      ]
    },
    {
      "cell_type": "code",
      "metadata": {
        "colab": {
          "base_uri": "https://localhost:8080/",
          "height": 1000
        },
        "id": "xp7Yb-pepL5Q",
        "outputId": "6b4a62e6-d141-46d2-ac59-e12280dccbd5"
      },
      "source": [
        "plot_result(data, 'Double DQN 3x3')"
      ],
      "execution_count": 19,
      "outputs": [
        {
          "output_type": "display_data",
          "data": {
            "image/png": "[encoded data removed]",
            "text/plain": [
              "<Figure size 720x576 with 1 Axes>"
            ]
          },
          "metadata": {
            "needs_background": "light"
          }
        },
        {
          "output_type": "display_data",
          "data": {
            "image/png": "[encoded data removed]",
            "text/plain": [
              "<Figure size 720x576 with 1 Axes>"
            ]
          },
          "metadata": {
            "needs_background": "light"
          }
        }
      ]
    },
    {
      "cell_type": "code",
      "metadata": {
        "colab": {
          "base_uri": "https://localhost:8080/"
        },
        "id": "xxNxSNTfpgG2",
        "outputId": "ac140101-a95b-4a50-8b54-13d8335a1015"
      },
      "source": [
        "env = TicTacToe(4, 4)\n",
        "c_memory, n_memory = ReplayMemory(100000), ReplayMemory(100000)\n",
        "c_network, cs_network, n_network, ns_network = Network(4, 4, 512), Network(4, 4, 512), Network(4, 4, 512), Network(4, 4, 512)\n",
        "DQNCrosses, DQNNoughts = DoubleDQN(env, c_network, cs_network, c_memory), DoubleDQN(env, n_network, ns_network, n_memory)\n",
        "supervisor = TicTacToeSupervisor(env, DQNCrosses, DQNNoughts, RandomAgent(env))\n",
        "data = supervisor.fit(6000, 100, 100, True)"
      ],
      "execution_count": 20,
      "outputs": [
        {
          "output_type": "stream",
          "name": "stderr",
          "text": [
            "  0%|          | 18/6000 [00:01<04:20, 22.99it/s] "
          ]
        },
        {
          "output_type": "stream",
          "name": "stdout",
          "text": [
            "Episode #0 score: \t-1.0, | \t-0.06, | \t-0.4\n"
          ]
        },
        {
          "output_type": "stream",
          "name": "stderr",
          "text": [
            "  2%|▏         | 102/6000 [00:15<34:03,  2.89it/s]"
          ]
        },
        {
          "output_type": "stream",
          "name": "stdout",
          "text": [
            "Episode #100 score: \t1.0, | \t0.13, | \t-0.24\n"
          ]
        },
        {
          "output_type": "stream",
          "name": "stderr",
          "text": [
            "  3%|▎         | 202/6000 [00:33<33:10,  2.91it/s]"
          ]
        },
        {
          "output_type": "stream",
          "name": "stdout",
          "text": [
            "Episode #200 score: \t1.0, | \t0.6, | \t0.16\n"
          ]
        },
        {
          "output_type": "stream",
          "name": "stderr",
          "text": [
            "  5%|▌         | 302/6000 [00:50<28:54,  3.28it/s]"
          ]
        },
        {
          "output_type": "stream",
          "name": "stdout",
          "text": [
            "Episode #300 score: \t1.0, | \t0.7, | \t0.48\n"
          ]
        },
        {
          "output_type": "stream",
          "name": "stderr",
          "text": [
            "  7%|▋         | 402/6000 [01:07<30:03,  3.10it/s]"
          ]
        },
        {
          "output_type": "stream",
          "name": "stdout",
          "text": [
            "Episode #400 score: \t-1.0, | \t0.86, | \t0.6\n"
          ]
        },
        {
          "output_type": "stream",
          "name": "stderr",
          "text": [
            "  8%|▊         | 502/6000 [01:23<25:29,  3.59it/s]"
          ]
        },
        {
          "output_type": "stream",
          "name": "stdout",
          "text": [
            "Episode #500 score: \t-1.0, | \t0.82, | \t0.54\n"
          ]
        },
        {
          "output_type": "stream",
          "name": "stderr",
          "text": [
            " 10%|█         | 602/6000 [01:39<24:17,  3.70it/s]"
          ]
        },
        {
          "output_type": "stream",
          "name": "stdout",
          "text": [
            "Episode #600 score: \t1.0, | \t0.84, | \t0.7\n"
          ]
        },
        {
          "output_type": "stream",
          "name": "stderr",
          "text": [
            " 12%|█▏        | 702/6000 [01:53<23:14,  3.80it/s]"
          ]
        },
        {
          "output_type": "stream",
          "name": "stdout",
          "text": [
            "Episode #700 score: \t-1.0, | \t0.82, | \t0.68\n"
          ]
        },
        {
          "output_type": "stream",
          "name": "stderr",
          "text": [
            " 13%|█▎        | 802/6000 [02:07<20:28,  4.23it/s]"
          ]
        },
        {
          "output_type": "stream",
          "name": "stdout",
          "text": [
            "Episode #800 score: \t-1.0, | \t0.8, | \t0.7\n"
          ]
        },
        {
          "output_type": "stream",
          "name": "stderr",
          "text": [
            " 15%|█▌        | 901/6000 [02:21<24:01,  3.54it/s]"
          ]
        },
        {
          "output_type": "stream",
          "name": "stdout",
          "text": [
            "Episode #900 score: \t1.0, | \t0.94, | \t0.78\n"
          ]
        },
        {
          "output_type": "stream",
          "name": "stderr",
          "text": [
            " 17%|█▋        | 1002/6000 [02:35<22:32,  3.69it/s]"
          ]
        },
        {
          "output_type": "stream",
          "name": "stdout",
          "text": [
            "Episode #1000 score: \t-1.0, | \t0.9, | \t0.74\n"
          ]
        },
        {
          "output_type": "stream",
          "name": "stderr",
          "text": [
            " 18%|█▊        | 1102/6000 [02:48<20:59,  3.89it/s]"
          ]
        },
        {
          "output_type": "stream",
          "name": "stdout",
          "text": [
            "Episode #1100 score: \t1.0, | \t0.96, | \t0.72\n"
          ]
        },
        {
          "output_type": "stream",
          "name": "stderr",
          "text": [
            " 20%|██        | 1202/6000 [03:02<20:11,  3.96it/s]"
          ]
        },
        {
          "output_type": "stream",
          "name": "stdout",
          "text": [
            "Episode #1200 score: \t1.0, | \t0.92, | \t0.66\n"
          ]
        },
        {
          "output_type": "stream",
          "name": "stderr",
          "text": [
            " 22%|██▏       | 1302/6000 [03:15<19:14,  4.07it/s]"
          ]
        },
        {
          "output_type": "stream",
          "name": "stdout",
          "text": [
            "Episode #1300 score: \t1.0, | \t0.96, | \t0.86\n"
          ]
        },
        {
          "output_type": "stream",
          "name": "stderr",
          "text": [
            " 23%|██▎       | 1402/6000 [03:29<19:13,  3.99it/s]"
          ]
        },
        {
          "output_type": "stream",
          "name": "stdout",
          "text": [
            "Episode #1400 score: \t-1.0, | \t0.96, | \t0.82\n"
          ]
        },
        {
          "output_type": "stream",
          "name": "stderr",
          "text": [
            " 25%|██▌       | 1502/6000 [03:43<18:45,  4.00it/s]"
          ]
        },
        {
          "output_type": "stream",
          "name": "stdout",
          "text": [
            "Episode #1500 score: \t-1.0, | \t0.94, | \t0.76\n"
          ]
        },
        {
          "output_type": "stream",
          "name": "stderr",
          "text": [
            " 27%|██▋       | 1602/6000 [03:56<19:03,  3.85it/s]"
          ]
        },
        {
          "output_type": "stream",
          "name": "stdout",
          "text": [
            "Episode #1600 score: \t-1.0, | \t0.92, | \t0.74\n"
          ]
        },
        {
          "output_type": "stream",
          "name": "stderr",
          "text": [
            " 28%|██▊       | 1702/6000 [04:10<16:21,  4.38it/s]"
          ]
        },
        {
          "output_type": "stream",
          "name": "stdout",
          "text": [
            "Episode #1700 score: \t1.0, | \t0.96, | \t0.72\n"
          ]
        },
        {
          "output_type": "stream",
          "name": "stderr",
          "text": [
            " 30%|███       | 1802/6000 [04:23<17:09,  4.08it/s]"
          ]
        },
        {
          "output_type": "stream",
          "name": "stdout",
          "text": [
            "Episode #1800 score: \t1.0, | \t0.94, | \t0.72\n"
          ]
        },
        {
          "output_type": "stream",
          "name": "stderr",
          "text": [
            " 32%|███▏      | 1902/6000 [04:37<16:28,  4.14it/s]"
          ]
        },
        {
          "output_type": "stream",
          "name": "stdout",
          "text": [
            "Episode #1900 score: \t1.0, | \t0.96, | \t0.84\n"
          ]
        },
        {
          "output_type": "stream",
          "name": "stderr",
          "text": [
            " 33%|███▎      | 2002/6000 [04:50<15:55,  4.18it/s]"
          ]
        },
        {
          "output_type": "stream",
          "name": "stdout",
          "text": [
            "Episode #2000 score: \t-1.0, | \t0.94, | \t0.86\n"
          ]
        },
        {
          "output_type": "stream",
          "name": "stderr",
          "text": [
            " 35%|███▌      | 2102/6000 [05:04<15:13,  4.27it/s]"
          ]
        },
        {
          "output_type": "stream",
          "name": "stdout",
          "text": [
            "Episode #2100 score: \t1.0, | \t0.96, | \t0.66\n"
          ]
        },
        {
          "output_type": "stream",
          "name": "stderr",
          "text": [
            " 37%|███▋      | 2202/6000 [05:17<15:41,  4.03it/s]"
          ]
        },
        {
          "output_type": "stream",
          "name": "stdout",
          "text": [
            "Episode #2200 score: \t1.0, | \t0.98, | \t0.62\n"
          ]
        },
        {
          "output_type": "stream",
          "name": "stderr",
          "text": [
            " 38%|███▊      | 2302/6000 [05:30<14:07,  4.36it/s]"
          ]
        },
        {
          "output_type": "stream",
          "name": "stdout",
          "text": [
            "Episode #2300 score: \t-1.0, | \t1.0, | \t0.7\n"
          ]
        },
        {
          "output_type": "stream",
          "name": "stderr",
          "text": [
            " 40%|████      | 2402/6000 [05:44<14:08,  4.24it/s]"
          ]
        },
        {
          "output_type": "stream",
          "name": "stdout",
          "text": [
            "Episode #2400 score: \t1.0, | \t0.96, | \t0.7\n"
          ]
        },
        {
          "output_type": "stream",
          "name": "stderr",
          "text": [
            " 42%|████▏     | 2502/6000 [05:57<13:10,  4.42it/s]"
          ]
        },
        {
          "output_type": "stream",
          "name": "stdout",
          "text": [
            "Episode #2500 score: \t1.0, | \t0.88, | \t0.74\n"
          ]
        },
        {
          "output_type": "stream",
          "name": "stderr",
          "text": [
            " 43%|████▎     | 2602/6000 [06:10<13:35,  4.17it/s]"
          ]
        },
        {
          "output_type": "stream",
          "name": "stdout",
          "text": [
            "Episode #2600 score: \t1.0, | \t0.96, | \t0.8\n"
          ]
        },
        {
          "output_type": "stream",
          "name": "stderr",
          "text": [
            " 45%|████▌     | 2702/6000 [06:24<13:18,  4.13it/s]"
          ]
        },
        {
          "output_type": "stream",
          "name": "stdout",
          "text": [
            "Episode #2700 score: \t1.0, | \t0.96, | \t0.78\n"
          ]
        },
        {
          "output_type": "stream",
          "name": "stderr",
          "text": [
            " 47%|████▋     | 2802/6000 [06:37<12:41,  4.20it/s]"
          ]
        },
        {
          "output_type": "stream",
          "name": "stdout",
          "text": [
            "Episode #2800 score: \t1.0, | \t0.94, | \t0.72\n"
          ]
        },
        {
          "output_type": "stream",
          "name": "stderr",
          "text": [
            " 48%|████▊     | 2901/6000 [06:50<15:13,  3.39it/s]"
          ]
        },
        {
          "output_type": "stream",
          "name": "stdout",
          "text": [
            "Episode #2900 score: \t1.0, | \t0.92, | \t0.75\n"
          ]
        },
        {
          "output_type": "stream",
          "name": "stderr",
          "text": [
            " 50%|█████     | 3002/6000 [07:03<11:45,  4.25it/s]"
          ]
        },
        {
          "output_type": "stream",
          "name": "stdout",
          "text": [
            "Episode #3000 score: \t1.0, | \t0.98, | \t0.8\n"
          ]
        },
        {
          "output_type": "stream",
          "name": "stderr",
          "text": [
            " 52%|█████▏    | 3102/6000 [07:16<10:54,  4.43it/s]"
          ]
        },
        {
          "output_type": "stream",
          "name": "stdout",
          "text": [
            "Episode #3100 score: \t1.0, | \t0.96, | \t0.84\n"
          ]
        },
        {
          "output_type": "stream",
          "name": "stderr",
          "text": [
            " 53%|█████▎    | 3202/6000 [07:29<11:01,  4.23it/s]"
          ]
        },
        {
          "output_type": "stream",
          "name": "stdout",
          "text": [
            "Episode #3200 score: \t1.0, | \t1.0, | \t0.82\n"
          ]
        },
        {
          "output_type": "stream",
          "name": "stderr",
          "text": [
            " 55%|█████▌    | 3302/6000 [07:41<08:56,  5.03it/s]"
          ]
        },
        {
          "output_type": "stream",
          "name": "stdout",
          "text": [
            "Episode #3300 score: \t1.0, | \t0.96, | \t0.8\n"
          ]
        },
        {
          "output_type": "stream",
          "name": "stderr",
          "text": [
            " 57%|█████▋    | 3402/6000 [07:53<10:10,  4.26it/s]"
          ]
        },
        {
          "output_type": "stream",
          "name": "stdout",
          "text": [
            "Episode #3400 score: \t1.0, | \t0.9, | \t0.68\n"
          ]
        },
        {
          "output_type": "stream",
          "name": "stderr",
          "text": [
            " 58%|█████▊    | 3502/6000 [08:06<08:57,  4.64it/s]"
          ]
        },
        {
          "output_type": "stream",
          "name": "stdout",
          "text": [
            "Episode #3500 score: \t1.0, | \t1.0, | \t0.82\n"
          ]
        },
        {
          "output_type": "stream",
          "name": "stderr",
          "text": [
            " 60%|██████    | 3602/6000 [08:18<08:18,  4.81it/s]"
          ]
        },
        {
          "output_type": "stream",
          "name": "stdout",
          "text": [
            "Episode #3600 score: \t1.0, | \t0.94, | \t0.74\n"
          ]
        },
        {
          "output_type": "stream",
          "name": "stderr",
          "text": [
            " 62%|██████▏   | 3702/6000 [08:30<08:38,  4.43it/s]"
          ]
        },
        {
          "output_type": "stream",
          "name": "stdout",
          "text": [
            "Episode #3700 score: \t1.0, | \t0.98, | \t0.8\n"
          ]
        },
        {
          "output_type": "stream",
          "name": "stderr",
          "text": [
            " 63%|██████▎   | 3802/6000 [08:43<08:04,  4.54it/s]"
          ]
        },
        {
          "output_type": "stream",
          "name": "stdout",
          "text": [
            "Episode #3800 score: \t1.0, | \t1.0, | \t0.78\n"
          ]
        },
        {
          "output_type": "stream",
          "name": "stderr",
          "text": [
            " 65%|██████▌   | 3901/6000 [08:55<09:17,  3.76it/s]"
          ]
        },
        {
          "output_type": "stream",
          "name": "stdout",
          "text": [
            "Episode #3900 score: \t1.0, | \t0.98, | \t0.66\n"
          ]
        },
        {
          "output_type": "stream",
          "name": "stderr",
          "text": [
            " 67%|██████▋   | 4002/6000 [09:07<07:24,  4.49it/s]"
          ]
        },
        {
          "output_type": "stream",
          "name": "stdout",
          "text": [
            "Episode #4000 score: \t1.0, | \t0.98, | \t0.7\n"
          ]
        },
        {
          "output_type": "stream",
          "name": "stderr",
          "text": [
            " 68%|██████▊   | 4102/6000 [09:20<06:59,  4.53it/s]"
          ]
        },
        {
          "output_type": "stream",
          "name": "stdout",
          "text": [
            "Episode #4100 score: \t1.0, | \t0.98, | \t0.8\n"
          ]
        },
        {
          "output_type": "stream",
          "name": "stderr",
          "text": [
            " 70%|███████   | 4202/6000 [09:32<06:42,  4.47it/s]"
          ]
        },
        {
          "output_type": "stream",
          "name": "stdout",
          "text": [
            "Episode #4200 score: \t1.0, | \t0.96, | \t0.84\n"
          ]
        },
        {
          "output_type": "stream",
          "name": "stderr",
          "text": [
            " 72%|███████▏  | 4302/6000 [09:44<05:58,  4.74it/s]"
          ]
        },
        {
          "output_type": "stream",
          "name": "stdout",
          "text": [
            "Episode #4300 score: \t1.0, | \t1.0, | \t0.76\n"
          ]
        },
        {
          "output_type": "stream",
          "name": "stderr",
          "text": [
            " 73%|███████▎  | 4402/6000 [09:57<06:05,  4.37it/s]"
          ]
        },
        {
          "output_type": "stream",
          "name": "stdout",
          "text": [
            "Episode #4400 score: \t1.0, | \t1.0, | \t0.86\n"
          ]
        },
        {
          "output_type": "stream",
          "name": "stderr",
          "text": [
            " 75%|███████▌  | 4502/6000 [10:10<06:01,  4.14it/s]"
          ]
        },
        {
          "output_type": "stream",
          "name": "stdout",
          "text": [
            "Episode #4500 score: \t1.0, | \t0.96, | \t0.8\n"
          ]
        },
        {
          "output_type": "stream",
          "name": "stderr",
          "text": [
            " 77%|███████▋  | 4602/6000 [10:23<05:24,  4.30it/s]"
          ]
        },
        {
          "output_type": "stream",
          "name": "stdout",
          "text": [
            "Episode #4600 score: \t1.0, | \t1.0, | \t0.86\n"
          ]
        },
        {
          "output_type": "stream",
          "name": "stderr",
          "text": [
            " 78%|███████▊  | 4702/6000 [10:36<05:02,  4.28it/s]"
          ]
        },
        {
          "output_type": "stream",
          "name": "stdout",
          "text": [
            "Episode #4700 score: \t1.0, | \t0.96, | \t0.82\n"
          ]
        },
        {
          "output_type": "stream",
          "name": "stderr",
          "text": [
            " 80%|████████  | 4802/6000 [10:49<04:43,  4.22it/s]"
          ]
        },
        {
          "output_type": "stream",
          "name": "stdout",
          "text": [
            "Episode #4800 score: \t1.0, | \t1.0, | \t0.88\n"
          ]
        },
        {
          "output_type": "stream",
          "name": "stderr",
          "text": [
            " 82%|████████▏ | 4902/6000 [11:01<04:09,  4.39it/s]"
          ]
        },
        {
          "output_type": "stream",
          "name": "stdout",
          "text": [
            "Episode #4900 score: \t1.0, | \t1.0, | \t0.86\n"
          ]
        },
        {
          "output_type": "stream",
          "name": "stderr",
          "text": [
            " 83%|████████▎ | 5002/6000 [11:14<03:39,  4.54it/s]"
          ]
        },
        {
          "output_type": "stream",
          "name": "stdout",
          "text": [
            "Episode #5000 score: \t1.0, | \t0.98, | \t0.88\n"
          ]
        },
        {
          "output_type": "stream",
          "name": "stderr",
          "text": [
            " 85%|████████▌ | 5102/6000 [11:26<03:23,  4.41it/s]"
          ]
        },
        {
          "output_type": "stream",
          "name": "stdout",
          "text": [
            "Episode #5100 score: \t1.0, | \t1.0, | \t0.84\n"
          ]
        },
        {
          "output_type": "stream",
          "name": "stderr",
          "text": [
            " 87%|████████▋ | 5202/6000 [11:38<02:59,  4.46it/s]"
          ]
        },
        {
          "output_type": "stream",
          "name": "stdout",
          "text": [
            "Episode #5200 score: \t1.0, | \t0.96, | \t0.84\n"
          ]
        },
        {
          "output_type": "stream",
          "name": "stderr",
          "text": [
            " 88%|████████▊ | 5302/6000 [11:50<02:25,  4.81it/s]"
          ]
        },
        {
          "output_type": "stream",
          "name": "stdout",
          "text": [
            "Episode #5300 score: \t1.0, | \t0.98, | \t0.72\n"
          ]
        },
        {
          "output_type": "stream",
          "name": "stderr",
          "text": [
            " 90%|█████████ | 5402/6000 [12:02<02:03,  4.83it/s]"
          ]
        },
        {
          "output_type": "stream",
          "name": "stdout",
          "text": [
            "Episode #5400 score: \t1.0, | \t0.98, | \t0.82\n"
          ]
        },
        {
          "output_type": "stream",
          "name": "stderr",
          "text": [
            " 92%|█████████▏| 5502/6000 [12:14<01:38,  5.07it/s]"
          ]
        },
        {
          "output_type": "stream",
          "name": "stdout",
          "text": [
            "Episode #5500 score: \t1.0, | \t1.0, | \t0.9\n"
          ]
        },
        {
          "output_type": "stream",
          "name": "stderr",
          "text": [
            " 93%|█████████▎| 5602/6000 [12:26<01:26,  4.59it/s]"
          ]
        },
        {
          "output_type": "stream",
          "name": "stdout",
          "text": [
            "Episode #5600 score: \t1.0, | \t0.98, | \t0.88\n"
          ]
        },
        {
          "output_type": "stream",
          "name": "stderr",
          "text": [
            " 95%|█████████▌| 5702/6000 [12:38<01:00,  4.93it/s]"
          ]
        },
        {
          "output_type": "stream",
          "name": "stdout",
          "text": [
            "Episode #5700 score: \t1.0, | \t0.98, | \t0.86\n"
          ]
        },
        {
          "output_type": "stream",
          "name": "stderr",
          "text": [
            " 97%|█████████▋| 5802/6000 [12:50<00:43,  4.58it/s]"
          ]
        },
        {
          "output_type": "stream",
          "name": "stdout",
          "text": [
            "Episode #5800 score: \t1.0, | \t1.0, | \t0.8\n"
          ]
        },
        {
          "output_type": "stream",
          "name": "stderr",
          "text": [
            " 98%|█████████▊| 5901/6000 [13:01<00:22,  4.50it/s]"
          ]
        },
        {
          "output_type": "stream",
          "name": "stdout",
          "text": [
            "Episode #5900 score: \t1.0, | \t1.0, | \t0.88\n"
          ]
        },
        {
          "output_type": "stream",
          "name": "stderr",
          "text": [
            "100%|██████████| 6000/6000 [13:12<00:00,  7.57it/s]\n"
          ]
        }
      ]
    },
    {
      "cell_type": "code",
      "metadata": {
        "colab": {
          "base_uri": "https://localhost:8080/",
          "height": 1000
        },
        "id": "oNlrhPoysdPH",
        "outputId": "be6eb14f-5ae8-44d1-d094-5714930c9abe"
      },
      "source": [
        "plot_result(data, 'Double DQN 4x4')"
      ],
      "execution_count": 21,
      "outputs": [
        {
          "output_type": "display_data",
          "data": {
            "image/png": "[encoded data removed]",
            "text/plain": [
              "<Figure size 720x576 with 1 Axes>"
            ]
          },
          "metadata": {
            "needs_background": "light"
          }
        },
        {
          "output_type": "display_data",
          "data": {
            "image/png": "[encoded data removed]",
            "text/plain": [
              "<Figure size 720x576 with 1 Axes>"
            ]
          },
          "metadata": {
            "needs_background": "light"
          }
        }
      ]
    },
    {
      "cell_type": "markdown",
      "metadata": {
        "id": "vZDVAN05uQph"
      },
      "source": [
        "### Часть третья: расширим и углубим поиск\n",
        "Крестики-нолики -- это, конечно, далеко не го, и обычный альфа-бета поиск с отсечением здесь наверняка может работать идеально вплоть до довольно больших досок. Однако мы всё-таки для этого учебного задания будем реализовывать более практически релевантный метод MCTS -- заодно фактически получится и упражнение на многоруких бандитов.\n",
        "\n",
        "1. Реализуйте rollouts со случайной стратегией и (опционально) rollouts с неслучайной, но простой стратегией (например, основанной на дополнении нескольких паттернов или на Q-функции, которая у вас получилась в первом пункте).\n",
        "\n",
        "2. Реализуйте MCTS-поиск с этими rollouts для крестиков-ноликов на досках разного размера, сравните полученные стратегии между собой и со стратегиями, обученными в первых двух частях."
      ]
    },
    {
      "cell_type": "code",
      "metadata": {
        "id": "KaZz-m_qso1b"
      },
      "source": [
        "class TreeNode:\n",
        "    def __init__(self, state, action, turn, parent=None):\n",
        "        self.state = state\n",
        "        self.action = action\n",
        "        self.turn = turn\n",
        "        self.parent = parent\n",
        "        self.is_terminal = False\n",
        "        self.children = []\n",
        "        self.c_wins = 0\n",
        "        self.n_wins = 0\n",
        "        self.visits = 0\n",
        "        \n",
        "    def value(self):\n",
        "        val = self.turn == 1 and self.c_wins or self.n_wins\n",
        "        return val / self.visits"
      ],
      "execution_count": 22,
      "outputs": []
    },
    {
      "cell_type": "code",
      "metadata": {
        "id": "47pSqNcSuOL_"
      },
      "source": [
        "class MCTS:\n",
        "    def __init__(self, env: TicTacToe, agent, player, c):\n",
        "        self.env = env\n",
        "        self.c = c\n",
        "        self.agent = agent\n",
        "        self.player = player\n",
        "        state = self.env.reset()\n",
        "        self.root = TreeNode(state.hash, action=None, turn=-1)\n",
        "        \n",
        "    def predict_state(self, s, action, player):\n",
        "        action_str = str(player + 1)\n",
        "        new_hash = s[:action] + action_str + s[action + 1:]\n",
        "        return new_hash\n",
        "    \n",
        "    def next_child(self, node):\n",
        "        ucbs = []\n",
        "        \n",
        "        val = 0\n",
        "        best_child = None\n",
        "        for child in node.children:\n",
        "            ucb = child.value() + self.c * np.sqrt(np.log(node.visits) / child.visits)\n",
        "            if ucb >= val or best_child == None:\n",
        "                best_child = child\n",
        "                val = ucb\n",
        "        return best_child\n",
        "    \n",
        "    def lift(self, node, c_score, n_score):\n",
        "        while node is not None:\n",
        "            node.c_wins += c_score\n",
        "            node.n_wins += n_score\n",
        "            node.visits += 1\n",
        "            node = node.parent\n",
        "            \n",
        "    def evaluate(self, player, evals):\n",
        "        cum_reward = 0\n",
        "        for _ in range(evals):\n",
        "            node = self.root\n",
        "            state = self.env.reset()\n",
        "            done = False\n",
        "            turn = 1\n",
        "\n",
        "            while not done:\n",
        "                if node.children:\n",
        "                    if player != turn:\n",
        "                        child = random.choice(node.children)\n",
        "                    else:\n",
        "                        child = max(node.children, key=lambda x: x.value())\n",
        "                    node = child\n",
        "                    action = child.action\n",
        "                else:\n",
        "                    action = RandomAgent(self.env).get_action(state)\n",
        "                    \n",
        "                state, reward, done, _ = self.env.step(action)\n",
        "                turn *= -1\n",
        "            cum_reward += reward\n",
        "        return cum_reward / evals\n",
        "    \n",
        "    def set_state_by_hash(self, state_hash, turn):\n",
        "        self.env.reset()\n",
        "        size = self.env.n_rows\n",
        "        board = np.array([int(c) - 1 for c in state_hash]).reshape(size, size)\n",
        "        self.env.board = board\n",
        "        self.env.curTurn = turn\n",
        "        env.empty_spaces = None\n",
        "        return self.env.getState()\n",
        "    \n",
        "    def emulate(self, state, turn):\n",
        "        state = self.set_state_by_hash(state, turn)\n",
        "        is_terminal = False\n",
        "        done = False\n",
        "        \n",
        "        if self.env.isTerminal() is not None:\n",
        "            reward = self.env.isTerminal()\n",
        "            done = True\n",
        "            is_terminal = True        \n",
        "        \n",
        "        while not done:\n",
        "            if self.env.curTurn == self.player:\n",
        "                action = self.agent.get_action(state)\n",
        "            else:\n",
        "                action = random.choice(state.actions)\n",
        "            state, reward, done, _ = self.env.step(action)      \n",
        "        \n",
        "        return reward, is_terminal\n",
        "            \n",
        "            \n",
        "    def rollout(self, node):\n",
        "        if node.is_terminal:\n",
        "            c_score = int(node.c_wins > 0)\n",
        "            n_score = int(node.n_wins > 0)\n",
        "            return c_score, n_score, node.is_terminal\n",
        "        c_score = 0\n",
        "        n_score = 0\n",
        "        \n",
        "        turn = node.turn * -1\n",
        "        state = node.state\n",
        "\n",
        "        reward, is_terminal = self.emulate(state, turn)\n",
        "        if reward == 1:\n",
        "            c_score += 1\n",
        "        if reward == -1:\n",
        "            n_score += 1\n",
        "        \n",
        "        return c_score, n_score, is_terminal\n",
        "            \n",
        "    def learn(self):\n",
        "        cur = self.root\n",
        "        \n",
        "        while True:\n",
        "            if cur.is_terminal:\n",
        "                c_score, n_score, is_terminal = self.rollout(cur)\n",
        "                cur.c_wins += c_score\n",
        "                cur.n_wins += n_score\n",
        "                cur.is_terminal = is_terminal\n",
        "                cur.is_new = False\n",
        "                self.lift(cur, c_score, n_score)\n",
        "                break\n",
        "            \n",
        "            state = self.set_state_by_hash(cur.state, cur.turn)\n",
        "            actions = set(state.actions)\n",
        "            child_actions = {child.action for child in cur.children}\n",
        "            left_actions = list(actions - child_actions)\n",
        "            \n",
        "            if left_actions:\n",
        "                action = random.choice(left_actions)\n",
        "                new_turn = cur.turn * -1\n",
        "                new_state = self.predict_state(cur.state, action, new_turn)\n",
        "                \n",
        "                child = TreeNode(state=new_state, action=action, turn=new_turn, parent=cur)\n",
        "                \n",
        "                cur.children.append(child)\n",
        "                \n",
        "                c_score, n_score, is_terminal = self.rollout(child)\n",
        "                child.c_wins += c_score\n",
        "                child.n_wins += n_score\n",
        "                child.is_terminal = is_terminal\n",
        "                child.is_new = False\n",
        "                self.lift(child, c_score, n_score)\n",
        "                \n",
        "            else:\n",
        "                if cur.turn == -self.player:\n",
        "                    child = self.next_child(cur)\n",
        "                else:\n",
        "                    child = random.choice(cur.children)\n",
        "                \n",
        "            cur = child\n",
        "            \n",
        "    def fit(self, iters, every, verbose=False):\n",
        "        x = []\n",
        "        rewards = []\n",
        "        for i in tqdm(range(iters)):\n",
        "            self.learn()\n",
        "            if i % every == 0:\n",
        "                mean_reward = self.evaluate(self.player, evals=500)\n",
        "                x.append(i)\n",
        "                rewards.append(mean_reward)\n",
        "                if verbose:\n",
        "                    print(f'Episode #{i}, {mean_reward}')\n",
        "        return (x, rewards)"
      ],
      "execution_count": 23,
      "outputs": []
    },
    {
      "cell_type": "code",
      "metadata": {
        "id": "ilEmtaYjv2DS"
      },
      "source": [
        "def plot_mcts(data, title):\n",
        "    plt.figure(figsize=(12, 6))\n",
        "    plt.title(title)\n",
        "    plt.xlabel('Episodes')\n",
        "    plt.ylabel('Avg reward')\n",
        "    plt.grid(True)\n",
        "    plt.plot(data[0][0],  np.array(data[0][1]), label='X')\n",
        "    plt.plot(data[1][0], -np.array(data[1][1]), label='O')\n",
        "    plt.legend()"
      ],
      "execution_count": 24,
      "outputs": []
    },
    {
      "cell_type": "code",
      "metadata": {
        "colab": {
          "base_uri": "https://localhost:8080/"
        },
        "id": "WP_MGpdfv9ew",
        "outputId": "7d949262-ad49-43f5-fa94-7c93e77df43e"
      },
      "source": [
        "env = TicTacToe(3, 3)\n",
        "c_mcts = MCTS(env, RandomAgent(env), 1, 1.5)\n",
        "n_mcts = MCTS(env, RandomAgent(env), -1, 1.5)\n",
        "iters = 30000\n",
        "every = 100\n",
        "data = (c_mcts.fit(iters=iters, every=every, verbose=False), n_mcts.fit(iters=iters, every=every))"
      ],
      "execution_count": 25,
      "outputs": [
        {
          "output_type": "stream",
          "name": "stderr",
          "text": [
            "100%|██████████| 30000/30000 [01:45<00:00, 283.87it/s]\n",
            "100%|██████████| 30000/30000 [02:09<00:00, 232.23it/s]\n"
          ]
        }
      ]
    },
    {
      "cell_type": "code",
      "metadata": {
        "colab": {
          "base_uri": "https://localhost:8080/",
          "height": 404
        },
        "id": "-1-a4k9MwAit",
        "outputId": "6f6f7c2a-bf4d-466b-c76a-29bebd7da837"
      },
      "source": [
        "plot_mcts(data, 'MCTS 3x3')"
      ],
      "execution_count": 26,
      "outputs": [
        {
          "output_type": "display_data",
          "data": {
            "image/png": "[encoded data removed]",
            "text/plain": [
              "<Figure size 864x432 with 1 Axes>"
            ]
          },
          "metadata": {
            "needs_background": "light"
          }
        }
      ]
    },
    {
      "cell_type": "code",
      "metadata": {
        "colab": {
          "base_uri": "https://localhost:8080/"
        },
        "id": "UXi1VK1pwEEh",
        "outputId": "aa7ff11e-e2ba-4f85-fb0b-5b2209ede00b"
      },
      "source": [
        "env = TicTacToe(4, 4, 4)\n",
        "c_mcts = MCTS(env, RandomAgent(env), 1, 1.5)\n",
        "n_mcts = MCTS(env, RandomAgent(env), -1, 1.5)\n",
        "iters = 30000\n",
        "every = 100\n",
        "data = (c_mcts.fit(iters=iters, every=every, verbose=False), n_mcts.fit(iters=iters, every=every))"
      ],
      "execution_count": 27,
      "outputs": [
        {
          "output_type": "stream",
          "name": "stderr",
          "text": [
            "100%|██████████| 30000/30000 [10:03<00:00, 49.73it/s]\n",
            "100%|██████████| 30000/30000 [10:06<00:00, 49.46it/s]\n"
          ]
        }
      ]
    },
    {
      "cell_type": "code",
      "metadata": {
        "colab": {
          "base_uri": "https://localhost:8080/",
          "height": 404
        },
        "id": "E00Kx_n7xFfS",
        "outputId": "f02c7695-6494-4996-98d9-0aa8b00a59e9"
      },
      "source": [
        "plot_mcts(data, 'MCTS 4x4')"
      ],
      "execution_count": 28,
      "outputs": [
        {
          "output_type": "display_data",
          "data": {
            "image/png": "[encoded data removed]",
            "text/plain": [
              "<Figure size 864x432 with 1 Axes>"
            ]
          },
          "metadata": {
            "needs_background": "light"
          }
        }
      ]
    },
    {
      "cell_type": "code",
      "metadata": {
        "id": "zVIFQU4NxIVP"
      },
      "source": [
        ""
      ],
      "execution_count": null,
      "outputs": []
    }
  ]
}